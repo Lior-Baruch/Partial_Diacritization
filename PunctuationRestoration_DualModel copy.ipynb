{
 "cells": [
  {
   "cell_type": "code",
   "execution_count": 1,
   "metadata": {},
   "outputs": [],
   "source": [
    "# pip installs"
   ]
  },
  {
   "cell_type": "code",
   "execution_count": 2,
   "metadata": {},
   "outputs": [
    {
     "name": "stdout",
     "output_type": "stream",
     "text": [
      "cuda\n"
     ]
    }
   ],
   "source": [
    "import os\n",
    "import re\n",
    "import numpy as np\n",
    "import pandas as pd\n",
    "import matplotlib.pyplot as plt\n",
    "import seaborn as sns\n",
    "import pickle\n",
    "\n",
    "import torch\n",
    "import torch.nn as nn\n",
    "import torch.nn.functional as F\n",
    "import torch.optim as optim\n",
    "from torch.utils.data import Dataset, DataLoader\n",
    "from torch.nn.utils.rnn import pad_sequence\n",
    "from torch.nn import TransformerEncoder, TransformerEncoderLayer\n",
    "from torch.nn import TransformerDecoder, TransformerDecoderLayer\n",
    "from torch.nn import Transformer\n",
    "\n",
    "from sklearn.model_selection import train_test_split\n",
    "import statistics\n",
    "from tqdm import tqdm\n",
    "\n",
    "from sklearn import metrics\n",
    "from sklearn.metrics import accuracy_score , roc_auc_score, classification_report\n",
    "from sklearn.metrics import confusion_matrix, precision_recall_fscore_support\n",
    "\n",
    "from zipfile import ZipFile\n",
    "\n",
    "from tokenizers import Tokenizer, models, pre_tokenizers, trainers\n",
    "from transformers import AutoTokenizer, AutoModelForMaskedLM\n",
    "\n",
    "import requests\n",
    "import os\n",
    "import json\n",
    "\n",
    "from torch.utils.data import Dataset, DataLoader, random_split\n",
    "import random\n",
    "import math\n",
    "# set device\n",
    "device = torch.device(\"cuda\" if torch.cuda.is_available() else \"cpu\")\n",
    "print(device)"
   ]
  },
  {
   "cell_type": "markdown",
   "metadata": {},
   "source": [
    "### Define seeds"
   ]
  },
  {
   "cell_type": "code",
   "execution_count": 3,
   "metadata": {},
   "outputs": [],
   "source": [
    "# define seed for reproducibility\n",
    "seed = 42\n",
    "torch.manual_seed(seed)\n",
    "np.random.seed(seed)\n",
    "random.seed(seed)"
   ]
  },
  {
   "cell_type": "markdown",
   "metadata": {},
   "source": [
    "# Functions to clean the data"
   ]
  },
  {
   "cell_type": "code",
   "execution_count": 4,
   "metadata": {},
   "outputs": [],
   "source": [
    "# Nikud unicode range (https://en.wikipedia.org/wiki/Unicode_and_HTML_for_the_Hebrew_alphabet)\n",
    "\n",
    "\n",
    "#dictionary of nikud to name\n",
    "nikud_dict = { 'ְ' : 'Sheva', 'ֱ' : 'Hataf Segol', 'ֲ' : 'Hataf Patah', 'ֳ' : 'Hataf Qamats', 'ִ' : 'Hiriq', 'ֵ' : 'Tseri', 'ֶ' : 'Segol', 'ַ' : 'Patah', 'ָ' : 'Qamats', 'ֹ' : 'Holam', 'ֻ' : 'Qubuts', 'ּ' : 'Dagesh', 'ֽ' : 'Siluk', '־' : 'Maqaf', 'ֿ' : 'Rafe', 'ׁ' : 'Shin Dot', 'ׂ' : 'Sin Dot', 'ׄ' : 'Upper Dot', 'ׅ' : 'Lower Dot', 'ׇ' : 'Point Meteg', 'װ' : 'Yiddish Double Vav', 'ױ' : 'Yiddish Vav Yod', 'ײ' : 'Yiddish Double Yod', '׳' : 'Geresh', '״' : 'Gershayim' }\n",
    "# make inverse dictionary\n",
    "nikud_dict_inv = {v: k for k, v in nikud_dict.items()}\n",
    "\n",
    "# Read a txt file from the author files dictionary\n",
    "def read_txt_file(file_path):\n",
    "    \"\"\"\n",
    "    This function reads a txt file and returns the text as a string.\n",
    "    \"\"\"\n",
    "    with open(file_path, 'r', encoding='utf-8') as f:\n",
    "        text = f.read()\n",
    "    return text\n",
    "\n",
    "def remove_nikud(string):\n",
    "    \"\"\"Removes the nikud from the given string.\"\"\"\n",
    "    nikud = re.compile(r'[\\u0591-\\u05C7]')\n",
    "    return nikud.sub(\"\", string)\n",
    "\n",
    "def get_nikud(word):\n",
    "    \"\"\"Returns the nikud from the given word.\"\"\"\n",
    "    nikud = re.compile(r'[\\u0591-\\u05C7]')\n",
    "    current_nikud = ''\n",
    "    nikud_arr = []\n",
    "    for i in range(len(word)):\n",
    "        if i == 0:\n",
    "            continue\n",
    "        if nikud.match(word[i]):\n",
    "            current_nikud += word[i]\n",
    "        else:\n",
    "            nikud_arr.append(current_nikud)\n",
    "            current_nikud = ''\n",
    "    nikud_arr.append(current_nikud)\n",
    "    return nikud_arr\n",
    "\n",
    "def add_nikud(word, nikud):\n",
    "    \"\"\"Adds the nikud to the given word.\"\"\"\n",
    "    new_word = ''\n",
    "    for i in range(len(word)):\n",
    "        new_word += word[i] + nikud[i]\n",
    "    return new_word\n",
    "\n",
    "def add_nikud_to_text(text, nikud):\n",
    "    \"\"\"Adds the nikud to the given text.\"\"\"\n",
    "    new_text = ''\n",
    "    for word in text.split(' '):\n",
    "        new_text += add_nikud(word, nikud) + ' '\n",
    "    return new_text\n",
    "\n",
    "def remove_first_char_if_nikud(word):\n",
    "    \"\"\"Removes the first char of the word if it is nikud.\"\"\"\n",
    "    nikud = re.compile(r'[\\u0591-\\u05C7]')\n",
    "    if nikud.match(word[0]):\n",
    "        return word[1:]\n",
    "    return word\n",
    "\n",
    "def get_words_indices_from_text(text):\n",
    "    \"\"\"Returns the indices of the words in the given text.\"\"\"\n",
    "    text_words = text.split()\n",
    "    text_words_lengths = list(map(len, text_words))\n",
    "    text_words_indices = [(sum(text_words_lengths[:i]), sum(text_words_lengths[:i+1])-1) for i in range(len(text_words_lengths))]\n",
    "    return text_words_indices"
   ]
  },
  {
   "cell_type": "markdown",
   "metadata": {},
   "source": [
    "#### Load the data from the csv and remove sentences with more than 100 chars (without spaces) and save as json"
   ]
  },
  {
   "cell_type": "markdown",
   "metadata": {},
   "source": [
    "##### read the json short data"
   ]
  },
  {
   "cell_type": "code",
   "execution_count": 5,
   "metadata": {},
   "outputs": [
    {
     "name": "stdout",
     "output_type": "stream",
     "text": [
      "(55000, 6)\n"
     ]
    }
   ],
   "source": [
    "# read the json file\n",
    "data_df = pd.read_json('data/full_data_without_puncts.json', orient='records', lines=True, nrows=55000)\n",
    "print(data_df.shape)"
   ]
  },
  {
   "cell_type": "code",
   "execution_count": 6,
   "metadata": {},
   "outputs": [
    {
     "name": "stdout",
     "output_type": "stream",
     "text": [
      "(5000, 6)\n"
     ]
    }
   ],
   "source": [
    "# DELETE this block, only for debugging make the data smaller (randomly select 5000 rows)\n",
    "data_df = data_df.sample(n=5000, random_state=1)\n",
    "print(data_df.shape)"
   ]
  },
  {
   "cell_type": "markdown",
   "metadata": {},
   "source": [
    "#### Define dictionary label_to_id and id_to_label\n"
   ]
  },
  {
   "cell_type": "code",
   "execution_count": 7,
   "metadata": {},
   "outputs": [
    {
     "name": "stderr",
     "output_type": "stream",
     "text": [
      "100%|██████████| 5000/5000 [00:00<00:00, 86217.40it/s]"
     ]
    },
    {
     "name": "stdout",
     "output_type": "stream",
     "text": [
      "{'<no_nikud>': 0, 'ְ': 1, 'ִ': 2, 'ֵ': 3, 'ֶ': 4, 'ֹ': 5, 'ֽ': 6, 'ָ': 7, 'ֲ': 8, 'ַ': 9, 'ֻ': 10, 'ֱ': 11, 'ׇ': 12, 'ֳ': 13, 'ַָ': 14, 'ִַ': 15}\n"
     ]
    },
    {
     "name": "stderr",
     "output_type": "stream",
     "text": [
      "\n"
     ]
    }
   ],
   "source": [
    "label_to_id = {'<no_nikud>': 0}\n",
    "id_to_label = {0: '<no_nikud>'}\n",
    "for label_list in tqdm(data_df['nikud']):\n",
    "    # flatten the list\n",
    "    label_list = [item for sublist in label_list for item in sublist]\n",
    "    for label in label_list:\n",
    "        if len(label) == 0:\n",
    "            label = \"<no_nikud>\"\n",
    "        if label not in label_to_id:\n",
    "            label_to_id[label] = len(label_to_id)\n",
    "            id_to_label[len(id_to_label)] = label\n",
    "\n",
    "print(label_to_id)\n",
    "\n"
   ]
  },
  {
   "cell_type": "markdown",
   "metadata": {},
   "source": [
    "#### count labels for label_weights"
   ]
  },
  {
   "cell_type": "code",
   "execution_count": 8,
   "metadata": {},
   "outputs": [
    {
     "name": "stderr",
     "output_type": "stream",
     "text": [
      "100%|██████████| 5000/5000 [00:00<00:00, 73415.81it/s]"
     ]
    },
    {
     "name": "stdout",
     "output_type": "stream",
     "text": [
      "{'ְ': 25929, 'ִ': 16984, 'ֵ': 10315, '<no_nikud>': 91941, 'ֶ': 8265, 'ֹ': 9664, 'ֽ': 5095, 'ָ': 23296, 'ֲ': 2770, 'ַ': 18470, 'ֻ': 1059, 'ֱ': 353, 'ׇ': 490, 'ֳ': 49, 'ַָ': 1, 'ִַ': 1}\n",
      "[('<no_nikud>', 91941), ('ְ', 25929), ('ָ', 23296), ('ַ', 18470), ('ִ', 16984), ('ֵ', 10315), ('ֹ', 9664), ('ֶ', 8265), ('ֽ', 5095), ('ֲ', 2770), ('ֻ', 1059), ('ׇ', 490), ('ֱ', 353), ('ֳ', 49), ('ַָ', 1), ('ִַ', 1)]\n"
     ]
    },
    {
     "name": "stderr",
     "output_type": "stream",
     "text": [
      "\n"
     ]
    },
    {
     "data": {
      "image/png": "[encoded data removed]",
      "text/plain": [
       "<Figure size 400x200 with 1 Axes>"
      ]
     },
     "metadata": {},
     "output_type": "display_data"
    },
    {
     "name": "stdout",
     "output_type": "stream",
     "text": [
      "{'<no_nikud>': 0.02152641878669276, 'ְ': 0.06523157208088715, 'ִ': 0.06523157208088715, 'ֵ': 0.06523157208088715, 'ֶ': 0.06523157208088715, 'ֹ': 0.06523157208088715, 'ֽ': 0.06523157208088715, 'ָ': 0.06523157208088715, 'ֲ': 0.06523157208088715, 'ַ': 0.06523157208088715, 'ֻ': 0.06523157208088715, 'ֱ': 0.06523157208088715, 'ׇ': 0.06523157208088715, 'ֳ': 0.06523157208088715, 'ַָ': 0.06523157208088715, 'ִַ': 0.06523157208088715}\n"
     ]
    }
   ],
   "source": [
    "# Count the number of each label\n",
    "label_count = {}\n",
    "for label_list in tqdm(data_df['nikud']):\n",
    "    # Flatten the list\n",
    "    label_list = [item for sublist in label_list for item in sublist]\n",
    "    for label in label_list:\n",
    "        if len(label) == 0:\n",
    "            label = \"<no_nikud>\"\n",
    "        if label not in label_count:\n",
    "            label_count[label] = 0\n",
    "        label_count[label] += 1\n",
    "\n",
    "print(label_count)\n",
    "\n",
    "# Plot counts of each label (sorted)\n",
    "sorted_labels = sorted(label_count.items(), key=lambda x: x[1], reverse=True)\n",
    "print(sorted_labels)\n",
    "plt.figure(figsize=(4, 2))\n",
    "plt.xticks(rotation=90)\n",
    "plt.xlabel('Label')\n",
    "plt.ylabel('Count')\n",
    "plt.title('Label Counts')\n",
    "plt.bar([x[0] for x in sorted_labels], [x[1] for x in sorted_labels])\n",
    "plt.show()\n",
    "\n",
    "\n",
    "def set_no_nikud_weight(weight=0.33):\n",
    "    label_weights = {}\n",
    "    for label in label_count:\n",
    "        if label == \"<no_nikud>\":\n",
    "            label_weights[label] = weight\n",
    "        else:\n",
    "            label_weights[label] = 1\n",
    "    sum_weights = sum(label_weights.values())\n",
    "    for label in label_weights:\n",
    "        label_weights[label] /= sum_weights\n",
    "    # sort labels by label_to_id\n",
    "    label_weights = {k: v for k, v in sorted(label_weights.items(), key=lambda item: label_to_id[item[0]])}\n",
    "    return label_weights\n",
    "        \n",
    "label_weights = set_no_nikud_weight()\n",
    "print(label_weights)\n",
    "\n",
    "\n",
    "    "
   ]
  },
  {
   "cell_type": "markdown",
   "metadata": {},
   "source": [
    "#### download tokenizer and model\n",
    "(alephbert-base, with vocab of words with len <= 1)"
   ]
  },
  {
   "cell_type": "code",
   "execution_count": 9,
   "metadata": {},
   "outputs": [],
   "source": [
    "model_path = 'C:\\\\Users\\\\baruc\\\\PycharmProjects\\\\pythonProject\\\\Punctuation_Restoration\\\\AlephBERT-main\\\\AlephBERT-main\\\\models\\\\alephbert-base'\n",
    "alephbert_tokenizer = AutoTokenizer.from_pretrained(model_path)\n",
    "alephbert_model = AutoModelForMaskedLM.from_pretrained(\"onlplab/alephbert-base\")"
   ]
  },
  {
   "cell_type": "markdown",
   "metadata": {},
   "source": [
    "# create DataSet class"
   ]
  },
  {
   "cell_type": "code",
   "execution_count": 10,
   "metadata": {},
   "outputs": [
    {
     "name": "stdout",
     "output_type": "stream",
     "text": [
      "dataset length:  5000\n",
      "attention mask:  tensor([1, 1, 1, 1, 1, 1, 1, 1, 1, 1, 1, 1, 1, 1, 1, 1, 1, 1, 1, 1, 1, 1, 1, 1,\n",
      "        1, 1, 1, 1, 1, 1, 1, 1, 1, 1, 1, 1, 1, 1, 1, 1, 1, 1, 1, 1, 1, 1, 1, 1,\n",
      "        1, 1, 1, 1, 1, 1, 1, 1, 1, 1, 1, 1, 1, 1, 1, 1, 1, 1, 1, 0, 0, 0, 0, 0,\n",
      "        0, 0, 0, 0, 0, 0, 0, 0, 0, 0, 0, 0, 0, 0, 0, 0, 0, 0, 0, 0, 0, 0, 0, 0,\n",
      "        0, 0, 0, 0, 0, 0])\n",
      "input_ids:  tensor([   2,  181, 1016, 1034, 1016,  188, 1006, 1008,  190, 1007, 1009,  183,\n",
      "        1039, 1014,  179,  177, 1033, 1010, 1014, 1064,  179, 1008, 1009,  179,\n",
      "        1047, 1033,  180, 1010, 1008,  187, 1005, 1010,  183, 1075, 1013, 1016,\n",
      "         187, 1005, 1007,  183, 1075, 1013, 1016,  176, 1008, 1049,  176, 1039,\n",
      "        1012,  183, 1010, 1044, 1033,  181, 1009, 1033,  188, 1010,  188, 1007,\n",
      "        1013, 1014,  177, 1038, 1034, 1012,    3,    0,    0,    0,    0,    0,\n",
      "           0,    0,    0,    0,    0,    0,    0,    0,    0,    0,    0,    0,\n",
      "           0,    0,    0,    0,    0,    0,    0,    0,    0,    0,    0,    0,\n",
      "           0,    0,    0,    0,    0,    0])\n",
      "nikud:  tensor([ 0,  1,  2,  3,  0,  1,  2,  0,  0,  0,  0,  4,  4,  0,  0,  1,  5,  6,\n",
      "         4,  1,  0,  0,  0,  0,  0,  0,  7,  3,  0,  1,  0,  5,  8,  7,  7,  0,\n",
      "         0,  0,  0,  8,  7,  7,  0,  3,  0,  0,  7,  7,  0,  0,  5,  3,  0,  1,\n",
      "         5,  0,  0,  5,  1,  9,  3,  0,  1,  2,  7,  0,  0, 16, 16, 16, 16, 16,\n",
      "        16, 16, 16, 16, 16, 16, 16, 16, 16, 16, 16, 16, 16, 16, 16, 16, 16, 16,\n",
      "        16, 16, 16, 16, 16, 16, 16, 16, 16, 16, 16, 16])\n",
      "attention mask:  tensor([1, 1, 1, 1, 1, 1, 1, 1, 1, 1, 1, 1, 1, 1, 1, 1, 1, 1, 1, 1, 1, 1, 1, 1,\n",
      "        1, 1, 1, 1, 1, 1, 1, 1, 1, 1, 1, 1, 1, 1, 1, 1, 1, 1, 1, 1, 1, 1, 1, 1,\n",
      "        1, 1, 1, 1, 1, 1, 1, 1, 1, 1, 1, 1, 1, 1, 0, 0, 0, 0, 0, 0, 0, 0, 0, 0,\n",
      "        0, 0, 0, 0, 0, 0, 0, 0, 0, 0, 0, 0, 0, 0, 0, 0, 0, 0, 0, 0, 0, 0, 0, 0,\n",
      "        0, 0, 0, 0, 0, 0])\n",
      "input_ids:  tensor([   2,  181, 1066, 1049,  176, 1012,  199, 1008, 1039, 1007,  176, 1007,\n",
      "        1016,  180, 1008, 1011, 1016,  190, 1013, 1010, 1039, 1007, 1011,  181,\n",
      "        1039, 1033, 1008,  179, 1047, 1033,  192, 1033, 1005, 1049,  177, 1005,\n",
      "        1013, 1010, 1012,  179, 1009, 1033,  176, 1011, 1038, 1075, 1013,  176,\n",
      "        1008, 1046, 1010, 1014, 1033,  176, 1010,  180, 1008, 1011, 1008, 1014,\n",
      "        1033,    3,    0,    0,    0,    0,    0,    0,    0,    0,    0,    0,\n",
      "           0,    0,    0,    0,    0,    0,    0,    0,    0,    0,    0,    0,\n",
      "           0,    0,    0,    0,    0,    0,    0,    0,    0,    0,    0,    0,\n",
      "           0,    0,    0,    0,    0,    0])\n",
      "nikud:  tensor([ 0,  1,  3,  0,  2,  0,  2,  6,  3,  0,  2,  7,  0,  7,  1,  7,  0,  1,\n",
      "        10,  6,  4,  4,  0,  9,  9,  0,  0,  0,  0,  0,  4, 11,  7,  0,  1,  7,\n",
      "         0,  5,  0,  1,  7,  0,  2,  9,  1,  9,  0,  2,  6,  0,  0,  7,  0,  0,\n",
      "         5,  4,  6,  3,  0,  7,  0,  0, 16, 16, 16, 16, 16, 16, 16, 16, 16, 16,\n",
      "        16, 16, 16, 16, 16, 16, 16, 16, 16, 16, 16, 16, 16, 16, 16, 16, 16, 16,\n",
      "        16, 16, 16, 16, 16, 16, 16, 16, 16, 16, 16, 16])\n",
      "attention mask:  tensor([1, 1, 1, 1, 1, 1, 1, 1, 1, 1, 1, 1, 1, 1, 1, 1, 1, 1, 1, 1, 1, 1, 1, 1,\n",
      "        1, 1, 1, 1, 1, 1, 1, 1, 1, 1, 1, 1, 1, 0, 0, 0, 0, 0, 0, 0, 0, 0, 0, 0,\n",
      "        0, 0, 0, 0, 0, 0, 0, 0, 0, 0, 0, 0, 0, 0, 0, 0, 0, 0, 0, 0, 0, 0, 0, 0,\n",
      "        0, 0, 0, 0, 0, 0, 0, 0, 0, 0, 0, 0, 0, 0, 0, 0, 0, 0, 0, 0, 0, 0, 0, 0,\n",
      "        0, 0, 0, 0, 0, 0])\n",
      "input_ids:  tensor([   2,  181, 1005, 1007, 1034, 1008,  176, 1005, 1014,  199, 1014, 1033,\n",
      "         177, 1013, 1014, 1037,  185, 1007, 1014, 1033, 1009,  177, 1075, 1005,\n",
      "        1049,  201, 1007, 1009, 1010, 1012,  177, 1008, 1007, 1014, 1033, 1009,\n",
      "           3,    0,    0,    0,    0,    0,    0,    0,    0,    0,    0,    0,\n",
      "           0,    0,    0,    0,    0,    0,    0,    0,    0,    0,    0,    0,\n",
      "           0,    0,    0,    0,    0,    0,    0,    0,    0,    0,    0,    0,\n",
      "           0,    0,    0,    0,    0,    0,    0,    0,    0,    0,    0,    0,\n",
      "           0,    0,    0,    0,    0,    0,    0,    0,    0,    0,    0,    0,\n",
      "           0,    0,    0,    0,    0,    0])\n",
      "nikud:  tensor([ 0,  0,  1,  9,  3,  0,  7,  9,  0,  1,  7,  0,  1,  4,  4,  0,  2,  1,\n",
      "         7,  3,  0,  2,  1,  9,  0,  4,  7,  0,  5,  0,  1,  2,  1,  7,  3,  0,\n",
      "         0, 16, 16, 16, 16, 16, 16, 16, 16, 16, 16, 16, 16, 16, 16, 16, 16, 16,\n",
      "        16, 16, 16, 16, 16, 16, 16, 16, 16, 16, 16, 16, 16, 16, 16, 16, 16, 16,\n",
      "        16, 16, 16, 16, 16, 16, 16, 16, 16, 16, 16, 16, 16, 16, 16, 16, 16, 16,\n",
      "        16, 16, 16, 16, 16, 16, 16, 16, 16, 16, 16, 16])\n",
      "attention mask:  tensor([1, 1, 1, 1, 1, 1, 1, 1, 1, 1, 1, 1, 1, 1, 1, 1, 1, 1, 1, 1, 1, 1, 1, 0,\n",
      "        0, 0, 0, 0, 0, 0, 0, 0, 0, 0, 0, 0, 0, 0, 0, 0, 0, 0, 0, 0, 0, 0, 0, 0,\n",
      "        0, 0, 0, 0, 0, 0, 0, 0, 0, 0, 0, 0, 0, 0, 0, 0, 0, 0, 0, 0, 0, 0, 0, 0,\n",
      "        0, 0, 0, 0, 0, 0, 0, 0, 0, 0, 0, 0, 0, 0, 0, 0, 0, 0, 0, 0, 0, 0, 0, 0,\n",
      "        0, 0, 0, 0, 0, 0])\n",
      "input_ids:  tensor([   2,  190, 1005,  183, 1008, 1008, 1037,  187, 1014, 1011,  194, 1009,\n",
      "         177, 1008, 1033, 1011, 1010,  188, 1005, 1013, 1039, 1007,    3,    0,\n",
      "           0,    0,    0,    0,    0,    0,    0,    0,    0,    0,    0,    0,\n",
      "           0,    0,    0,    0,    0,    0,    0,    0,    0,    0,    0,    0,\n",
      "           0,    0,    0,    0,    0,    0,    0,    0,    0,    0,    0,    0,\n",
      "           0,    0,    0,    0,    0,    0,    0,    0,    0,    0,    0,    0,\n",
      "           0,    0,    0,    0,    0,    0,    0,    0,    0,    0,    0,    0,\n",
      "           0,    0,    0,    0,    0,    0,    0,    0,    0,    0,    0,    0,\n",
      "           0,    0,    0,    0,    0,    0])\n",
      "nikud:  tensor([ 0,  0,  0,  9,  7,  6,  0,  7,  3,  0,  9,  0,  2,  0,  7,  0,  5,  9,\n",
      "         2,  1,  7,  0,  0, 16, 16, 16, 16, 16, 16, 16, 16, 16, 16, 16, 16, 16,\n",
      "        16, 16, 16, 16, 16, 16, 16, 16, 16, 16, 16, 16, 16, 16, 16, 16, 16, 16,\n",
      "        16, 16, 16, 16, 16, 16, 16, 16, 16, 16, 16, 16, 16, 16, 16, 16, 16, 16,\n",
      "        16, 16, 16, 16, 16, 16, 16, 16, 16, 16, 16, 16, 16, 16, 16, 16, 16, 16,\n",
      "        16, 16, 16, 16, 16, 16, 16, 16, 16, 16, 16, 16])\n",
      "attention mask:  tensor([1, 1, 1, 1, 1, 1, 1, 1, 1, 1, 1, 1, 1, 1, 1, 1, 1, 1, 1, 1, 1, 1, 1, 1,\n",
      "        1, 1, 1, 1, 1, 1, 1, 1, 1, 1, 1, 1, 1, 1, 1, 0, 0, 0, 0, 0, 0, 0, 0, 0,\n",
      "        0, 0, 0, 0, 0, 0, 0, 0, 0, 0, 0, 0, 0, 0, 0, 0, 0, 0, 0, 0, 0, 0, 0, 0,\n",
      "        0, 0, 0, 0, 0, 0, 0, 0, 0, 0, 0, 0, 0, 0, 0, 0, 0, 0, 0, 0, 0, 0, 0, 0,\n",
      "        0, 0, 0, 0, 0, 0])\n",
      "input_ids:  tensor([   2,  190, 1066, 1009,  180, 1009, 1008, 1049,  184, 1047, 1005, 1008,\n",
      "         192, 1014, 1033, 1016,  177, 1014, 1010, 1014,  201, 1005, 1010, 1011,\n",
      "        1014,  188, 1005, 1010, 1038, 1013, 1010,  180, 1013,  176, 1037, 1014,\n",
      "        1016, 1012,    3,    0,    0,    0,    0,    0,    0,    0,    0,    0,\n",
      "           0,    0,    0,    0,    0,    0,    0,    0,    0,    0,    0,    0,\n",
      "           0,    0,    0,    0,    0,    0,    0,    0,    0,    0,    0,    0,\n",
      "           0,    0,    0,    0,    0,    0,    0,    0,    0,    0,    0,    0,\n",
      "           0,    0,    0,    0,    0,    0,    0,    0,    0,    0,    0,    0,\n",
      "           0,    0,    0,    0,    0,    0])\n",
      "nikud:  tensor([ 0,  2, 12,  0,  7,  3,  0,  0,  9,  1,  3,  0,  2,  1,  4,  0,  7,  0,\n",
      "         0,  0,  4, 10,  6,  7,  0,  1,  0,  5,  8,  0,  5,  0,  0,  9,  1,  7,\n",
      "         7,  0,  0, 16, 16, 16, 16, 16, 16, 16, 16, 16, 16, 16, 16, 16, 16, 16,\n",
      "        16, 16, 16, 16, 16, 16, 16, 16, 16, 16, 16, 16, 16, 16, 16, 16, 16, 16,\n",
      "        16, 16, 16, 16, 16, 16, 16, 16, 16, 16, 16, 16, 16, 16, 16, 16, 16, 16,\n",
      "        16, 16, 16, 16, 16, 16, 16, 16, 16, 16, 16, 16])\n"
     ]
    }
   ],
   "source": [
    "# create pytorch dataset class for punctuation restoration (returns input(text) and target(nikud))\n",
    "\n",
    "class PunctuationRestorationDataset(Dataset):\n",
    "    def __init__(self, data_df, tokenizer, label_to_id, max_len):\n",
    "        self.data = data_df\n",
    "        self.tokenizer = tokenizer\n",
    "        self.max_len = max_len\n",
    "        self.label_to_id = label_to_id \n",
    "        \n",
    "    def __len__(self):\n",
    "        return len(self.data)\n",
    "    \n",
    "    def __getitem__(self, index): # TODO: need to make sure not to look at fraction of words\n",
    "        text = self.data.iloc[index]['text_without_nikud']\n",
    "        nikud = self.data.iloc[index]['nikud']  # list of lists of nikud\n",
    "\n",
    "        # flatten nikud list\n",
    "        nikud = [item for sublist in nikud for item in sublist]\n",
    "        # replace empty strings with <no_nikud> token\n",
    "        nikud = [label if label != \"\" else \"<no_nikud>\" for label in nikud]\n",
    "        # replace labels with ids\n",
    "        nikud = [self.label_to_id[label] for label in nikud]\n",
    "\n",
    "        # check if nikud length is the same as text without spaces length\n",
    "        if len(text.replace(\" \", \"\")) != len(nikud):\n",
    "            print(\"text without spaces length: \", len(text.replace(\" \", \"\")))\n",
    "            print(\"nikud length: \", len(nikud))\n",
    "        \n",
    "        # get word indices after tokenization\n",
    "        word_indices = get_words_indices_from_text(text)\n",
    "        # pad word_indices to be the same length as input_ids\n",
    "        word_indices = word_indices + [(-1, -1)] * (self.max_len - len(word_indices))\n",
    "        # convert word_indices to tensor\n",
    "        word_indices = torch.tensor(word_indices, dtype=torch.long)\n",
    "\n",
    "        encoding = self.tokenizer.encode_plus(\n",
    "            text,\n",
    "            add_special_tokens=True,\n",
    "            max_length=self.max_len,\n",
    "            return_token_type_ids=False,\n",
    "            padding='max_length',\n",
    "            truncation=True,\n",
    "            return_attention_mask=True,\n",
    "            return_tensors='pt'\n",
    "        )\n",
    "\n",
    "        # pad nikud to be the same length as input_ids\n",
    "        nikud = [0] + nikud + [0]\n",
    "        nikud = nikud + [len(label_to_id)] * (encoding['input_ids'].shape[1] - len(nikud))\n",
    "        # convert to tensor\n",
    "        nikud = torch.tensor(nikud, dtype=torch.long)\n",
    "        \n",
    "        return {\n",
    "            'text': text,\n",
    "            'nikud': nikud,\n",
    "            'input_ids': encoding['input_ids'].flatten(),\n",
    "            'attention_mask': encoding['attention_mask'].flatten(),\n",
    "            'word_indices': word_indices\n",
    "        }\n",
    "\n",
    "\n",
    "# create pytorch dataset class for punctuation restoration (returns input(text) and target(nikud))\n",
    "dataset = PunctuationRestorationDataset(data_df, alephbert_tokenizer, label_to_id, 102)\n",
    "print(\"dataset length: \", len(dataset))\n",
    "\n",
    "# iterate over dataset\n",
    "for i in range(5):\n",
    "    sample = dataset[i]\n",
    "    input_ids = sample['input_ids']\n",
    "    attention_mask = sample['attention_mask']\n",
    "    nikud = sample['nikud']\n",
    "    # check that attention mask has 1s where input_ids does not have padding\n",
    "    print(\"attention mask: \", attention_mask)\n",
    "    print(\"input_ids: \", input_ids)\n",
    "    print(\"nikud: \", nikud)"
   ]
  },
  {
   "cell_type": "markdown",
   "metadata": {},
   "source": [
    "#### split to train,val and test datasets and dataloaders"
   ]
  },
  {
   "cell_type": "code",
   "execution_count": 11,
   "metadata": {},
   "outputs": [],
   "source": [
    "# split dataset to train, val and test\n",
    "train_size = int(0.9 * len(dataset))\n",
    "test_size = len(dataset) - train_size\n",
    "train_dataset, test_dataset = random_split(dataset, [train_size, test_size])\n",
    "train_size = int(0.8 * len(train_dataset))\n",
    "val_size = len(train_dataset) - train_size\n",
    "train_dataset, val_dataset = random_split(train_dataset, [train_size, val_size])\n",
    "\n",
    "batch_size = 32\n",
    "\n",
    "# create dataloader\n",
    "train_loader = DataLoader(train_dataset, batch_size=batch_size, shuffle=True)\n",
    "val_loader = DataLoader(val_dataset, batch_size=batch_size, shuffle=True)\n",
    "test_loader = DataLoader(test_dataset, batch_size=batch_size, shuffle=True)"
   ]
  },
  {
   "cell_type": "markdown",
   "metadata": {},
   "source": [
    "## Full-Sentence Model"
   ]
  },
  {
   "cell_type": "code",
   "execution_count": 12,
   "metadata": {},
   "outputs": [],
   "source": [
    "class PositionalEncoding(nn.Module):\n",
    "    def __init__(self, d_model, max_len, dropout=0.1):\n",
    "        super(PositionalEncoding, self).__init__()\n",
    "        self.dropout = nn.Dropout(p=dropout)\n",
    "        pe = torch.zeros(max_len, d_model)\n",
    "        position = torch.arange(0, max_len, dtype=torch.float).unsqueeze(1)\n",
    "        div_term = torch.exp(torch.arange(0, d_model, 2).float() * (-np.log(10000.0) / d_model))\n",
    "        pe[:, 0::2] = torch.sin(position * div_term)\n",
    "        pe[:, 1::2] = torch.cos(position * div_term)\n",
    "        pe = pe.unsqueeze(0).transpose(0, 1)\n",
    "        self.register_buffer('pe', pe)\n",
    "\n",
    "    def forward(self, char_embeddings):\n",
    "        return self.dropout(char_embeddings + self.pe[:char_embeddings.size(0), :])\n",
    "\n",
    "\n",
    "class TransformerModel(nn.Module):\n",
    "    def __init__(self, vocab_size, d_model=512, nhead=8, num_encoder_layers=6, num_decoder_layers=6, dim_feedforward=2048, max_seq_length=102):\n",
    "        super(TransformerModel, self).__init__()\n",
    "        \n",
    "        self.embedding = nn.Embedding(vocab_size, d_model)\n",
    "        self.transformer = nn.Transformer(d_model, nhead, num_encoder_layers, num_decoder_layers, dim_feedforward, batch_first=True)\n",
    "        self.output_layer = nn.Linear(d_model, len(label_to_id))\n",
    "        self.pos_encoder = PositionalEncoding(d_model, max_seq_length)\n",
    "        \n",
    "    def forward(self, src, tgt, src_mask=None, tgt_mask=None, src_key_padding_mask=None, tgt_key_padding_mask=None):\n",
    "        # get transformers d_model\n",
    "        d_model = self.transformer.d_model\n",
    "        src, tgt = self.embedding(src) * math.sqrt(d_model), self.embedding(tgt) * math.sqrt(d_model)\n",
    "        src, tgt = self.pos_encoder(src), self.pos_encoder(tgt)\n",
    "\n",
    "        output = self.transformer(src, tgt, src_mask=src_mask, tgt_mask=tgt_mask, src_key_padding_mask=src_key_padding_mask, tgt_key_padding_mask=tgt_key_padding_mask)\n",
    "        return self.output_layer(output)\n",
    "\n",
    "# MASKING\n",
    "def generate_square_subsequent_mask(sz):\n",
    "    mask = torch.ones(sz, sz)\n",
    "    mask = torch.triu(mask)\n",
    "    mask = (mask == 1)\n",
    "    mask = mask.transpose(0, 1)\n",
    "    mask = mask.float()\n",
    "    mask = mask.masked_fill(mask == 0, float('-inf'))\n",
    "    mask = mask.masked_fill(mask == 1, float(0.0))\n",
    "    return mask\n"
   ]
  },
  {
   "cell_type": "code",
   "execution_count": 15,
   "metadata": {},
   "outputs": [
    {
     "name": "stdout",
     "output_type": "stream",
     "text": [
      "number of parameters:  45071376\n",
      "tensor([0.0323, 0.0645, 0.0645, 0.0645, 0.0645, 0.0645, 0.0645, 0.0645, 0.0645,\n",
      "        0.0645, 0.0645, 0.0645, 0.0645, 0.0645, 0.0645, 0.0645],\n",
      "       device='cuda:0')\n"
     ]
    }
   ],
   "source": [
    "def train_epoch(model, train_loader, criterion, optimizer):\n",
    "    model.train()\n",
    "    total_loss = 0\n",
    "    correct_predictions = 0\n",
    "    total_predictions = 0\n",
    "    \n",
    "    for batch in tqdm(train_loader):\n",
    "        src = batch[\"input_ids\"].to(device)\n",
    "        tgt = batch[\"nikud\"].to(device)\n",
    "        padding_mask = batch[\"attention_mask\"].to(device)\n",
    "        # conver padding mask to boolean mask\n",
    "        padding_mask = padding_mask == 0\n",
    "        # convert padding mask to float\n",
    "        padding_mask = padding_mask.float()\n",
    "        \n",
    "        \n",
    "        tgt_input = tgt[:, :-1]\n",
    "        tgt_input_padding_mask = padding_mask[:, :-1]\n",
    "        tgt_output = tgt[:, 1:]\n",
    "        tgt_output_padding_mask = padding_mask[:, 1:]\n",
    "        seq_len = tgt_input.size(1)\n",
    "        tgt_mask = generate_square_subsequent_mask(seq_len).to(device)\n",
    "        \n",
    "        optimizer.zero_grad()\n",
    "        output = model.forward(src, tgt_input, tgt_mask=tgt_mask, src_key_padding_mask=padding_mask, tgt_key_padding_mask=tgt_input_padding_mask)\n",
    "        output = output.view(-1, output.shape[-1])\n",
    "        tgt_output = tgt_output.reshape(-1)\n",
    "        loss = criterion(output, tgt_output)\n",
    "        loss.backward()\n",
    "        optimizer.step()\n",
    "        total_loss += loss.item()\n",
    "        \n",
    "        # Accuracy\n",
    "        pred = output.argmax(1)\n",
    "        tgt_output_padding_mask = tgt_output_padding_mask.reshape(-1)\n",
    "        pred = pred[tgt_output_padding_mask == 0]\n",
    "        tgt_output = tgt_output[tgt_output_padding_mask == 0]\n",
    "        correct_predictions += (pred == tgt_output).sum().item()\n",
    "        total_predictions += tgt_output.numel()\n",
    "\n",
    "    accuracy = correct_predictions / total_predictions\n",
    "    return total_loss / len(train_loader), accuracy\n",
    "\n",
    "def evaluate(model, val_loader, criterion):\n",
    "    model.eval()\n",
    "    total_loss = 0\n",
    "    correct_predictions = 0\n",
    "    total_predictions = 0\n",
    "    \n",
    "    with torch.no_grad():\n",
    "        for batch in tqdm(val_loader):\n",
    "            src = batch[\"input_ids\"].to(device)\n",
    "            tgt = batch[\"nikud\"].to(device)\n",
    "            padding_mask = batch[\"attention_mask\"].to(device)\n",
    "            # conver padding mask to boolean mask\n",
    "            padding_mask = padding_mask == 0\n",
    "            # convert padding mask to float\n",
    "            padding_mask = padding_mask.float()\n",
    "            \n",
    "            tgt_input = tgt[:, :-1]\n",
    "            tgt_input_padding_mask = padding_mask[:, :-1]\n",
    "            tgt_output = tgt[:, 1:]\n",
    "            tgt_output_padding_mask = padding_mask[:, 1:]\n",
    "            seq_len = tgt_input.size(1)\n",
    "            tgt_mask = generate_square_subsequent_mask(seq_len).to(device)\n",
    "            \n",
    "            output = model.forward(src, tgt_input, tgt_mask=tgt_mask, src_key_padding_mask=padding_mask, tgt_key_padding_mask=tgt_input_padding_mask)\n",
    "            output = output.view(-1, output.shape[-1])\n",
    "            tgt_output = tgt_output.reshape(-1)\n",
    "            loss = criterion(output, tgt_output)\n",
    "            total_loss += loss.item()\n",
    "            \n",
    "            # Accuracy\n",
    "            pred = output.argmax(1)\n",
    "            tgt_output_padding_mask = tgt_output_padding_mask.reshape(-1)\n",
    "            pred = pred[tgt_output_padding_mask == 0]\n",
    "            tgt_output = tgt_output[tgt_output_padding_mask == 0]\n",
    "            correct_predictions += (pred == tgt_output).sum().item()\n",
    "            total_predictions += tgt_output.numel()\n",
    "            print(\"pred: \", pred)\n",
    "            print(\"tgt_output: \", tgt_output)\n",
    "    \n",
    "    accuracy = correct_predictions / total_predictions\n",
    "    return total_loss / len(val_loader), accuracy\n",
    "\n",
    "\n",
    "def generate(model, src, max_len):\n",
    "    model.eval()\n",
    "    outputs = []\n",
    "    \n",
    "    # Loop over each sequence in the batch\n",
    "    for s in src:\n",
    "        s = s.unsqueeze(0)  # Add batch dimension\n",
    "        original_len = s.size(1)  # Track original sequence length\n",
    "        tgt_init_tok = [1]  # Assuming 1 is the <SOS> token id\n",
    "        tgt = torch.LongTensor(tgt_init_tok).unsqueeze(0).to(device)\n",
    "        \n",
    "        # Pad (or truncate) tgt to match the length of s\n",
    "        if tgt.size(1) < original_len:\n",
    "            padding_size = original_len - tgt.size(1)\n",
    "            padding = torch.zeros(tgt.size(0), padding_size).long().to(device)\n",
    "            tgt = torch.cat([tgt, padding], dim=1)\n",
    "        else:\n",
    "            tgt = tgt[:, :original_len]\n",
    "\n",
    "        for i in range(max_len):\n",
    "            tgt_mask = generate_square_subsequent_mask(tgt.size(1)).to(device)\n",
    "            output = model(s, tgt, tgt_mask=tgt_mask)\n",
    "            next_word = output.argmax(2)[-1, :].item()\n",
    "            tgt = tgt[:, :-1]  # Remove last token (either padding or previous token)\n",
    "            tgt = torch.cat([tgt, torch.LongTensor([next_word]).unsqueeze(0).to(device)], dim=1)\n",
    "            \n",
    "            if next_word == 2:  # Assuming 2 is the <EOS> token id\n",
    "                break\n",
    "        outputs.append(tgt.squeeze(1))  # Remove batch dimension\n",
    "        \n",
    "    return torch.stack(outputs, dim=0)  # Convert list of tensors to a single tensor\n",
    "\n",
    "\n",
    "\n",
    "\n",
    "\n",
    "# hyperparameters\n",
    "epochs = 5\n",
    "\n",
    "d_model = 512\n",
    "nhead = 8\n",
    "num_encoder_layers = 6\n",
    "num_decoder_layers = 6\n",
    "dim_feedforward = 2048\n",
    "max_seq_length = 102\n",
    "batch_size = 32\n",
    "lr = 0.0001\n",
    "seed = 42\n",
    "vocab_size = alephbert_tokenizer.vocab_size\n",
    "num_classes = len(label_to_id)\n",
    "\n",
    "# set seed\n",
    "torch.manual_seed(seed)\n",
    "np.random.seed(seed)\n",
    "\n",
    "# create model\n",
    "model = TransformerModel(vocab_size, d_model, nhead, num_encoder_layers, num_decoder_layers, dim_feedforward, max_seq_length)\n",
    "model.to(device)\n",
    "print(\"number of parameters: \", sum(p.numel() for p in model.parameters() if p.requires_grad))\n",
    "\n",
    "# create optimizer and loss function\n",
    "optimizer = torch.optim.Adam(model.parameters(), lr=lr)\n",
    "label_weights = set_no_nikud_weight(0.5)\n",
    "label_weights = label_weights.values()\n",
    "label_weights = torch.tensor(list(label_weights)).to(device)\n",
    "print(label_weights)\n",
    "\n",
    "criterion = nn.CrossEntropyLoss(ignore_index=len(id_to_label), weight=label_weights)"
   ]
  },
  {
   "cell_type": "code",
   "execution_count": 16,
   "metadata": {},
   "outputs": [
    {
     "name": "stderr",
     "output_type": "stream",
     "text": [
      "100%|██████████| 113/113 [00:24<00:00,  4.54it/s]\n",
      "  0%|          | 0/29 [00:00<?, ?it/s]c:\\Users\\baruc\\anaconda3\\envs\\NLP\\lib\\site-packages\\torch\\nn\\modules\\activation.py:1160: UserWarning: Converting mask without torch.bool dtype to bool; this will negatively affect performance. Prefer to use a boolean mask directly. (Triggered internally at ..\\aten\\src\\ATen\\native\\transformers\\attention.cpp:152.)\n",
      "  return torch._native_multi_head_attention(\n",
      "  7%|▋         | 2/29 [00:00<00:01, 15.32it/s]"
     ]
    },
    {
     "name": "stdout",
     "output_type": "stream",
     "text": [
      "pred:  tensor([0, 0, 0,  ..., 0, 0, 0], device='cuda:0')\n",
      "tgt_output:  tensor([0, 7, 4,  ..., 0, 0, 0], device='cuda:0')\n",
      "pred:  tensor([0, 0, 0,  ..., 0, 0, 0], device='cuda:0')\n",
      "tgt_output:  tensor([0, 0, 0,  ..., 3, 0, 0], device='cuda:0')\n",
      "pred:  tensor([0, 0, 0,  ..., 0, 0, 0], device='cuda:0')\n",
      "tgt_output:  tensor([3, 0, 7,  ..., 7, 0, 0], device='cuda:0')\n"
     ]
    },
    {
     "name": "stderr",
     "output_type": "stream",
     "text": [
      " 21%|██        | 6/29 [00:00<00:01, 15.57it/s]"
     ]
    },
    {
     "name": "stdout",
     "output_type": "stream",
     "text": [
      "pred:  tensor([0, 0, 0,  ..., 0, 0, 0], device='cuda:0')\n",
      "tgt_output:  tensor([1, 3, 0,  ..., 3, 0, 0], device='cuda:0')\n",
      "pred:  tensor([0, 0, 0,  ..., 0, 0, 0], device='cuda:0')\n",
      "tgt_output:  tensor([0, 0, 0,  ..., 7, 0, 0], device='cuda:0')\n",
      "pred:  tensor([0, 0, 0,  ..., 0, 0, 0], device='cuda:0')\n",
      "tgt_output:  tensor([7, 3, 2,  ..., 0, 0, 0], device='cuda:0')\n",
      "pred:  tensor([0, 0, 0,  ..., 0, 0, 0], device='cuda:0')\n",
      "tgt_output:  tensor([2, 3, 0,  ..., 0, 0, 0], device='cuda:0')\n"
     ]
    },
    {
     "name": "stderr",
     "output_type": "stream",
     "text": [
      " 34%|███▍      | 10/29 [00:00<00:01, 15.50it/s]"
     ]
    },
    {
     "name": "stdout",
     "output_type": "stream",
     "text": [
      "pred:  tensor([0, 0, 0,  ..., 0, 0, 0], device='cuda:0')\n",
      "tgt_output:  tensor([8, 7, 0,  ..., 3, 0, 0], device='cuda:0')\n",
      "pred:  tensor([0, 0, 0,  ..., 0, 0, 0], device='cuda:0')\n",
      "tgt_output:  tensor([0, 1, 9,  ..., 7, 0, 0], device='cuda:0')\n",
      "pred:  tensor([0, 0, 0,  ..., 0, 0, 0], device='cuda:0')\n",
      "tgt_output:  tensor([7, 4, 0,  ..., 0, 0, 0], device='cuda:0')\n",
      "pred:  tensor([0, 0, 0,  ..., 0, 0, 0], device='cuda:0')\n",
      "tgt_output:  tensor([0, 0, 0,  ..., 3, 0, 0], device='cuda:0')\n"
     ]
    },
    {
     "name": "stderr",
     "output_type": "stream",
     "text": [
      " 48%|████▊     | 14/29 [00:00<00:00, 15.54it/s]"
     ]
    },
    {
     "name": "stdout",
     "output_type": "stream",
     "text": [
      "pred:  tensor([0, 0, 0,  ..., 0, 0, 0], device='cuda:0')\n",
      "tgt_output:  tensor([4, 7, 0,  ..., 0, 0, 0], device='cuda:0')\n",
      "pred:  tensor([0, 0, 0,  ..., 0, 0, 0], device='cuda:0')\n",
      "tgt_output:  tensor([0, 0, 0,  ..., 3, 0, 0], device='cuda:0')\n",
      "pred:  tensor([0, 0, 0,  ..., 0, 0, 0], device='cuda:0')\n",
      "tgt_output:  tensor([2, 3, 0,  ..., 0, 0, 0], device='cuda:0')\n",
      "pred:  tensor([0, 0, 0,  ..., 0, 0, 0], device='cuda:0')\n",
      "tgt_output:  tensor([0, 0, 3,  ..., 0, 0, 0], device='cuda:0')\n"
     ]
    },
    {
     "name": "stderr",
     "output_type": "stream",
     "text": [
      " 62%|██████▏   | 18/29 [00:01<00:00, 15.67it/s]"
     ]
    },
    {
     "name": "stdout",
     "output_type": "stream",
     "text": [
      "pred:  tensor([0, 0, 0,  ..., 0, 0, 0], device='cuda:0')\n",
      "tgt_output:  tensor([0, 0, 0,  ..., 7, 0, 0], device='cuda:0')\n",
      "pred:  tensor([0, 0, 0,  ..., 0, 0, 0], device='cuda:0')\n",
      "tgt_output:  tensor([1, 9, 9,  ..., 7, 0, 0], device='cuda:0')\n",
      "pred:  tensor([0, 0, 0,  ..., 0, 0, 0], device='cuda:0')\n",
      "tgt_output:  tensor([8, 7, 0,  ..., 3, 0, 0], device='cuda:0')\n"
     ]
    },
    {
     "name": "stderr",
     "output_type": "stream",
     "text": [
      " 76%|███████▌  | 22/29 [00:01<00:00, 15.96it/s]"
     ]
    },
    {
     "name": "stdout",
     "output_type": "stream",
     "text": [
      "pred:  tensor([0, 0, 0,  ..., 0, 0, 0], device='cuda:0')\n",
      "tgt_output:  tensor([7, 0, 1,  ..., 7, 0, 0], device='cuda:0')\n",
      "pred:  tensor([0, 0, 0,  ..., 0, 0, 0], device='cuda:0')\n",
      "tgt_output:  tensor([0, 0, 0,  ..., 7, 0, 0], device='cuda:0')\n",
      "pred:  tensor([0, 0, 0,  ..., 0, 0, 0], device='cuda:0')\n",
      "tgt_output:  tensor([1, 3, 0,  ..., 4, 0, 0], device='cuda:0')\n",
      "pred:  tensor([0, 0, 0,  ..., 0, 0, 0], device='cuda:0')\n",
      "tgt_output:  tensor([0, 7, 4,  ..., 0, 0, 0], device='cuda:0')\n"
     ]
    },
    {
     "name": "stderr",
     "output_type": "stream",
     "text": [
      " 83%|████████▎ | 24/29 [00:01<00:00, 15.90it/s]"
     ]
    },
    {
     "name": "stdout",
     "output_type": "stream",
     "text": [
      "pred:  tensor([0, 0, 0,  ..., 0, 0, 0], device='cuda:0')\n",
      "tgt_output:  tensor([0, 0, 9,  ..., 9, 0, 0], device='cuda:0')\n",
      "pred:  tensor([0, 0, 0,  ..., 0, 0, 0], device='cuda:0')\n",
      "tgt_output:  tensor([0, 0, 0,  ..., 7, 0, 0], device='cuda:0')\n",
      "pred:  tensor([0, 0, 0,  ..., 0, 0, 0], device='cuda:0')\n",
      "tgt_output:  tensor([1, 0, 5,  ..., 4, 0, 0], device='cuda:0')\n",
      "pred:  tensor([0, 0, 0,  ..., 0, 0, 0], device='cuda:0')\n",
      "tgt_output:  tensor([3, 7, 4,  ..., 0, 0, 0], device='cuda:0')\n"
     ]
    },
    {
     "name": "stderr",
     "output_type": "stream",
     "text": [
      "100%|██████████| 29/29 [00:01<00:00, 16.03it/s]\n"
     ]
    },
    {
     "name": "stdout",
     "output_type": "stream",
     "text": [
      "pred:  tensor([0, 0, 0,  ..., 0, 0, 0], device='cuda:0')\n",
      "tgt_output:  tensor([1, 2, 0,  ..., 0, 0, 0], device='cuda:0')\n",
      "pred:  tensor([0, 0, 0,  ..., 0, 0, 0], device='cuda:0')\n",
      "tgt_output:  tensor([0, 0, 0,  ..., 7, 0, 0], device='cuda:0')\n",
      "pred:  tensor([0, 0, 0, 0, 0, 0, 0, 0, 0, 0, 0, 0, 0, 0, 0, 0, 0, 0, 0, 0, 0, 0, 0, 0,\n",
      "        0, 0, 0, 0, 0, 0, 0, 0, 0, 0, 0, 0, 0, 0, 0, 0, 0, 0, 0, 0, 0, 0, 0, 0,\n",
      "        0, 0, 0, 0, 0, 0, 0, 0, 0, 0, 0, 0, 0, 0, 0, 0, 0, 0, 0, 0, 0, 0, 0, 0,\n",
      "        0, 0, 0, 0, 0, 0, 0, 0, 0, 0, 0, 0, 0, 0, 0, 0, 0, 0, 0, 0, 0, 0, 0, 0,\n",
      "        0, 0, 0, 0, 0, 0, 0, 0, 0, 0, 0, 0, 0, 0, 0, 0, 0, 0, 0, 0, 0, 0, 0, 0,\n",
      "        0, 0, 0, 0, 0, 0, 0, 0, 0, 0, 0, 0, 0, 0, 0, 0, 0, 0, 0, 0, 0, 0, 0, 0,\n",
      "        0, 0, 0, 0, 0, 0, 0, 0, 0, 0, 0, 0, 0, 0, 0, 0, 0, 0, 0, 0, 0, 0, 0, 0,\n",
      "        0, 0, 0, 0], device='cuda:0')\n",
      "tgt_output:  tensor([2, 1, 7, 0, 7, 7, 0, 2, 6, 0, 5, 0, 3, 6, 0, 2, 1, 3, 2, 0, 0, 0, 5, 1,\n",
      "        2, 0, 0, 7, 0, 0, 0, 0, 2, 1, 7, 2, 0, 0, 2, 0, 3, 2, 0, 0, 0, 9, 0, 9,\n",
      "        7, 6, 3, 0, 1, 3, 6, 7, 0, 1, 0, 0, 1, 0, 0, 1, 9, 0, 0, 0, 0, 1, 7, 0,\n",
      "        0, 0, 0, 2, 0, 0, 0, 2, 1, 9, 3, 0, 0, 0, 1, 7, 1, 7, 7, 0, 9, 8, 7, 7,\n",
      "        0, 0, 1, 9, 0, 4, 5, 0, 4, 1, 2, 0, 0, 0, 0, 0, 0, 0, 0, 0, 0, 0, 1, 9,\n",
      "        1, 7, 0, 1, 0, 5, 7, 7, 0, 3, 0, 7, 0, 0, 0, 0, 0, 0, 1, 5, 0, 2, 6, 3,\n",
      "        0, 0, 0, 9, 0, 1, 2, 1, 9, 0, 1, 9, 3, 6, 0, 7, 1, 7, 0, 0, 2, 0, 0, 0,\n",
      "        9, 7, 0, 0], device='cuda:0')\n",
      "Epoch 1: train loss 2.1344975539013347, val loss 2.0780074801938286\n",
      "Epoch 1: train acc 0.42153545951014304, val acc 0.44457907358323867\n"
     ]
    },
    {
     "name": "stderr",
     "output_type": "stream",
     "text": [
      "100%|██████████| 113/113 [00:25<00:00,  4.42it/s]\n",
      "  7%|▋         | 2/29 [00:00<00:01, 15.79it/s]"
     ]
    },
    {
     "name": "stdout",
     "output_type": "stream",
     "text": [
      "pred:  tensor([1, 1, 0,  ..., 0, 7, 5], device='cuda:0')\n",
      "tgt_output:  tensor([2, 7, 3,  ..., 6, 0, 0], device='cuda:0')\n",
      "pred:  tensor([0, 0, 1,  ..., 0, 6, 0], device='cuda:0')\n",
      "tgt_output:  tensor([0, 9, 1,  ..., 5, 0, 0], device='cuda:0')\n",
      "pred:  tensor([1, 1, 1,  ..., 1, 0, 0], device='cuda:0')\n",
      "tgt_output:  tensor([0, 0, 0,  ..., 0, 0, 0], device='cuda:0')\n",
      "pred:  tensor([0, 7, 1,  ..., 7, 0, 0], device='cuda:0')\n",
      "tgt_output:  tensor([1, 9, 0,  ..., 0, 0, 0], device='cuda:0')\n"
     ]
    },
    {
     "name": "stderr",
     "output_type": "stream",
     "text": [
      " 21%|██        | 6/29 [00:00<00:01, 15.82it/s]"
     ]
    },
    {
     "name": "stdout",
     "output_type": "stream",
     "text": [
      "pred:  tensor([1, 8, 0,  ..., 1, 1, 0], device='cuda:0')\n",
      "tgt_output:  tensor([9, 0, 0,  ..., 2, 0, 0], device='cuda:0')\n",
      "pred:  tensor([1, 1, 1,  ..., 0, 0, 0], device='cuda:0')\n",
      "tgt_output:  tensor([0, 0, 0,  ..., 0, 0, 0], device='cuda:0')\n",
      "pred:  tensor([1, 8, 7,  ..., 0, 0, 5], device='cuda:0')\n",
      "tgt_output:  tensor([9, 8, 4,  ..., 3, 0, 0], device='cuda:0')\n",
      "pred:  tensor([1, 1, 1,  ..., 0, 6, 1], device='cuda:0')\n",
      "tgt_output:  tensor([0, 2, 4,  ..., 5, 9, 0], device='cuda:0')\n"
     ]
    },
    {
     "name": "stderr",
     "output_type": "stream",
     "text": [
      " 34%|███▍      | 10/29 [00:00<00:01, 15.37it/s]"
     ]
    },
    {
     "name": "stdout",
     "output_type": "stream",
     "text": [
      "pred:  tensor([1, 7, 0,  ..., 7, 0, 0], device='cuda:0')\n",
      "tgt_output:  tensor([1, 7, 0,  ..., 4, 0, 0], device='cuda:0')\n",
      "pred:  tensor([1, 4, 0,  ..., 0, 0, 7], device='cuda:0')\n",
      "tgt_output:  tensor([4, 0, 0,  ..., 3, 1, 0], device='cuda:0')\n",
      "pred:  tensor([1, 1, 1,  ..., 0, 4, 0], device='cuda:0')\n",
      "tgt_output:  tensor([0, 0, 1,  ..., 4, 0, 0], device='cuda:0')\n",
      "pred:  tensor([1, 1, 1,  ..., 0, 0, 0], device='cuda:0')\n",
      "tgt_output:  tensor([0, 0, 0,  ..., 0, 0, 0], device='cuda:0')\n"
     ]
    },
    {
     "name": "stderr",
     "output_type": "stream",
     "text": [
      " 48%|████▊     | 14/29 [00:00<00:00, 15.28it/s]"
     ]
    },
    {
     "name": "stdout",
     "output_type": "stream",
     "text": [
      "pred:  tensor([0, 0, 0,  ..., 0, 1, 0], device='cuda:0')\n",
      "tgt_output:  tensor([5, 0, 0,  ..., 2, 0, 0], device='cuda:0')\n",
      "pred:  tensor([0, 1, 0,  ..., 7, 0, 0], device='cuda:0')\n",
      "tgt_output:  tensor([2, 0, 2,  ..., 7, 0, 0], device='cuda:0')\n",
      "pred:  tensor([1, 1, 1,  ..., 7, 0, 5], device='cuda:0')\n",
      "tgt_output:  tensor([0, 0, 0,  ..., 3, 0, 0], device='cuda:0')\n",
      "pred:  tensor([1, 7, 0,  ..., 0, 0, 0], device='cuda:0')\n",
      "tgt_output:  tensor([1, 3, 0,  ..., 0, 0, 0], device='cuda:0')\n"
     ]
    },
    {
     "name": "stderr",
     "output_type": "stream",
     "text": [
      " 69%|██████▉   | 20/29 [00:01<00:00, 15.68it/s]"
     ]
    },
    {
     "name": "stdout",
     "output_type": "stream",
     "text": [
      "pred:  tensor([1, 1, 1,  ..., 7, 0, 7], device='cuda:0')\n",
      "tgt_output:  tensor([0, 0, 0,  ..., 3, 6, 0], device='cuda:0')\n",
      "pred:  tensor([1, 1, 1,  ..., 0, 0, 0], device='cuda:0')\n",
      "tgt_output:  tensor([0, 2, 3,  ..., 3, 0, 0], device='cuda:0')\n",
      "pred:  tensor([0, 7, 5,  ..., 0, 1, 0], device='cuda:0')\n",
      "tgt_output:  tensor([1, 0, 0,  ..., 2, 0, 0], device='cuda:0')\n",
      "pred:  tensor([1, 7, 0,  ..., 0, 0, 0], device='cuda:0')\n",
      "tgt_output:  tensor([1, 3, 0,  ..., 7, 0, 0], device='cuda:0')\n"
     ]
    },
    {
     "name": "stderr",
     "output_type": "stream",
     "text": [
      " 76%|███████▌  | 22/29 [00:01<00:00, 15.64it/s]"
     ]
    },
    {
     "name": "stdout",
     "output_type": "stream",
     "text": [
      "pred:  tensor([1, 1, 7,  ..., 5, 5, 6], device='cuda:0')\n",
      "tgt_output:  tensor([0, 1, 2,  ..., 0, 5, 0], device='cuda:0')\n",
      "pred:  tensor([0, 0, 1,  ..., 0, 0, 0], device='cuda:0')\n",
      "tgt_output:  tensor([0, 9, 0,  ..., 0, 0, 0], device='cuda:0')\n",
      "pred:  tensor([1, 1, 7,  ..., 0, 0, 0], device='cuda:0')\n",
      "tgt_output:  tensor([0, 1, 9,  ..., 3, 0, 0], device='cuda:0')\n",
      "pred:  tensor([1, 7, 5,  ..., 0, 0, 0], device='cuda:0')\n",
      "tgt_output:  tensor([1, 0, 5,  ..., 0, 0, 0], device='cuda:0')\n"
     ]
    },
    {
     "name": "stderr",
     "output_type": "stream",
     "text": [
      " 90%|████████▉ | 26/29 [00:01<00:00, 15.63it/s]"
     ]
    },
    {
     "name": "stdout",
     "output_type": "stream",
     "text": [
      "pred:  tensor([1, 7, 5,  ..., 0, 0, 0], device='cuda:0')\n",
      "tgt_output:  tensor([1, 0, 0,  ..., 7, 0, 0], device='cuda:0')\n",
      "pred:  tensor([1, 8, 7,  ..., 0, 0, 0], device='cuda:0')\n",
      "tgt_output:  tensor([9, 1, 0,  ..., 0, 0, 0], device='cuda:0')\n",
      "pred:  tensor([1, 1, 0,  ..., 1, 0, 0], device='cuda:0')\n",
      "tgt_output:  tensor([2, 0, 0,  ..., 0, 0, 0], device='cuda:0')\n",
      "pred:  tensor([0, 0, 0,  ..., 1, 5, 5], device='cuda:0')\n",
      "tgt_output:  tensor([0, 7, 9,  ..., 0, 0, 0], device='cuda:0')\n"
     ]
    },
    {
     "name": "stderr",
     "output_type": "stream",
     "text": [
      "100%|██████████| 29/29 [00:01<00:00, 15.79it/s]\n"
     ]
    },
    {
     "name": "stdout",
     "output_type": "stream",
     "text": [
      "pred:  tensor([0, 1, 7, 0, 0, 7, 0, 0, 0, 0, 1, 0, 0, 0, 7, 0, 7, 1, 0, 0, 0, 0, 0, 0,\n",
      "        0, 1, 7, 0, 0, 0, 7, 1, 0, 0, 1, 7, 1, 0, 7, 0, 0, 0, 7, 0, 0, 0, 0, 0,\n",
      "        0, 0, 0, 0, 0, 0, 1, 0, 0, 0, 0, 0, 0, 0, 1, 1, 0, 1, 1, 0, 7, 1, 7, 0,\n",
      "        0, 0, 7, 0, 0, 0, 0, 7, 0, 0, 0, 7, 1, 0, 0, 0, 0, 7, 0, 0, 0, 0, 0, 0,\n",
      "        7, 1, 0, 7, 0, 7, 1, 0, 0, 7, 0, 7, 0, 0, 0, 0, 0, 0, 0, 0, 0, 0, 0, 0,\n",
      "        7, 0, 1, 7, 1, 0, 1, 0, 0, 0, 0, 0, 0, 0, 0, 0, 0, 7, 1, 7, 0, 0, 1, 7,\n",
      "        0, 0, 0, 0, 0, 0, 0, 0, 0, 1, 0, 0, 0, 0, 0, 1, 0, 0, 0, 0, 0, 0, 0, 0,\n",
      "        1, 7, 0, 0, 0, 0, 0, 1, 1, 7, 0, 0, 0, 0, 0, 0, 1, 7, 1, 0, 0, 6, 7, 7,\n",
      "        0, 0, 0, 1, 0, 4, 0, 1, 0, 7, 0, 6, 7, 1, 1, 7, 4, 0, 0, 0, 0, 0, 0, 0,\n",
      "        0, 0, 1, 1, 1, 1, 7, 0, 5, 7, 1, 7, 0, 0, 5, 7, 1, 5, 4, 1, 7, 1, 0, 7,\n",
      "        5, 7, 0, 5], device='cuda:0')\n",
      "tgt_output:  tensor([ 9,  8,  3,  0,  1,  7,  0,  4,  0,  9,  2,  7,  0,  1,  4, 11,  9,  0,\n",
      "         4,  3,  0,  0,  4,  0,  9,  1,  3,  0,  5,  6,  9,  0,  0,  9,  1,  9,\n",
      "         0,  1,  2,  0,  2,  1,  3,  0,  0,  0,  0,  4,  0,  3,  0,  0,  5,  9,\n",
      "         0,  7,  7,  0,  0,  0,  0,  9,  9,  0,  9,  9,  0,  1,  2,  1,  4,  0,\n",
      "         7,  1,  2,  0,  4,  7,  8,  2,  0,  0,  1,  9,  4,  4,  0,  7,  1,  0,\n",
      "         0,  0,  0,  0,  0,  1,  9,  0,  1,  2,  1,  9,  0,  2,  6,  3,  1,  2,\n",
      "         0,  0,  5,  7,  0,  7,  7,  0,  0,  0,  0,  1,  4,  2,  1,  9,  0,  9,\n",
      "         2,  0,  0,  5,  7,  0,  0,  0,  0,  0,  1,  9,  8,  3,  0,  9,  1,  2,\n",
      "         0,  7,  0,  0,  0,  0,  0,  0,  2,  3,  0,  0,  0,  0,  2,  0,  0,  3,\n",
      "         0,  0,  5,  3,  0,  2,  1,  0,  0,  0,  5,  0,  0,  2,  6,  0,  5,  0,\n",
      "         0,  0,  4,  9,  1,  9,  3,  0, 10,  6,  1,  7,  0,  7,  9,  0,  4,  7,\n",
      "         9,  0,  1,  0,  5,  1,  9,  2,  1,  4,  0,  0,  7,  0,  0,  0,  0,  0,\n",
      "         0,  0,  0,  0,  2,  1,  7,  0,  1,  9,  1,  7,  7,  0,  1,  9,  0,  4,\n",
      "         2,  1,  9,  3,  6,  0,  1,  7,  0,  0], device='cuda:0')\n",
      "Epoch 2: train loss 1.957592836523478, val loss 1.9314521181172337\n",
      "Epoch 2: train acc 0.4317925520457166, val acc 0.37432790609617567\n"
     ]
    },
    {
     "name": "stderr",
     "output_type": "stream",
     "text": [
      "100%|██████████| 113/113 [00:25<00:00,  4.36it/s]\n",
      "  7%|▋         | 2/29 [00:00<00:01, 15.35it/s]"
     ]
    },
    {
     "name": "stdout",
     "output_type": "stream",
     "text": [
      "pred:  tensor([1, 9, 6,  ..., 0, 0, 0], device='cuda:0')\n",
      "tgt_output:  tensor([1, 2, 1,  ..., 7, 0, 0], device='cuda:0')\n",
      "pred:  tensor([1, 7, 0,  ..., 0, 1, 0], device='cuda:0')\n",
      "tgt_output:  tensor([1, 9, 0,  ..., 9, 0, 0], device='cuda:0')\n",
      "pred:  tensor([1, 1, 6,  ..., 5, 0, 0], device='cuda:0')\n",
      "tgt_output:  tensor([0, 5, 9,  ..., 0, 0, 0], device='cuda:0')\n",
      "pred:  tensor([1, 1, 0,  ..., 4, 0, 0], device='cuda:0')\n",
      "tgt_output:  tensor([2, 0, 7,  ..., 0, 0, 0], device='cuda:0')\n"
     ]
    },
    {
     "name": "stderr",
     "output_type": "stream",
     "text": [
      " 21%|██        | 6/29 [00:00<00:01, 12.80it/s]"
     ]
    },
    {
     "name": "stdout",
     "output_type": "stream",
     "text": [
      "pred:  tensor([ 1,  1, 11,  4, 11,  0,  1,  7,  5,  5,  0,  0,  0,  0, 11,  0,  0, 11,\n",
      "         0,  6,  1,  0,  0,  0,  1,  1,  0,  1,  0,  1,  1,  0,  0,  1,  7,  6,\n",
      "         0,  6,  0,  0,  1,  1,  1,  1,  1,  1,  6,  0,  1,  1,  7,  0,  0,  0,\n",
      "         1,  7,  4,  0,  0,  0,  0,  6,  0,  6,  4,  0,  4,  7,  0,  0,  1,  0,\n",
      "         0,  6,  0,  1,  1,  0,  0,  0,  0,  1,  1,  6,  0,  6,  0,  1,  8,  7,\n",
      "         7,  1,  0,  1,  9,  0,  1,  1,  1,  1,  7,  0,  0,  0,  0,  0,  0,  1,\n",
      "         0,  6,  0,  0,  7,  1,  7,  1,  7,  0,  0,  0,  0,  0,  1,  7,  1,  7,\n",
      "         0,  0,  1,  1,  1,  1,  7,  0,  1,  1,  7,  6,  7,  0,  1,  0,  0,  1,\n",
      "         9,  0,  3, 11,  5, 11,  5,  1,  1,  7,  0,  5,  0,  6,  5,  5,  6,  0,\n",
      "         0,  1,  1,  7,  0,  7,  0,  0,  0,  1,  7,  0,  0,  0,  0,  0,  7,  1,\n",
      "         0,  1,  7,  0,  0,  1,  0,  0,  0,  7,  0,  7,  0,  0,  1,  0,  7,  7,\n",
      "         7,  0,  0,  1,  0,  0,  0,  7,  0,  0,  1,  0,  0,  0,  0,  0,  1,  7,\n",
      "         0,  0,  0,  7,  0,  0,  0,  0,  7,  1,  0,  1,  7,  0,  1,  6,  0,  6,\n",
      "        11,  1,  7,  7,  0,  0,  6,  7,  1,  7,  5,  0,  6,  7, 11, 11,  0,  1,\n",
      "         9,  0,  1,  7,  0,  1,  0,  0,  0,  1,  7,  0,  6,  0,  6,  0,  1,  0,\n",
      "         0,  0,  7,  1,  0,  6,  0,  0,  1,  7,  0,  7,  0,  6,  0,  0,  0,  1,\n",
      "         1,  9,  0,  1,  1,  7,  1,  0,  0,  0,  0,  0,  0,  3,  0,  0,  0,  0,\n",
      "         0,  0,  0,  0,  0,  0,  0,  0,  0,  0,  3,  0,  7,  1,  0,  0,  0,  0,\n",
      "         0,  0,  1,  9,  0,  5, 11,  6,  5, 11,  7,  1,  5,  5,  5,  5,  0,  0,\n",
      "         1,  9,  5,  5,  5,  5,  6,  0,  0,  7,  0,  0,  1,  7,  1,  0,  0,  0,\n",
      "         0,  7,  0,  0,  7,  0,  0,  0,  0,  0,  0,  1,  1,  7,  0,  1,  0,  1,\n",
      "         0,  6,  0,  0,  1,  7,  0,  0,  0,  7,  1,  7,  0,  0,  0,  1,  1,  1,\n",
      "         1,  1,  7,  0,  0,  0,  1,  0,  0,  0,  0,  0,  1,  7,  6,  0, 11,  7,\n",
      "         0,  0,  0,  0,  0,  0,  0,  1,  1,  1,  1,  1,  1,  0,  1,  0,  1,  1,\n",
      "         1,  1,  0,  0,  0,  1,  7,  6,  0,  0,  4,  0,  0,  0,  0,  6,  7,  0,\n",
      "         0,  0,  7,  0,  0,  1,  7,  1,  7,  0,  0,  0,  0,  1,  8,  7,  0,  5,\n",
      "         0, 11,  0,  1,  0,  0,  6,  0,  7,  1,  0,  1,  0,  1,  1,  1,  1,  7,\n",
      "         0,  6,  5, 11, 11,  5,  1,  1,  7,  0,  5,  0,  1,  0,  1,  0,  0,  6,\n",
      "         0,  1,  0,  0,  6,  0,  0,  0,  0,  0,  0,  0,  0,  0,  0,  0,  0,  0,\n",
      "         7,  6,  7,  0,  0,  7,  0,  0,  0,  0,  1,  7,  0,  7,  0,  3,  1,  7,\n",
      "         0,  1,  1,  0,  1,  0,  7,  1,  7,  0,  0,  0,  1,  7,  0,  7,  0,  7,\n",
      "         1,  0,  0,  7,  1,  1,  0,  1,  7,  7,  0,  6,  6,  0,  0,  0,  0,  1,\n",
      "         7,  0,  0,  0,  6,  7,  1,  7,  0,  1,  1,  1,  1,  1,  9,  6,  5,  5,\n",
      "         5,  5,  9, 11,  7, 11,  5,  1,  5,  0,  0,  0,  0,  7,  1,  1,  0,  0,\n",
      "         1,  7,  0,  0,  0,  1,  1,  1,  0,  1, 11,  7,  0,  5,  7,  1,  5,  0,\n",
      "         5,  5,  7,  6,  7,  1,  0,  1,  7,  1,  0,  0,  0,  0,  1,  1,  1,  0,\n",
      "         4,  0,  1,  0,  0,  1,  1,  0,  1,  1,  1,  1,  0,  1,  0,  1, 11, 11,\n",
      "        11,  7,  5,  5,  5,  5,  5,  0,  3,  1,  5,  6,  6,  0,  0,  0,  0,  0,\n",
      "         1,  0,  7,  0,  1,  0,  0,  1,  1,  7,  7,  0,  0,  0,  0,  1,  0,  7,\n",
      "         6,  0,  0,  0,  1,  1,  7,  0,  1,  0,  0,  1,  8,  1,  7,  0,  0,  1,\n",
      "         0,  0,  1,  7,  0,  5,  0,  1,  0,  0,  7,  1,  1,  0,  0,  6,  0,  1,\n",
      "         0,  7,  7,  1,  6,  7,  1,  0,  0,  1,  0,  1,  7,  1,  1,  0,  0,  0,\n",
      "         0,  7,  0,  0,  7,  0,  6,  7,  1,  0,  0,  1,  7,  7,  0,  0,  1,  9,\n",
      "         0,  5,  0,  7,  1,  0,  0,  1,  0,  0,  0,  7,  1,  7,  7,  0,  0,  7,\n",
      "         6,  0,  1,  7,  7,  0,  0,  1,  0,  0,  1,  0,  0,  0, 11,  0,  0,  0,\n",
      "         0,  0,  3,  0,  0,  0,  7,  1,  7,  0,  5,  1,  1,  7,  0,  0,  0,  0,\n",
      "         0,  0,  7,  0,  0,  0,  0,  0,  0,  0,  0,  0,  1,  0,  0,  0,  0,  0,\n",
      "         0,  0,  0,  1,  0,  7,  0,  0,  1,  0,  1,  1,  0,  0,  0,  0,  0,  0,\n",
      "         0,  0,  1,  0,  7,  0,  0,  1,  0,  7,  0,  7,  0,  0,  0,  0,  0,  7,\n",
      "         0,  0,  0,  0,  0,  0,  1,  7,  0,  1,  1,  0,  7,  0,  0,  7,  0,  1,\n",
      "         7,  1,  0,  0,  0,  0,  0,  7,  0,  0,  0,  0,  0,  7,  1,  7,  7,  0,\n",
      "         0,  0,  0,  1,  7,  0,  0,  7,  0,  0,  0,  7,  0,  0,  0,  7,  1,  0,\n",
      "         1,  6,  7,  7,  0,  0,  0,  0,  0,  1,  7,  1,  0,  1,  6,  7,  7,  0,\n",
      "         0], device='cuda:0')\n",
      "tgt_output:  tensor([ 0,  4, 11,  4,  0,  2,  1,  0,  0,  7,  7,  3,  0,  4,  7,  0,  4,  0,\n",
      "         5,  2,  0,  0,  0,  9,  9,  0,  0,  7,  0,  2,  0,  0,  9,  1,  2,  0,\n",
      "         2,  0,  0,  0,  0,  0,  0,  0,  0,  5,  3,  9,  2,  6,  0,  0,  0,  9,\n",
      "         1,  4,  0,  3,  0,  0,  5,  0,  5,  4,  0,  4,  1,  3,  0,  9,  0,  0,\n",
      "         5,  3,  9,  9,  7,  0,  0,  0,  0,  0,  5,  0,  5,  0,  2,  9,  6,  1,\n",
      "         2,  0,  0,  1,  7,  9,  0,  9,  2,  6,  0,  0,  0,  3,  0,  0,  9,  0,\n",
      "         5,  3,  0,  1,  9,  1,  9,  1,  7,  0,  3,  0,  0,  9,  1,  9,  1,  3,\n",
      "         0,  0,  0,  0,  2,  1,  7,  0,  2,  1, 10,  6,  7,  0,  0,  0,  0,  1,\n",
      "         9,  8,  4,  0,  4,  0,  9,  9,  8,  7,  0,  7,  2,  0,  0,  5,  7,  0,\n",
      "         0,  2,  1,  2,  0,  0,  0,  0,  9,  1,  7,  0,  4,  0,  7,  1,  9,  0,\n",
      "         9,  8,  5,  0,  9,  7,  0,  0,  1,  7,  1,  5,  0,  9,  7,  6,  1,  1,\n",
      "         3,  0,  9,  0,  0,  0,  1,  7,  0,  9,  7,  0,  4,  7,  0,  2,  1,  0,\n",
      "         5,  0,  1,  3,  0,  5,  0,  1,  9,  0,  0,  8,  7,  0,  2,  0,  2,  4,\n",
      "         2,  1,  8,  7,  0,  2,  1,  9,  1,  0,  0, 10,  6,  4,  4,  0,  0,  1,\n",
      "         7,  0,  1,  7,  2,  0,  0,  0,  2,  1,  0,  5,  0,  5,  0,  9,  0,  0,\n",
      "         0,  1,  9,  0,  5,  3,  0,  9,  8,  3,  6,  0,  5,  7,  7,  0,  0,  0,\n",
      "         1,  7,  0,  2,  1,  2,  0,  0,  0,  0,  0,  0,  5,  0,  0,  0,  0,  0,\n",
      "         0,  0,  0,  0,  0,  0,  0,  0,  0,  5,  0,  1,  2,  0,  0,  7,  7,  0,\n",
      "         0,  0,  1,  9,  0,  4,  5,  0,  4,  1,  2,  0,  0,  0,  0,  0,  0,  0,\n",
      "         1,  0,  0,  0,  0,  5,  3,  0,  1,  7,  7,  0,  1, 12,  0,  7,  3,  0,\n",
      "         1,  7,  3,  6,  0,  0,  0,  0,  0,  0,  0,  2,  1,  7,  0,  7,  0,  0,\n",
      "         5,  7,  0,  2,  6,  0,  0,  0,  1,  9,  1,  7,  7,  0,  0,  0,  0,  0,\n",
      "         2,  6,  0,  0,  0,  2,  0,  0,  0,  0,  0,  9,  1,  3,  0,  4,  1,  7,\n",
      "         0,  0,  0,  0,  0,  0,  0,  0,  0,  0,  0,  0,  3,  0,  7,  0,  0,  0,\n",
      "         2,  0,  0,  0,  9,  8,  2,  0,  7,  4,  0,  3,  0,  0,  5,  1,  0,  0,\n",
      "         0,  1,  7,  0,  2,  6,  9,  1,  7,  0,  0,  0,  0,  9,  1,  6,  0,  0,\n",
      "         4,  7,  9,  0,  0,  5,  0,  1,  2,  0,  2,  0,  0,  0,  0,  2,  1,  9,\n",
      "         3,  0,  4,  4,  0,  0,  2,  1,  9,  0,  7,  9,  0,  9,  7,  0,  5,  0,\n",
      "         9,  7,  0,  5,  0,  0,  0,  0,  0,  0,  0,  0,  0,  0,  0,  0,  0,  1,\n",
      "         5,  6,  7,  0,  1,  0,  0,  7,  0,  0,  1,  3,  0,  0,  5,  9,  8,  7,\n",
      "         0,  2,  0,  2,  0,  1,  9,  1,  4,  0,  0,  9,  1,  7,  6,  0,  1,  2,\n",
      "         7,  3,  1,  9,  9,  0,  2,  6,  1,  0,  5,  5,  0,  7,  3,  0,  2,  6,\n",
      "         0,  0,  0,  5,  1,  9,  1,  3,  9,  0,  0,  0,  0,  1,  5,  0,  0,  0,\n",
      "         0,  1,  4, 11,  4,  0,  2,  0,  7,  0,  0,  0,  1,  9,  9,  0,  3,  2,\n",
      "         6,  7,  7,  0,  0,  0,  0,  3,  0,  4,  1,  3,  0,  1,  9,  0,  3,  0,\n",
      "         0,  1, 10,  6,  9,  0,  9,  1,  2,  0,  3,  0,  0,  9,  9,  2,  0,  4,\n",
      "         7,  2,  0,  0,  9,  9,  0,  0,  0,  0,  0,  3,  0,  7,  0,  4,  4,  4,\n",
      "         1,  0,  0,  0,  0,  0,  0,  8,  9,  0,  2,  2,  0,  0,  0,  0,  0,  0,\n",
      "         3,  6,  3,  0,  0,  0,  2,  9,  1,  1,  0,  0,  7,  0,  9,  0,  1,  2,\n",
      "         0,  0,  0,  0,  2,  1,  7,  0,  0,  0,  0,  9,  2,  6,  0,  0,  2,  0,\n",
      "         0,  0,  1,  4,  0,  7,  0,  0,  0,  1,  9,  9,  7,  0,  5,  0,  9,  7,\n",
      "         6,  1,  9,  5,  8,  2,  0,  0,  9,  0,  9,  1,  2,  2,  0,  0,  0,  0,\n",
      "         1,  7,  0,  1,  0,  5,  1,  2,  0,  0,  9,  1,  6,  3,  0,  0,  1,  9,\n",
      "         0,  7,  1,  2,  0,  0,  2,  0,  0,  0,  1,  9,  1,  6,  0,  0,  1,  2,\n",
      "         0,  9,  1,  6,  0,  0,  0,  7,  3,  0,  0,  0,  0,  4,  7,  0,  3,  0,\n",
      "         0,  8,  7,  7,  0,  1,  9,  1,  7,  0,  0,  2,  1,  7,  0,  0,  0,  7,\n",
      "         0,  1,  3,  0,  0,  0,  0,  0,  0,  0,  0,  9,  7,  0,  5,  0,  0,  0,\n",
      "         0,  0,  9,  0,  1,  0,  5,  2,  0,  9,  2,  0,  0,  5,  4,  0,  0,  0,\n",
      "         0,  9,  0,  1,  3,  0,  9,  0,  1,  3,  6,  7,  0,  4,  0,  5,  1,  7,\n",
      "         0,  0,  0,  0,  0,  0,  8,  7,  0,  9,  2,  1,  4,  0,  1,  7,  9,  1,\n",
      "         9,  0,  0,  0,  0,  4,  1,  7,  7,  0,  0,  0,  1,  2,  6,  1,  7,  0,\n",
      "         0,  5,  2,  6,  7,  0,  1,  0,  5,  3,  6,  0,  0,  0,  1,  9,  0,  9,\n",
      "        10,  6,  1,  7,  0,  7,  4,  0,  2,  1,  9,  0,  9, 10,  6,  1,  7,  0,\n",
      "         0], device='cuda:0')\n",
      "pred:  tensor([1, 9, 0,  ..., 0, 0, 7], device='cuda:0')\n",
      "tgt_output:  tensor([1, 9, 0,  ..., 0, 1, 0], device='cuda:0')\n",
      "pred:  tensor([1, 1, 1,  ..., 1, 0, 0], device='cuda:0')\n",
      "tgt_output:  tensor([0, 0, 0,  ..., 0, 0, 0], device='cuda:0')\n"
     ]
    },
    {
     "name": "stderr",
     "output_type": "stream",
     "text": [
      " 34%|███▍      | 10/29 [00:00<00:01, 14.08it/s]"
     ]
    },
    {
     "name": "stdout",
     "output_type": "stream",
     "text": [
      "pred:  tensor([1, 1, 0,  ..., 0, 1, 0], device='cuda:0')\n",
      "tgt_output:  tensor([0, 7, 4,  ..., 9, 0, 0], device='cuda:0')\n",
      "pred:  tensor([1, 1, 7,  ..., 0, 0, 0], device='cuda:0')\n",
      "tgt_output:  tensor([2, 1, 9,  ..., 0, 0, 0], device='cuda:0')\n",
      "pred:  tensor([1, 1, 0,  ..., 0, 0, 0], device='cuda:0')\n",
      "tgt_output:  tensor([0, 7, 9,  ..., 0, 0, 0], device='cuda:0')\n",
      "pred:  tensor([1, 9, 6,  ..., 0, 0, 0], device='cuda:0')\n",
      "tgt_output:  tensor([1, 2, 7,  ..., 7, 0, 0], device='cuda:0')\n"
     ]
    },
    {
     "name": "stderr",
     "output_type": "stream",
     "text": [
      " 48%|████▊     | 14/29 [00:00<00:01, 14.60it/s]"
     ]
    },
    {
     "name": "stdout",
     "output_type": "stream",
     "text": [
      "pred:  tensor([1, 9, 0,  ..., 6, 0, 0], device='cuda:0')\n",
      "tgt_output:  tensor([1, 9, 0,  ..., 0, 0, 0], device='cuda:0')\n",
      "pred:  tensor([1, 1, 7,  ..., 0, 0, 0], device='cuda:0')\n",
      "tgt_output:  tensor([2, 1, 7,  ..., 7, 0, 0], device='cuda:0')\n",
      "pred:  tensor([1, 9, 0,  ..., 7, 0, 5], device='cuda:0')\n",
      "tgt_output:  tensor([1, 7, 5,  ..., 7, 0, 0], device='cuda:0')\n",
      "pred:  tensor([1, 6, 1,  ..., 0, 0, 0], device='cuda:0')\n",
      "tgt_output:  tensor([10,  6,  1,  ...,  7,  0,  0], device='cuda:0')\n"
     ]
    },
    {
     "name": "stderr",
     "output_type": "stream",
     "text": [
      " 62%|██████▏   | 18/29 [00:01<00:00, 14.79it/s]"
     ]
    },
    {
     "name": "stdout",
     "output_type": "stream",
     "text": [
      "pred:  tensor([1, 1, 7,  ..., 0, 0, 0], device='cuda:0')\n",
      "tgt_output:  tensor([9, 1, 2,  ..., 0, 0, 0], device='cuda:0')\n",
      "pred:  tensor([1, 1, 0,  ..., 7, 1, 0], device='cuda:0')\n",
      "tgt_output:  tensor([9, 0, 3,  ..., 2, 0, 0], device='cuda:0')\n",
      "pred:  tensor([1, 1, 7,  ..., 0, 0, 0], device='cuda:0')\n",
      "tgt_output:  tensor([9, 8, 2,  ..., 3, 0, 0], device='cuda:0')\n",
      "pred:  tensor([1, 1, 7,  ..., 0, 0, 0], device='cuda:0')\n",
      "tgt_output:  tensor([9, 1, 2,  ..., 0, 0, 0], device='cuda:0')\n"
     ]
    },
    {
     "name": "stderr",
     "output_type": "stream",
     "text": [
      " 76%|███████▌  | 22/29 [00:01<00:00, 14.95it/s]"
     ]
    },
    {
     "name": "stdout",
     "output_type": "stream",
     "text": [
      "pred:  tensor([1, 1, 1,  ..., 7, 0, 6], device='cuda:0')\n",
      "tgt_output:  tensor([0, 0, 0,  ..., 0, 5, 0], device='cuda:0')\n",
      "pred:  tensor([1, 7, 0,  ..., 7, 0, 0], device='cuda:0')\n",
      "tgt_output:  tensor([1, 7, 2,  ..., 3, 0, 0], device='cuda:0')\n",
      "pred:  tensor([1, 1, 1,  ..., 1, 0, 0], device='cuda:0')\n",
      "tgt_output:  tensor([0, 0, 1,  ..., 3, 0, 0], device='cuda:0')\n"
     ]
    },
    {
     "name": "stderr",
     "output_type": "stream",
     "text": [
      " 83%|████████▎ | 24/29 [00:01<00:00, 14.82it/s]"
     ]
    },
    {
     "name": "stdout",
     "output_type": "stream",
     "text": [
      "pred:  tensor([1, 1, 1,  ..., 1, 0, 0], device='cuda:0')\n",
      "tgt_output:  tensor([0, 0, 0,  ..., 0, 0, 0], device='cuda:0')\n",
      "pred:  tensor([1, 7, 0,  ..., 7, 0, 0], device='cuda:0')\n",
      "tgt_output:  tensor([8, 7, 0,  ..., 7, 0, 0], device='cuda:0')\n",
      "pred:  tensor([1, 7, 0,  ..., 0, 0, 0], device='cuda:0')\n",
      "tgt_output:  tensor([1, 7, 0,  ..., 0, 0, 0], device='cuda:0')\n"
     ]
    },
    {
     "name": "stderr",
     "output_type": "stream",
     "text": [
      "100%|██████████| 29/29 [00:01<00:00, 14.84it/s]\n"
     ]
    },
    {
     "name": "stdout",
     "output_type": "stream",
     "text": [
      "pred:  tensor([1, 1, 1,  ..., 1, 0, 0], device='cuda:0')\n",
      "tgt_output:  tensor([0, 0, 0,  ..., 0, 0, 0], device='cuda:0')\n",
      "pred:  tensor([1, 7, 0,  ..., 7, 6, 0], device='cuda:0')\n",
      "tgt_output:  tensor([1, 4, 0,  ..., 2, 0, 0], device='cuda:0')\n",
      "pred:  tensor([1, 9, 6,  ..., 7, 0, 0], device='cuda:0')\n",
      "tgt_output:  tensor([1, 2, 1,  ..., 7, 0, 0], device='cuda:0')\n",
      "pred:  tensor([1, 1, 1, 1, 1, 7, 5, 6, 0, 1, 1, 4, 0, 7, 1, 0, 0, 0, 7, 1, 7, 0, 0, 0,\n",
      "        0, 0, 4, 0, 0, 0, 1, 0, 7, 0, 0, 1, 7, 0, 7, 0, 0, 1, 7, 0, 0, 1, 7, 6,\n",
      "        1, 0, 0, 0, 0, 7, 0, 0, 0, 1, 0, 0, 7, 1, 1, 0, 1, 7, 1, 0, 0, 1, 0, 0,\n",
      "        1, 1, 0, 0, 0, 7, 0, 0, 1, 0, 0, 0, 0, 0, 0, 0, 1, 7, 0, 0, 0, 1, 0, 0,\n",
      "        0, 0, 1, 1, 0, 0, 7, 0, 0, 0, 0, 0, 0, 0, 0, 7, 0, 0, 0, 1, 7, 1, 0, 0,\n",
      "        0, 1, 1, 1, 1, 1, 1, 1, 9, 6, 1, 0, 1, 1, 7, 0, 1, 1, 1, 6, 1, 7, 0, 0,\n",
      "        1, 7, 1, 1, 0, 1, 1, 0, 7, 1, 1, 7, 0, 1, 1, 0, 0, 7, 0, 0, 6, 7, 0, 0,\n",
      "        0, 0, 7, 6, 0, 0], device='cuda:0')\n",
      "tgt_output:  tensor([ 0,  0,  0,  2,  1,  0,  5,  7,  0,  2,  4,  0,  1,  2,  0,  7,  0,  1,\n",
      "         2,  1,  3,  0,  7,  7,  0,  4,  3,  3,  0,  2,  0,  1,  7,  0,  9,  8,\n",
      "         3,  6,  7,  0,  0,  1,  7,  4,  0,  8,  5,  0,  7,  0,  5,  0,  1,  7,\n",
      "         3,  0,  9,  7,  0,  1,  9,  9,  0,  9,  1,  2,  0,  0,  9,  7,  0,  9,\n",
      "         9,  0,  0,  5,  1,  3,  0,  9,  7,  0,  5,  0,  4,  7,  0,  2,  1,  7,\n",
      "         0,  4,  9,  0,  4,  7,  0,  9,  9,  0,  0,  1,  3,  0,  0,  5,  7,  0,\n",
      "         5,  0,  1,  7,  3,  0,  2,  1,  2,  0,  7,  0,  0,  0,  0,  0,  0,  0,\n",
      "         0,  1, 10,  6,  7,  0,  9,  8,  7,  0,  0,  0, 10,  6,  1,  7,  7,  0,\n",
      "         1,  0,  0,  7,  0,  0,  3,  6,  9,  0,  1,  7,  0,  9,  0,  0,  1,  7,\n",
      "         0,  2,  1,  0,  0,  7,  0,  1,  2,  0,  0,  0], device='cuda:0')\n",
      "Epoch 3: train loss 1.893577451199557, val loss 1.9158423070249886\n",
      "Epoch 3: train acc 0.43490959313744126, val acc 0.37170263788968827\n"
     ]
    },
    {
     "name": "stderr",
     "output_type": "stream",
     "text": [
      "100%|██████████| 113/113 [00:26<00:00,  4.32it/s]\n",
      "  7%|▋         | 2/29 [00:00<00:01, 15.22it/s]"
     ]
    },
    {
     "name": "stdout",
     "output_type": "stream",
     "text": [
      "pred:  tensor([1, 1, 1,  ..., 1, 0, 0], device='cuda:0')\n",
      "tgt_output:  tensor([0, 0, 0,  ..., 0, 0, 0], device='cuda:0')\n",
      "pred:  tensor([0, 2, 5,  ..., 0, 0, 0], device='cuda:0')\n",
      "tgt_output:  tensor([1, 0, 0,  ..., 0, 0, 0], device='cuda:0')\n",
      "pred:  tensor([1, 7, 0,  ..., 1, 0, 0], device='cuda:0')\n",
      "tgt_output:  tensor([8, 7, 0,  ..., 0, 0, 0], device='cuda:0')\n",
      "pred:  tensor([1, 1, 1,  ..., 0, 0, 1], device='cuda:0')\n",
      "tgt_output:  tensor([0, 0, 2,  ..., 4, 0, 0], device='cuda:0')\n"
     ]
    },
    {
     "name": "stderr",
     "output_type": "stream",
     "text": [
      " 21%|██        | 6/29 [00:00<00:01, 15.29it/s]"
     ]
    },
    {
     "name": "stdout",
     "output_type": "stream",
     "text": [
      "pred:  tensor([0, 0, 2,  ..., 1, 0, 0], device='cuda:0')\n",
      "tgt_output:  tensor([0, 1, 0,  ..., 7, 0, 0], device='cuda:0')\n",
      "pred:  tensor([1, 7, 0,  ..., 7, 8, 0], device='cuda:0')\n",
      "tgt_output:  tensor([7, 7, 0,  ..., 9, 0, 0], device='cuda:0')\n",
      "pred:  tensor([1, 2, 6,  ..., 0, 0, 0], device='cuda:0')\n",
      "tgt_output:  tensor([1, 5, 0,  ..., 7, 0, 0], device='cuda:0')\n",
      "pred:  tensor([ 0,  0,  2,  ..., 11,  0,  0], device='cuda:0')\n",
      "tgt_output:  tensor([0, 1, 0,  ..., 0, 0, 0], device='cuda:0')\n"
     ]
    },
    {
     "name": "stderr",
     "output_type": "stream",
     "text": [
      " 34%|███▍      | 10/29 [00:00<00:01, 15.34it/s]"
     ]
    },
    {
     "name": "stdout",
     "output_type": "stream",
     "text": [
      "pred:  tensor([1, 0, 1,  ..., 0, 5, 5], device='cuda:0')\n",
      "tgt_output:  tensor([7, 0, 7,  ..., 0, 0, 0], device='cuda:0')\n",
      "pred:  tensor([1, 1, 1,  ..., 5, 6, 5], device='cuda:0')\n",
      "tgt_output:  tensor([0, 0, 3,  ..., 5, 0, 0], device='cuda:0')\n",
      "pred:  tensor([1, 1, 7,  ..., 6, 0, 0], device='cuda:0')\n",
      "tgt_output:  tensor([2, 0, 1,  ..., 0, 0, 0], device='cuda:0')\n",
      "pred:  tensor([0, 2, 0,  ..., 5, 0, 5], device='cuda:0')\n",
      "tgt_output:  tensor([1, 2, 1,  ..., 5, 0, 0], device='cuda:0')\n"
     ]
    },
    {
     "name": "stderr",
     "output_type": "stream",
     "text": [
      " 48%|████▊     | 14/29 [00:00<00:00, 15.15it/s]"
     ]
    },
    {
     "name": "stdout",
     "output_type": "stream",
     "text": [
      "pred:  tensor([1, 1, 1,  ..., 7, 0, 0], device='cuda:0')\n",
      "tgt_output:  tensor([0, 0, 0,  ..., 7, 0, 0], device='cuda:0')\n",
      "pred:  tensor([0, 2, 5,  ..., 8, 6, 5], device='cuda:0')\n",
      "tgt_output:  tensor([1, 0, 5,  ..., 3, 0, 0], device='cuda:0')\n",
      "pred:  tensor([1, 7, 0,  ..., 0, 0, 0], device='cuda:0')\n",
      "tgt_output:  tensor([8, 3, 0,  ..., 0, 0, 0], device='cuda:0')\n",
      "pred:  tensor([1, 2, 0,  ..., 7, 0, 0], device='cuda:0')\n",
      "tgt_output:  tensor([1, 3, 6,  ..., 0, 5, 0], device='cuda:0')\n"
     ]
    },
    {
     "name": "stderr",
     "output_type": "stream",
     "text": [
      " 62%|██████▏   | 18/29 [00:01<00:00, 14.67it/s]"
     ]
    },
    {
     "name": "stdout",
     "output_type": "stream",
     "text": [
      "pred:  tensor([1, 2, 0,  ..., 8, 0, 5], device='cuda:0')\n",
      "tgt_output:  tensor([1, 4, 0,  ..., 7, 0, 0], device='cuda:0')\n",
      "pred:  tensor([1, 2, 0,  ..., 0, 0, 0], device='cuda:0')\n",
      "tgt_output:  tensor([1, 3, 0,  ..., 7, 0, 0], device='cuda:0')\n",
      "pred:  tensor([1, 2, 0,  ..., 8, 0, 0], device='cuda:0')\n",
      "tgt_output:  tensor([1, 7, 4,  ..., 7, 0, 0], device='cuda:0')\n"
     ]
    },
    {
     "name": "stderr",
     "output_type": "stream",
     "text": [
      " 76%|███████▌  | 22/29 [00:01<00:00, 14.81it/s]"
     ]
    },
    {
     "name": "stdout",
     "output_type": "stream",
     "text": [
      "pred:  tensor([0, 0, 0,  ..., 0, 0, 0], device='cuda:0')\n",
      "tgt_output:  tensor([0, 0, 0,  ..., 0, 0, 0], device='cuda:0')\n",
      "pred:  tensor([ 1, 11,  0,  ...,  0,  0,  0], device='cuda:0')\n",
      "tgt_output:  tensor([4, 7, 0,  ..., 0, 0, 0], device='cuda:0')\n",
      "pred:  tensor([1, 1, 1,  ..., 0, 0, 0], device='cuda:0')\n",
      "tgt_output:  tensor([0, 0, 7,  ..., 7, 0, 0], device='cuda:0')\n",
      "pred:  tensor([0, 7, 0,  ..., 5, 5, 6], device='cuda:0')\n",
      "tgt_output:  tensor([7, 0, 7,  ..., 0, 5, 0], device='cuda:0')\n"
     ]
    },
    {
     "name": "stderr",
     "output_type": "stream",
     "text": [
      " 90%|████████▉ | 26/29 [00:01<00:00, 15.07it/s]"
     ]
    },
    {
     "name": "stdout",
     "output_type": "stream",
     "text": [
      "pred:  tensor([0, 2, 0,  ..., 1, 1, 1], device='cuda:0')\n",
      "tgt_output:  tensor([1, 3, 0,  ..., 0, 0, 0], device='cuda:0')\n",
      "pred:  tensor([1, 2, 5,  ..., 0, 0, 0], device='cuda:0')\n",
      "tgt_output:  tensor([1, 0, 0,  ..., 0, 0, 0], device='cuda:0')\n",
      "pred:  tensor([1, 1, 2,  ..., 1, 0, 1], device='cuda:0')\n",
      "tgt_output:  tensor([0, 1, 9,  ..., 7, 0, 0], device='cuda:0')\n",
      "pred:  tensor([1, 1, 2,  ..., 0, 0, 0], device='cuda:0')\n",
      "tgt_output:  tensor([0, 1, 7,  ..., 0, 0, 0], device='cuda:0')\n"
     ]
    },
    {
     "name": "stderr",
     "output_type": "stream",
     "text": [
      "100%|██████████| 29/29 [00:01<00:00, 15.25it/s]\n"
     ]
    },
    {
     "name": "stdout",
     "output_type": "stream",
     "text": [
      "pred:  tensor([ 1,  1,  7,  ..., 11, 11,  7], device='cuda:0')\n",
      "tgt_output:  tensor([2, 0, 2,  ..., 4, 1, 0], device='cuda:0')\n",
      "pred:  tensor([1, 1, 8, 7, 0, 1, 0, 1, 1, 1, 0, 1, 1, 1, 0, 1, 2, 1, 1, 1, 1, 2, 6, 1,\n",
      "        1, 1, 1, 2, 0, 1, 6, 1, 0, 1, 0, 1, 1, 0, 1, 0, 0, 0, 0, 0, 0, 0, 1, 0,\n",
      "        0, 0, 0, 1, 0, 0, 0, 0, 0, 0, 7, 1, 0, 0, 0, 0, 0, 0, 0, 7, 1, 7, 0, 0,\n",
      "        1, 1, 1, 1, 7, 0, 1, 1, 1, 1, 1, 7, 0, 1, 0, 1, 1, 1, 7, 1, 0, 0, 0, 0,\n",
      "        1, 0, 0, 0, 1, 7, 1, 7, 0, 0, 7, 0, 0, 0, 0, 7, 1, 0, 0, 0, 7, 1, 7, 0,\n",
      "        0, 7, 0, 0, 0, 6, 7, 0, 0, 0, 0, 7, 1, 0, 0, 0, 0, 0, 0, 0, 0, 1, 0, 1,\n",
      "        0, 0, 0, 1, 0, 7, 1, 7, 0, 0, 0, 1, 0, 1, 7, 0, 0, 0, 2, 0, 5, 6, 9, 1,\n",
      "        7, 1, 7, 7, 5, 5, 1, 5, 0, 0, 5, 0, 5, 7, 0, 7, 1, 0, 7, 7, 1, 6, 1, 7,\n",
      "        0, 1, 0, 1, 0, 0, 1, 1, 1, 1, 0, 7, 0, 1, 0, 1, 1, 0, 7, 0, 7, 1, 0, 0,\n",
      "        7, 1, 0, 1, 0, 2, 1, 1, 0, 0, 1, 7, 0, 7, 0, 1, 0, 0, 1, 1, 0, 1, 1, 0,\n",
      "        1, 0, 1, 0, 2, 0, 1, 7, 0, 7, 0, 1, 0, 1, 0, 1, 1, 7, 1, 0, 0, 1],\n",
      "       device='cuda:0')\n",
      "tgt_output:  tensor([ 0,  4, 11,  4,  0,  3,  0,  0,  0,  7,  0,  0,  0,  7,  9,  1,  9,  0,\n",
      "         9,  0,  1,  3,  0,  0,  0,  0,  1,  7,  0,  3,  0,  0,  4,  5,  0,  2,\n",
      "         0,  9,  0,  0,  0,  0,  3,  0,  0,  4,  5,  0,  0,  5,  9,  0,  0,  0,\n",
      "         3,  0,  0,  1,  2,  0,  7,  0,  0,  3,  0,  0,  1,  9,  1,  7,  0,  0,\n",
      "         0,  0,  0,  4,  5,  0,  5,  0,  9,  0,  1,  3,  0,  7,  0,  4,  2,  1,\n",
      "         2,  0,  0,  7,  0,  2,  0,  0,  0,  9,  1,  2,  6,  7,  0,  1,  0,  0,\n",
      "         7,  0,  1,  2,  0,  0,  5,  1,  2,  6,  0,  0,  1,  7,  7,  0, 10,  6,\n",
      "         0,  5,  0,  0,  1,  9,  0,  4,  7,  0,  0,  0,  7,  0, 12,  0,  9,  0,\n",
      "         4,  7,  2,  0,  1,  2,  1,  0,  5,  0,  2,  0,  9,  1,  7,  0,  0,  1,\n",
      "         2,  0,  5,  0,  2,  1,  9,  1,  6,  0,  0,  9,  0,  5,  7,  0,  5,  0,\n",
      "         1,  7,  1,  0,  3,  0,  1,  9,  3,  0,  1,  7,  0,  3,  0,  7,  7,  0,\n",
      "         4,  2,  0,  4,  1,  7,  0,  7,  0,  0,  4, 11,  5,  6,  0,  7,  4,  1,\n",
      "         0,  5,  9,  3,  8,  9,  0,  7,  3,  0,  1,  3,  6,  7,  0,  4,  3,  2,\n",
      "         0,  7,  0,  9,  3,  0,  7,  0,  4,  8,  3,  0,  1,  3,  6,  7,  0,  3,\n",
      "         0,  7,  0,  2,  1,  9,  4,  4,  0,  0], device='cuda:0')\n",
      "Epoch 4: train loss 1.8804315085959646, val loss 1.9197269760329148\n",
      "Epoch 4: train acc 0.43503630212490974, val acc 0.36241322731288655\n"
     ]
    },
    {
     "name": "stderr",
     "output_type": "stream",
     "text": [
      "100%|██████████| 113/113 [00:26<00:00,  4.31it/s]\n",
      "  7%|▋         | 2/29 [00:00<00:01, 14.54it/s]"
     ]
    },
    {
     "name": "stdout",
     "output_type": "stream",
     "text": [
      "pred:  tensor([1, 1, 7,  ..., 8, 8, 5], device='cuda:0')\n",
      "tgt_output:  tensor([2, 0, 0,  ..., 9, 0, 0], device='cuda:0')\n",
      "pred:  tensor([1, 1, 1,  ..., 0, 0, 0], device='cuda:0')\n",
      "tgt_output:  tensor([0, 0, 9,  ..., 0, 0, 0], device='cuda:0')\n",
      "pred:  tensor([1, 1, 1,  ..., 0, 0, 0], device='cuda:0')\n",
      "tgt_output:  tensor([0, 0, 0,  ..., 0, 0, 0], device='cuda:0')\n"
     ]
    },
    {
     "name": "stderr",
     "output_type": "stream",
     "text": [
      " 21%|██        | 6/29 [00:00<00:01, 14.86it/s]"
     ]
    },
    {
     "name": "stdout",
     "output_type": "stream",
     "text": [
      "pred:  tensor([1, 1, 9,  ..., 0, 0, 0], device='cuda:0')\n",
      "tgt_output:  tensor([0, 1, 9,  ..., 0, 5, 0], device='cuda:0')\n",
      "pred:  tensor([1, 7, 0,  ..., 0, 0, 0], device='cuda:0')\n",
      "tgt_output:  tensor([8, 7, 0,  ..., 7, 0, 0], device='cuda:0')\n",
      "pred:  tensor([ 1,  9, 11,  ...,  0,  0,  0], device='cuda:0')\n",
      "tgt_output:  tensor([7, 4, 0,  ..., 5, 0, 0], device='cuda:0')\n"
     ]
    },
    {
     "name": "stderr",
     "output_type": "stream",
     "text": [
      " 28%|██▊       | 8/29 [00:00<00:01, 14.77it/s]"
     ]
    },
    {
     "name": "stdout",
     "output_type": "stream",
     "text": [
      "pred:  tensor([1, 1, 1,  ..., 0, 0, 0], device='cuda:0')\n",
      "tgt_output:  tensor([0, 0, 1,  ..., 0, 0, 0], device='cuda:0')\n",
      "pred:  tensor([1, 1, 1,  ..., 1, 0, 0], device='cuda:0')\n",
      "tgt_output:  tensor([0, 0, 0,  ..., 7, 0, 0], device='cuda:0')\n",
      "pred:  tensor([1, 9, 0,  ..., 7, 0, 0], device='cuda:0')\n",
      "tgt_output:  tensor([1, 3, 0,  ..., 7, 0, 0], device='cuda:0')\n"
     ]
    },
    {
     "name": "stderr",
     "output_type": "stream",
     "text": [
      " 41%|████▏     | 12/29 [00:00<00:01, 14.85it/s]"
     ]
    },
    {
     "name": "stdout",
     "output_type": "stream",
     "text": [
      "pred:  tensor([1, 1, 1,  ..., 0, 0, 0], device='cuda:0')\n",
      "tgt_output:  tensor([0, 0, 0,  ..., 0, 0, 0], device='cuda:0')\n",
      "pred:  tensor([1, 9, 0,  ..., 0, 0, 0], device='cuda:0')\n",
      "tgt_output:  tensor([1, 4, 0,  ..., 0, 0, 0], device='cuda:0')\n",
      "pred:  tensor([ 1,  1,  7,  ..., 11, 11,  5], device='cuda:0')\n",
      "tgt_output:  tensor([5, 6, 4,  ..., 4, 0, 0], device='cuda:0')\n",
      "pred:  "
     ]
    },
    {
     "name": "stderr",
     "output_type": "stream",
     "text": [
      " 48%|████▊     | 14/29 [00:00<00:01, 14.76it/s]"
     ]
    },
    {
     "name": "stdout",
     "output_type": "stream",
     "text": [
      "tensor([1, 8, 6,  ..., 0, 0, 0], device='cuda:0')\n",
      "tgt_output:  tensor([9, 1, 6,  ..., 0, 0, 0], device='cuda:0')\n",
      "pred:  tensor([1, 9, 1,  ..., 0, 0, 0], device='cuda:0')\n",
      "tgt_output:  tensor([1, 9, 9,  ..., 0, 0, 0], device='cuda:0')\n",
      "pred:  tensor([ 1,  1,  1,  ...,  7, 11,  0], device='cuda:0')\n",
      "tgt_output:  tensor([0, 0, 0,  ..., 4, 0, 0], device='cuda:0')\n"
     ]
    },
    {
     "name": "stderr",
     "output_type": "stream",
     "text": [
      " 62%|██████▏   | 18/29 [00:01<00:00, 14.75it/s]"
     ]
    },
    {
     "name": "stdout",
     "output_type": "stream",
     "text": [
      "pred:  tensor([ 1,  1,  1,  ...,  6, 11,  5], device='cuda:0')\n",
      "tgt_output:  tensor([0, 0, 2,  ..., 4, 0, 0], device='cuda:0')\n",
      "pred:  tensor([1, 1, 1,  ..., 1, 1, 1], device='cuda:0')\n",
      "tgt_output:  tensor([0, 0, 0,  ..., 9, 0, 0], device='cuda:0')\n",
      "pred:  tensor([1, 1, 1,  ..., 0, 0, 0], device='cuda:0')\n",
      "tgt_output:  tensor([0, 0, 0,  ..., 7, 0, 0], device='cuda:0')\n"
     ]
    },
    {
     "name": "stderr",
     "output_type": "stream",
     "text": [
      " 69%|██████▉   | 20/29 [00:01<00:00, 14.71it/s]"
     ]
    },
    {
     "name": "stdout",
     "output_type": "stream",
     "text": [
      "pred:  tensor([1, 1, 1,  ..., 1, 1, 1], device='cuda:0')\n",
      "tgt_output:  tensor([0, 0, 0,  ..., 0, 0, 0], device='cuda:0')\n",
      "pred:  tensor([1, 1, 1,  ..., 7, 0, 0], device='cuda:0')\n",
      "tgt_output:  tensor([0, 0, 9,  ..., 4, 0, 0], device='cuda:0')\n",
      "pred:  tensor([1, 1, 7,  ..., 7, 0, 1], device='cuda:0')\n",
      "tgt_output:  tensor([2, 1, 2,  ..., 7, 0, 0], device='cuda:0')\n"
     ]
    },
    {
     "name": "stderr",
     "output_type": "stream",
     "text": [
      " 83%|████████▎ | 24/29 [00:01<00:00, 14.77it/s]"
     ]
    },
    {
     "name": "stdout",
     "output_type": "stream",
     "text": [
      "pred:  tensor([1, 1, 1,  ..., 1, 1, 0], device='cuda:0')\n",
      "tgt_output:  tensor([0, 0, 0,  ..., 9, 0, 0], device='cuda:0')\n",
      "pred:  tensor([1, 9, 3,  ..., 1, 1, 6], device='cuda:0')\n",
      "tgt_output:  tensor([1, 7, 9,  ..., 0, 5, 0], device='cuda:0')\n",
      "pred:  tensor([1, 1, 1,  ..., 0, 0, 0], device='cuda:0')\n",
      "tgt_output:  tensor([0, 0, 0,  ..., 7, 0, 0], device='cuda:0')\n"
     ]
    },
    {
     "name": "stderr",
     "output_type": "stream",
     "text": [
      " 90%|████████▉ | 26/29 [00:01<00:00, 14.65it/s]"
     ]
    },
    {
     "name": "stdout",
     "output_type": "stream",
     "text": [
      "pred:  tensor([1, 1, 7,  ..., 0, 0, 1], device='cuda:0')\n",
      "tgt_output:  tensor([2, 1, 9,  ..., 7, 0, 0], device='cuda:0')\n",
      "pred:  tensor([ 1,  9, 11,  ...,  0,  0,  0], device='cuda:0')\n",
      "tgt_output:  tensor([1, 4, 0,  ..., 7, 0, 0], device='cuda:0')\n",
      "pred:  tensor([1, 1, 1,  ..., 1, 0, 0], device='cuda:0')\n",
      "tgt_output:  tensor([0, 0, 0,  ..., 0, 5, 0], device='cuda:0')\n",
      "pred:  "
     ]
    },
    {
     "name": "stderr",
     "output_type": "stream",
     "text": [
      "100%|██████████| 29/29 [00:01<00:00, 14.90it/s]"
     ]
    },
    {
     "name": "stdout",
     "output_type": "stream",
     "text": [
      "tensor([1, 1, 9,  ..., 1, 1, 1], device='cuda:0')\n",
      "tgt_output:  tensor([0, 1, 7,  ..., 0, 0, 0], device='cuda:0')\n",
      "pred:  tensor([ 1,  1,  1,  9,  6,  1,  0,  1,  0,  1,  1,  3,  9,  6,  1,  0,  1,  0,\n",
      "         1,  0,  1,  1,  1,  7,  7,  0,  1,  0,  0,  1,  1,  1,  1,  1,  0,  7,\n",
      "         0,  1,  7,  1,  1,  0,  7,  0,  1,  7,  0,  1,  7,  1,  0,  1,  7,  0,\n",
      "         0,  1,  0,  1,  1,  1,  7,  0,  1,  1,  1,  0,  0,  0,  0,  1,  9,  0,\n",
      "         0,  1,  1,  1,  1,  7,  0,  1,  0,  0,  1,  1,  7,  1,  0,  0,  0,  7,\n",
      "         0,  0,  1,  7,  1,  0,  1,  7,  0,  7,  0,  1,  7,  0,  0,  0,  0,  0,\n",
      "         0,  1,  0,  1,  0,  0,  0,  0,  0,  0,  0,  1,  1,  1,  1,  1,  1,  0,\n",
      "         0,  3,  0,  1,  1,  1,  1,  1, 11,  0,  0,  0,  1,  9,  1,  0,  1],\n",
      "       device='cuda:0')\n",
      "tgt_output:  tensor([ 0,  0,  1, 10,  6,  7,  0,  3,  0,  0,  5,  1, 10,  6,  7,  0,  2,  6,\n",
      "         3,  0,  0,  9,  1,  1,  2,  0,  7,  7,  0,  0,  0,  2,  0,  0,  8,  7,\n",
      "         0,  1,  9,  0,  2,  1,  7,  0,  1,  7,  0,  1,  9,  3,  0,  1,  3,  7,\n",
      "         0,  7,  0,  0,  0,  1,  2,  0,  0,  0,  5,  2,  0,  0,  0,  1,  7,  4,\n",
      "         0,  2,  0,  4,  1,  7,  0,  0,  5,  9,  0,  1,  2,  0,  0,  0,  1,  7,\n",
      "         0,  2,  6,  9,  0,  2,  1,  5,  6,  0,  2,  1,  5,  6,  0,  0,  0,  0,\n",
      "         2,  0,  9,  5,  4,  0,  0,  5,  7,  0,  0,  0,  0,  0,  5,  0,  0,  0,\n",
      "         8,  7,  0,  0,  0,  0,  0,  4,  0,  0,  0,  2,  1,  9,  7,  0,  0],\n",
      "       device='cuda:0')\n",
      "Epoch 5: train loss 1.8631522096363844, val loss 1.892999163989363\n",
      "Epoch 5: train acc 0.43655047452515805, val acc 0.37170263788968827\n"
     ]
    },
    {
     "name": "stderr",
     "output_type": "stream",
     "text": [
      "\n"
     ]
    }
   ],
   "source": [
    "# train and validate\n",
    "train_losses, val_losses = [], []\n",
    "train_accs, val_accs = [], []\n",
    "for epoch in range(epochs):\n",
    "    train_loss, train_acc = train_epoch(model, train_loader, criterion, optimizer)\n",
    "    val_loss, val_acc = evaluate(model, val_loader, criterion)\n",
    "    # print losses and accuracies for each epoch\n",
    "    print(f'Epoch {epoch + 1}: train loss {train_loss}, val loss {val_loss}')\n",
    "    print(f'Epoch {epoch + 1}: train acc {train_acc}, val acc {val_acc}')\n",
    "    # append losses and accuracies (for plotting later)\n",
    "    train_losses.append(train_loss)\n",
    "    val_losses.append(val_loss)\n",
    "    train_accs.append(train_acc)\n",
    "    val_accs.append(val_acc)\n",
    "\n",
    "\n"
   ]
  },
  {
   "cell_type": "code",
   "execution_count": null,
   "metadata": {},
   "outputs": [],
   "source": [
    "# plot losses\n",
    "plt.plot(train_losses, label='train')\n",
    "plt.plot(val_losses, label='val')\n",
    "plt.legend()\n",
    "plt.show()\n",
    "# plot accuracies\n",
    "plt.plot(train_accs, label='train')\n",
    "plt.plot(val_accs, label='val')\n",
    "plt.legend()\n",
    "plt.show()"
   ]
  },
  {
   "cell_type": "code",
   "execution_count": null,
   "metadata": {},
   "outputs": [],
   "source": [
    "predictions = []\n",
    "\n",
    "for batch in test_loader:\n",
    "    src = batch[\"input_ids\"].to(device)\n",
    "    prediction = generate(model, src, max_seq_length)\n",
    "    predictions.append(prediction)\n",
    "\n",
    "# Convert predictions to whatever format you need for further processing or analysis\n"
   ]
  },
  {
   "cell_type": "code",
   "execution_count": null,
   "metadata": {},
   "outputs": [],
   "source": [
    "# def generate_random_data(n):\n",
    "#     SOS_token = np.array([2])\n",
    "#     EOS_token = np.array([3])\n",
    "#     length = 8\n",
    "\n",
    "#     data = []\n",
    "\n",
    "#     # 1,1,1,1,1,1 -> 1,1,1,1,1\n",
    "#     for i in range(n // 3):\n",
    "#         X = np.concatenate((SOS_token, np.ones(length), EOS_token))\n",
    "#         y = np.concatenate((SOS_token, np.ones(length), EOS_token))\n",
    "#         data.append([X, y])\n",
    "\n",
    "#     # 0,0,0,0 -> 0,0,0,0\n",
    "#     for i in range(n // 3):\n",
    "#         X = np.concatenate((SOS_token, np.zeros(length), EOS_token))\n",
    "#         y = np.concatenate((SOS_token, np.zeros(length), EOS_token))\n",
    "#         data.append([X, y])\n",
    "\n",
    "#     # 1,0,1,0 -> 1,0,1,0,1\n",
    "#     for i in range(n // 3):\n",
    "#         X = np.zeros(length)\n",
    "#         start = random.randint(0, 1)\n",
    "\n",
    "#         X[start::2] = 1\n",
    "\n",
    "#         y = np.zeros(length)\n",
    "#         if X[-1] == 0:\n",
    "#             y[::2] = 1\n",
    "#         else:\n",
    "#             y[1::2] = 1\n",
    "\n",
    "#         X = np.concatenate((SOS_token, X, EOS_token))\n",
    "#         y = np.concatenate((SOS_token, y, EOS_token))\n",
    "\n",
    "#         data.append([X, y])\n",
    "\n",
    "#     np.random.shuffle(data)\n",
    "\n",
    "#     return data\n",
    "\n",
    "\n",
    "# def batchify_data(data, batch_size=16, padding=False, padding_token=-1):\n",
    "#     batches = []\n",
    "#     for idx in range(0, len(data), batch_size):\n",
    "#         # We make sure we dont get the last bit if its not batch_size size\n",
    "#         if idx + batch_size < len(data):\n",
    "#             # Here you would need to get the max length of the batch,\n",
    "#             # and normalize the length with the PAD token.\n",
    "#             if padding:\n",
    "#                 max_batch_length = 0\n",
    "\n",
    "#                 # Get longest sentence in batch\n",
    "#                 for seq in data[idx : idx + batch_size]:\n",
    "#                     if len(seq) > max_batch_length:\n",
    "#                         max_batch_length = len(seq)\n",
    "\n",
    "#                 # Append X padding tokens until it reaches the max length\n",
    "#                 for seq_idx in range(batch_size):\n",
    "#                     remaining_length = max_bath_length - len(data[idx + seq_idx])\n",
    "#                     data[idx + seq_idx] += [padding_token] * remaining_length\n",
    "\n",
    "#             batches.append(np.array(data[idx : idx + batch_size]).astype(np.int64))\n",
    "\n",
    "#     # print(f\"{len(batches)} batches of size {batch_size}\")\n",
    "\n",
    "#     return batches\n",
    "\n",
    "\n",
    "# train_data = generate_random_data(9000)\n",
    "# val_data = generate_random_data(3000)\n",
    "\n",
    "# train_dataloader = batchify_data(train_data)\n",
    "# val_dataloader = batchify_data(val_data)\n",
    "\n",
    "# for batch in train_dataloader:\n",
    "#     X, y = batch[:, 0], batch[:, 1]\n",
    "#     X, y = torch.tensor(X).to(device), torch.tensor(y).to(device)\n",
    "\n",
    "#     # Now we shift the tgt by one so with the <SOS> we predict the token at pos 1\n",
    "#     y_input = y[:,:-1]\n",
    "#     y_expected = y[:,1:]\n",
    "#     print(\"X.shape: \", X.shape)\n",
    "#     print(\"X: \", X)\n",
    "#     print(\"y_input.shape: \", y_input.shape)\n",
    "#     print(\"y_input: \", y_input)\n",
    "#     print(\"y_expected.shape: \", y_expected.shape)\n",
    "#     print(\"y_expected: \", y_expected)\n",
    "#     break\n"
   ]
  },
  {
   "cell_type": "code",
   "execution_count": 23,
   "metadata": {},
   "outputs": [
    {
     "name": "stderr",
     "output_type": "stream",
     "text": [
      "  0%|          | 0/5 [00:00<?, ?it/s]\n"
     ]
    },
    {
     "ename": "RuntimeError",
     "evalue": "Expected all tensors to be on the same device, but found at least two devices, cpu and cuda:0! (when checking argument for argument tensors in method wrapper_CUDA_cat)",
     "output_type": "error",
     "traceback": [
      "\u001b[1;31m---------------------------------------------------------------------------\u001b[0m",
      "\u001b[1;31mRuntimeError\u001b[0m                              Traceback (most recent call last)",
      "Cell \u001b[1;32mIn[23], line 56\u001b[0m\n\u001b[0;32m     53\u001b[0m optimizer\u001b[39m.\u001b[39mzero_grad()\n\u001b[0;32m     55\u001b[0m \u001b[39m# Shift the decoder tokens right (this is a common practice in transformer models)\u001b[39;00m\n\u001b[1;32m---> 56\u001b[0m input_nikud \u001b[39m=\u001b[39m torch\u001b[39m.\u001b[39;49mcat([torch\u001b[39m.\u001b[39;49mfull((target_nikud_ids\u001b[39m.\u001b[39;49msize(\u001b[39m0\u001b[39;49m), \u001b[39m1\u001b[39;49m), no_nikud_id, dtype\u001b[39m=\u001b[39;49mtorch\u001b[39m.\u001b[39;49mlong), target_nikud_ids[:, :\u001b[39m-\u001b[39;49m\u001b[39m1\u001b[39;49m]], dim\u001b[39m=\u001b[39;49m\u001b[39m1\u001b[39;49m)\u001b[39m.\u001b[39mto(device)\n\u001b[0;32m     58\u001b[0m outputs \u001b[39m=\u001b[39m model(input_ids, input_nikud)\n\u001b[0;32m     60\u001b[0m \u001b[39m# Reshape outputs and target_nikud_ids for loss computation\u001b[39;00m\n",
      "\u001b[1;31mRuntimeError\u001b[0m: Expected all tensors to be on the same device, but found at least two devices, cpu and cuda:0! (when checking argument for argument tensors in method wrapper_CUDA_cat)"
     ]
    }
   ],
   "source": [
    "\n",
    "class NikudPredictor(nn.Module):\n",
    "    def __init__(self, vocab_size, pad_idx_src, pad_idx_tgt, no_nikud_id, d_model, nhead, num_encoder_layers, num_decoder_layers, dim_feedforward, dropout):\n",
    "        super(NikudPredictor, self).__init__()\n",
    "        \n",
    "        self.embedding = nn.Embedding(vocab_size, d_model)\n",
    "        self.transformer = Transformer(d_model, nhead, num_encoder_layers, num_decoder_layers, dim_feedforward, dropout)\n",
    "        self.fc_out = nn.Linear(d_model, vocab_size)\n",
    "        self.pad_idx_src = pad_idx_src\n",
    "        self.pad_idx_tgt = pad_idx_tgt\n",
    "        self.no_nikud_id = no_nikud_id\n",
    "\n",
    "    def make_src_mask(self, src):\n",
    "        src_mask = (src != self.pad_idx_src).unsqueeze(-2)\n",
    "        return src_mask\n",
    "\n",
    "    def make_tgt_mask(self, tgt):\n",
    "        tgt_pad_mask = (tgt != self.pad_idx_tgt).unsqueeze(-2)\n",
    "        tgt_sub_mask = torch.triu(torch.ones((tgt.size(1), tgt.size(1))), diagonal=1)\n",
    "        tgt_mask = tgt_pad_mask & tgt_sub_mask\n",
    "        return tgt_mask\n",
    "\n",
    "    def forward(self, src, tgt):\n",
    "        src_mask = self.make_src_mask(src)\n",
    "        tgt_mask = self.make_tgt_mask(tgt)\n",
    "        \n",
    "        embedded_src = self.embedding(src)\n",
    "        embedded_tgt = self.embedding(tgt)\n",
    "        \n",
    "        transformer_out = self.transformer(embedded_src, embedded_tgt, src_mask, tgt_mask)\n",
    "        output = self.fc_out(transformer_out)\n",
    "        \n",
    "        return output\n",
    "\n",
    "d_model = 512\n",
    "nhead = 8\n",
    "num_encoder_layers = 6\n",
    "num_decoder_layers = 6\n",
    "dim_feedforward = 2048\n",
    "dropout = 0.1\n",
    "no_nikud_id = 0\n",
    "pad_idx_src = 0\n",
    "pad_idx_tgt = len(label_to_id)\n",
    "# Assuming you have a DataLoader named 'dataloader' that gives you batches of input_ids and target nikud_ids\n",
    "model = NikudPredictor(vocab_size, pad_idx_src, pad_idx_tgt, no_nikud_id, d_model, nhead, num_encoder_layers, num_decoder_layers, dim_feedforward, dropout)\n",
    "model.to(device)\n",
    "optimizer = optim.Adam(model.parameters(), lr=0.001)\n",
    "criterion = nn.CrossEntropyLoss(ignore_index=pad_idx_tgt)\n",
    "\n",
    "for epoch in tqdm(range(epochs)):\n",
    "    for batch in train_loader:\n",
    "        input_ids = batch[\"input_ids\"].to(device)\n",
    "        target_nikud_ids = batch[\"nikud\"].to(device)\n",
    "        optimizer.zero_grad()\n",
    "        \n",
    "        # Shift the decoder tokens right (this is a common practice in transformer models)\n",
    "        input_nikud = torch.cat([torch.full((target_nikud_ids.size(0), 1), no_nikud_id, dtype=torch.long), target_nikud_ids[:, :-1]], dim=1)\n",
    "        \n",
    "        outputs = model(input_ids, input_nikud)\n",
    "        \n",
    "        # Reshape outputs and target_nikud_ids for loss computation\n",
    "        outputs = outputs.reshape(-1, outputs.shape[2])\n",
    "        target_nikud_ids = target_nikud_ids.reshape(-1)\n",
    "        \n",
    "        loss = criterion(outputs, target_nikud_ids)\n",
    "        loss.backward()\n",
    "        optimizer.step()\n"
   ]
  }
 ],
 "metadata": {
  "kernelspec": {
   "display_name": "NLP",
   "language": "python",
   "name": "python3"
  },
  "language_info": {
   "codemirror_mode": {
    "name": "ipython",
    "version": 3
   },
   "file_extension": ".py",
   "mimetype": "text/x-python",
   "name": "python",
   "nbconvert_exporter": "python",
   "pygments_lexer": "ipython3",
   "version": "3.10.11"
  },
  "orig_nbformat": 4
 },
 "nbformat": 4,
 "nbformat_minor": 2
}
