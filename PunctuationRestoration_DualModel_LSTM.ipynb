{
 "cells": [
  {
   "cell_type": "code",
   "execution_count": 1,
   "metadata": {},
   "outputs": [],
   "source": [
    "# pip installs"
   ]
  },
  {
   "cell_type": "code",
   "execution_count": 1,
   "metadata": {},
   "outputs": [
    {
     "name": "stdout",
     "output_type": "stream",
     "text": [
      "cuda\n"
     ]
    }
   ],
   "source": [
    "import os\n",
    "import re\n",
    "import numpy as np\n",
    "import pandas as pd\n",
    "import matplotlib.pyplot as plt\n",
    "import seaborn as sns\n",
    "import pickle\n",
    "\n",
    "import torch\n",
    "import torch.nn as nn\n",
    "import torch.nn.functional as F\n",
    "import torch.optim as optim\n",
    "from torch.utils.data import Dataset, DataLoader\n",
    "from torch.nn.utils.rnn import pad_sequence\n",
    "from torch.nn import TransformerEncoder, TransformerEncoderLayer\n",
    "from torch.nn import TransformerDecoder, TransformerDecoderLayer\n",
    "from torch.nn import Transformer\n",
    "\n",
    "from sklearn.model_selection import train_test_split\n",
    "import statistics\n",
    "from tqdm import tqdm\n",
    "\n",
    "from sklearn import metrics\n",
    "from sklearn.metrics import accuracy_score , roc_auc_score, classification_report\n",
    "from sklearn.metrics import confusion_matrix, precision_recall_fscore_support\n",
    "\n",
    "from zipfile import ZipFile\n",
    "\n",
    "from tokenizers import Tokenizer, models, pre_tokenizers, trainers\n",
    "from transformers import AutoTokenizer, AutoModelForMaskedLM\n",
    "\n",
    "import requests\n",
    "import os\n",
    "import json\n",
    "\n",
    "from torch.utils.data import Dataset, DataLoader, random_split\n",
    "import random\n",
    "\n",
    "# set device\n",
    "device = torch.device(\"cuda\" if torch.cuda.is_available() else \"cpu\")\n",
    "print(device)"
   ]
  },
  {
   "cell_type": "markdown",
   "metadata": {},
   "source": [
    "### Define seeds"
   ]
  },
  {
   "cell_type": "code",
   "execution_count": 2,
   "metadata": {},
   "outputs": [],
   "source": [
    "# define seed for reproducibility\n",
    "seed = 42\n",
    "torch.manual_seed(seed)\n",
    "np.random.seed(seed)\n",
    "random.seed(seed)"
   ]
  },
  {
   "cell_type": "markdown",
   "metadata": {},
   "source": [
    "# Data preprocessing\n",
    "\n",
    "### here we need to load the data and extract only data with vowels punctuations"
   ]
  },
  {
   "cell_type": "code",
   "execution_count": 3,
   "metadata": {},
   "outputs": [],
   "source": [
    "# path to the jason file for the dataset\n",
    "data_json_path = 'data/books.json'\n",
    "\n",
    "# Root directory where the downloaded files will be saved\n",
    "texts_path = 'data/texts'\n",
    "\n",
    "\n",
    "# Create the directory if it does not exist\n",
    "if not os.path.exists(texts_path):\n",
    "    os.makedirs(texts_path)\n",
    "\n",
    "\n",
    "# Load the json dataset\n",
    "with open(data_json_path, 'r', encoding='utf-8') as f:\n",
    "    jason_data = json.load(f)"
   ]
  },
  {
   "cell_type": "markdown",
   "metadata": {},
   "source": [
    "# download the files and save them in a folder\n",
    "\n",
    "#### remove\\add the comment as needed"
   ]
  },
  {
   "cell_type": "code",
   "execution_count": 4,
   "metadata": {},
   "outputs": [],
   "source": [
    "# # Loop through the json dataset and download the files\n",
    "# for entry in tqdm(jason_data):\n",
    "#     try:\n",
    "#         # Download the Nikud Meteg file\n",
    "#         if entry['fileName'] + '__nikud_meteg' in os.listdir(texts_path):\n",
    "#             continue\n",
    "#         nikud_meteg_url = entry['nikudMetegFileURL']\n",
    "#         nikud_meteg_local_path = os.path.join(texts_path, entry['fileName'] + '__nikud_meteg.zip')\n",
    "#         nikud_meteg_response = requests.get(nikud_meteg_url)\n",
    "#         with open(nikud_meteg_local_path, 'wb') as f:\n",
    "#             f.write(nikud_meteg_response.content)\n",
    "\n",
    "#             # Unzip the Nikud Meteg file\n",
    "#             with ZipFile(nikud_meteg_local_path, 'r') as zipObj:\n",
    "#                 zipObj.extractall(os.path.join(texts_path, entry['fileName'] + '__nikud_meteg'))\n",
    "#     except Exception as e:\n",
    "#         print(f\"Error reading file {entry['fileName']}: {e}\")\n",
    "#         continue\n",
    "\n",
    "\n",
    "# # iterate through the texts folder and delete the zip folders\n",
    "# for file in tqdm(os.listdir(texts_path)):\n",
    "#     if file.endswith(\".zip\"):\n",
    "#         os.remove(os.path.join(texts_path, file))"
   ]
  },
  {
   "cell_type": "markdown",
   "metadata": {},
   "source": [
    "# Author files\n",
    "\n",
    "### Create a dictionary whose keys are authors and values are a list containing all it's files"
   ]
  },
  {
   "cell_type": "code",
   "execution_count": 5,
   "metadata": {},
   "outputs": [],
   "source": [
    "# Define a method to create the author files dictionary\n",
    "def create_author_files_dict(author_files):\n",
    "    \"\"\"\n",
    "    This function creates a dictionary of author files with a list of their corresponding texts.\n",
    "    \"\"\"\n",
    "    author_files_dict = {}\n",
    "    for file in author_files:\n",
    "        author_files_dict[file] = []\n",
    "        for text_file_name in os.listdir(os.path.join(texts_path, file)):\n",
    "            if text_file_name.endswith('.txt'):\n",
    "                author_files_dict[file].append(text_file_name)\n",
    "    return author_files_dict\n",
    "\n",
    "author_files = os.listdir(texts_path)\n",
    "author_files_dict = create_author_files_dict(author_files)"
   ]
  },
  {
   "cell_type": "markdown",
   "metadata": {},
   "source": [
    "# Functions to clean the data"
   ]
  },
  {
   "cell_type": "code",
   "execution_count": 6,
   "metadata": {},
   "outputs": [],
   "source": [
    "# Nikud unicode range (https://en.wikipedia.org/wiki/Unicode_and_HTML_for_the_Hebrew_alphabet)\n",
    "\n",
    "\n",
    "#dictionary of nikud to name\n",
    "nikud_dict = { 'ְ' : 'Sheva', 'ֱ' : 'Hataf Segol', 'ֲ' : 'Hataf Patah', 'ֳ' : 'Hataf Qamats', 'ִ' : 'Hiriq', 'ֵ' : 'Tseri', 'ֶ' : 'Segol', 'ַ' : 'Patah', 'ָ' : 'Qamats', 'ֹ' : 'Holam', 'ֻ' : 'Qubuts', 'ּ' : 'Dagesh', 'ֽ' : 'Siluk', '־' : 'Maqaf', 'ֿ' : 'Rafe', 'ׁ' : 'Shin Dot', 'ׂ' : 'Sin Dot', 'ׄ' : 'Upper Dot', 'ׅ' : 'Lower Dot', 'ׇ' : 'Point Meteg', 'װ' : 'Yiddish Double Vav', 'ױ' : 'Yiddish Vav Yod', 'ײ' : 'Yiddish Double Yod', '׳' : 'Geresh', '״' : 'Gershayim' }\n",
    "# TODO: remove Siluk, Point Meteg\n",
    "# make inverse dictionary\n",
    "nikud_dict_inv = {v: k for k, v in nikud_dict.items()}\n",
    "\n",
    "# Read a txt file from the author files dictionary\n",
    "def read_txt_file(file_path):\n",
    "    \"\"\"\n",
    "    This function reads a txt file and returns the text as a string.\n",
    "    \"\"\"\n",
    "    with open(file_path, 'r', encoding='utf-8') as f:\n",
    "        text = f.read()\n",
    "    return text\n",
    "\n",
    "def remove_nikud(string):\n",
    "    \"\"\"Removes the nikud from the given string.\"\"\"\n",
    "    nikud = re.compile(r'[\\u0591-\\u05C7]')\n",
    "    return nikud.sub(\"\", string)\n",
    "\n",
    "def get_nikud(word):\n",
    "    \"\"\"Returns the nikud from the given word.\"\"\"\n",
    "    nikud = re.compile(r'[\\u0591-\\u05C7]')\n",
    "    current_nikud = ''\n",
    "    nikud_arr = []\n",
    "    for i in range(len(word)):\n",
    "        if i == 0:\n",
    "            continue\n",
    "        if nikud.match(word[i]):\n",
    "            current_nikud += word[i]\n",
    "        else:\n",
    "            nikud_arr.append(current_nikud)\n",
    "            current_nikud = ''\n",
    "    nikud_arr.append(current_nikud)\n",
    "    return nikud_arr\n",
    "\n",
    "def add_nikud(word, nikud):\n",
    "    \"\"\"Adds the nikud to the given word.\"\"\"\n",
    "    new_word = ''\n",
    "    for i in range(len(word)):\n",
    "        new_word += word[i] + nikud[i]\n",
    "    return new_word\n",
    "\n",
    "def add_nikud_to_text(text, nikud, word_lengths):\n",
    "    \"\"\"Adds the nikud to the given text.\"\"\"\n",
    "    new_text = ''\n",
    "    split_words = text.split()\n",
    "    current_index = 0\n",
    "    for word, word_length in zip(split_words, word_lengths):\n",
    "        new_text += add_nikud(word, nikud[current_index:current_index+word_length]) + ' '\n",
    "        current_index += word_length\n",
    "    return new_text\n",
    "\n",
    "def remove_first_char_if_nikud(word):\n",
    "    \"\"\"Removes the first char of the word if it is nikud.\"\"\"\n",
    "    nikud = re.compile(r'[\\u0591-\\u05C7]')\n",
    "    index = 0\n",
    "    while index < len(word) and nikud.match(word[index]):\n",
    "        index += 1\n",
    "    return word[index:] if index < len(word) else ''\n",
    "    \n",
    "\n",
    "def get_words_indices_from_text(text):\n",
    "    \"\"\"Returns the indices of the words in the given text.\"\"\"\n",
    "    text_words = text.split()\n",
    "    text_words_lengths = list(map(len, text_words))\n",
    "    text_words_indices = [(sum(text_words_lengths[:i]), sum(text_words_lengths[:i+1])-1) for i in range(len(text_words_lengths))]\n",
    "    return text_words_indices"
   ]
  },
  {
   "cell_type": "markdown",
   "metadata": {},
   "source": [
    "### Test nikud functions"
   ]
  },
  {
   "cell_type": "code",
   "execution_count": 7,
   "metadata": {},
   "outputs": [
    {
     "name": "stdout",
     "output_type": "stream",
     "text": [
      "sentence_words: ['פֶּתַח', 'דָּבָר', 'יִתְבָּרֵךְ', 'הַבּוֹרֵא', 'וְיִשְׁתַּבַּח', 'הַיּוֹצֵר', 'אֲשֶׁר', 'מֵעוּדַי', 'גָּבַר', 'עָלַי', 'חַסְדּוֹ'] len: 11\n",
      "nikud: [['ֶּ', 'ַ', ''], ['ָּ', 'ָ', ''], ['ִ', 'ְ', 'ָּ', 'ֵ', 'ְ'], ['ַ', 'ּ', 'ֹ', 'ֵ', ''], ['ְ', 'ִ', 'ְׁ', 'ַּ', 'ַּ', ''], ['ַ', 'ּ', 'ֹ', 'ֵ', ''], ['ֲ', 'ֶׁ', ''], ['ֵ', '', 'ּ', 'ַ', ''], ['ָּ', 'ַ', ''], ['ָ', 'ַ', ''], ['ַ', 'ְ', 'ּ', 'ֹ']] len: 11\n",
      "Original word == word with nikud\n",
      "Original word == word with nikud\n",
      "Original word == word with nikud\n",
      "Original word == word with nikud\n",
      "Original word == word with nikud\n",
      "Original word == word with nikud\n",
      "Original word == word with nikud\n",
      "Original word == word with nikud\n",
      "Original word == word with nikud\n",
      "Original word == word with nikud\n",
      "Original word == word with nikud\n"
     ]
    }
   ],
   "source": [
    "# test the functions for adding and removing nikud\n",
    "text = read_txt_file(os.path.join(texts_path, 'afikeiyam1__nikud_meteg', 'afikeiyam1-002__nikud_meteg.txt'))\n",
    "# take just the first 100 characters\n",
    "text = text[:100]\n",
    "# remove extra spaces\n",
    "text = re.sub(' +', ' ', text)\n",
    "# trim text\n",
    "text = text.strip()\n",
    "# text_no_nikud = remove_nikud(text)\n",
    "# text_nikud = get_nikud(text)\n",
    "# text_with_nikud = add_nikud_to_text(text_no_nikud, text_nikud)\n",
    "\n",
    "sentence_words = text.split()\n",
    "print(f'sentence_words: {sentence_words} len: {len(sentence_words)}')\n",
    "# remove the nikud from the sentence\n",
    "sentence_without_nikud = remove_nikud(text)\n",
    "sentence_words_without_nikud = sentence_without_nikud.split()\n",
    "# get the nikud from the sentence\n",
    "nikud = list(map(get_nikud, sentence_words))\n",
    "print(f'nikud: {nikud} len: {len(nikud)}')\n",
    "for i in range(len(sentence_words)):\n",
    "    # print(f'Original word: {sentence_words[i]}')\n",
    "    # print(f'Nikud: {nikud[i]}')\n",
    "    # print(f'Word with nikud: {add_nikud(sentence_words_without_nikud[i], nikud[i])}')\n",
    "    print(f'Original word {\"==\" if sentence_words[i] == add_nikud(sentence_words_without_nikud[i], nikud[i]) else \"!=\"} word with nikud')\n",
    "\n",
    "# sentence_with_nikud = []\n",
    "# for i, word in enumerate(sentence_words):\n",
    "#     sentence_with_nikud.append(add_nikud_to_text(word, nikud[i]))\n",
    "# print(' '.join(sentence_with_nikud))\n",
    "\n",
    "# print(\"original text:\\n\", text)\n",
    "# print(\"text with added nikud:\\n\", text_with_nikud)\n",
    "# print(\"text without nikud:\\n\", text_no_nikud)\n",
    "# print(\"nikud array:\\n\", text_nikud)\n",
    "# print(\"original is equal to text with added nikud:\", text == text_with_nikud)"
   ]
  },
  {
   "cell_type": "markdown",
   "metadata": {},
   "source": [
    "## Create a unified csv of all sentences"
   ]
  },
  {
   "cell_type": "code",
   "execution_count": 8,
   "metadata": {},
   "outputs": [],
   "source": [
    "import csv\n",
    "\n",
    "#dictionary of nikud to name\n",
    "nikud_dict = { 'ְ' : 'Sheva', 'ֱ' : 'Hataf Segol', 'ֲ' : 'Hataf Patah', 'ֳ' : 'Hataf Qamats', 'ִ' : 'Hiriq', 'ֵ' : 'Tseri', 'ֶ' : 'Segol', 'ַ' : 'Patah', 'ָ' : 'Qamats', 'ֹ' : 'Holam', 'ֻ' : 'Qubuts', 'ּ' : 'Dagesh', 'ֽ' : 'Siluk', '־' : 'Maqaf', 'ֿ' : 'Rafe', 'ׁ' : 'Shin Dot', 'ׂ' : 'Sin Dot', 'ׄ' : 'Upper Dot', 'ׅ' : 'Lower Dot', 'ׇ' : 'Point Meteg', 'װ' : 'Yiddish Double Vav', 'ױ' : 'Yiddish Vav Yod', 'ײ' : 'Yiddish Double Yod', '׳' : 'Geresh', '״' : 'Gershayim' }\n",
    "# make inverse dictionary\n",
    "nikud_dict_inv = {v: k for k, v in nikud_dict.items()}\n",
    "if 'full_data_without_puncts.csv' not in os.listdir('data'):\n",
    "    columns = ['text_with_nikud', 'text_without_nikud', 'nikud', 'author', 'file_name', 'sentence_num']\n",
    "    with open('data/full_data_without_puncts.csv', 'w', encoding='utf-8') as f:\n",
    "        writer = csv.writer(f)\n",
    "        writer.writerow(columns)\n",
    "        for author in tqdm(author_files_dict):\n",
    "            for file in author_files_dict[author]:\n",
    "                text = read_txt_file(os.path.join(texts_path, author, file))\n",
    "                sentences = re.split(r'\\n|\\.', text)\n",
    "                for i, sentence in enumerate(sentences):\n",
    "                    sentence = re.sub('\\'|\\\"|\\(|\\)', '', sentence)\n",
    "                    # Remove Dagesh, Shin Dot, Sin Dot using nikud_dict_inv\n",
    "                    sentence = re.sub(nikud_dict_inv['Dagesh'], '', sentence)\n",
    "                    sentence = re.sub(nikud_dict_inv['Shin Dot'], '', sentence)\n",
    "                    sentence = re.sub(nikud_dict_inv['Sin Dot'], '', sentence)\n",
    "                    sentence = re.sub(nikud_dict_inv['Siluk'], '', sentence)\n",
    "                    sentence = re.sub(nikud_dict_inv['Point Meteg'], '', sentence)\n",
    "                    # Keep only the nikud and hebrew letters and spaces\n",
    "                    sentence = re.sub(r'[^א-ת' + ''.join(nikud_dict.keys()) + '\\s]', '', sentence)\n",
    "                    # remove multiple spaces\n",
    "                    sentence = re.sub(r'\\s+', ' ', sentence)\n",
    "                    sentence = sentence.strip()\n",
    "                    if sentence == '':\n",
    "                        continue\n",
    "                    # split the sentence into words\n",
    "                    sentence_words = sentence.split()\n",
    "                    # remove the nikud from the sentence\n",
    "                    sentence_without_nikud = remove_nikud(sentence)\n",
    "                    # make sure first char is not in [\\u0591-\\u05C7]\n",
    "                    sentence_words = list(map(remove_first_char_if_nikud, sentence_words))\n",
    "                    sentence_words = [word for word in sentence_words if word != '']\n",
    "                    sentence = ' '.join(sentence_words)\n",
    "                    # get the nikud from the sentence\n",
    "                    nikud = list(map(get_nikud, sentence_words))\n",
    "                \n",
    "                    flag = True\n",
    "                    no_nikud_words = sentence_without_nikud.split()\n",
    "                    for j in range(len(no_nikud_words)):\n",
    "                        if sentence_words[j] != add_nikud(no_nikud_words[j], nikud[j]):\n",
    "                            test_word = sentence_words[j]\n",
    "                            flag = False\n",
    "                            print('No match')\n",
    "                                \n",
    "                    # add the sentence to the dataframe\n",
    "                    writer.writerow([sentence, sentence_without_nikud, nikud, author, file, i])"
   ]
  },
  {
   "cell_type": "markdown",
   "metadata": {},
   "source": [
    "#### Load the data from the csv and remove sentences with more than 100 chars (without spaces) and save as json"
   ]
  },
  {
   "cell_type": "code",
   "execution_count": 9,
   "metadata": {},
   "outputs": [],
   "source": [
    "if not os.path.exists(\"./data/full_data_without_puncts.json\"):\n",
    "    # #read only first 100000 rows of the CSV, we will use this for now\n",
    "    data_df = pd.read_csv('data/full_data_without_puncts.csv', nrows=500000, converters={'nikud': eval})#, chunksize=10000)\n",
    "    # print(data_df.head())\n",
    "\n",
    "    # for chunk in data_df:\n",
    "    #     chunk = chunk[chunk['text_without_nikud'].str.replace(' ', '').str.len() <= 100]\n",
    "    #     chunk.to_json('data/full_data_without_puncts.json', orient='records', lines=True, mode='a')\n",
    "    # # keep only rows s.t the length of the text (without spaces) is at most 100\n",
    "    data_df = data_df[data_df['text_without_nikud'].str.replace(' ', '').str.len() <= 100]\n",
    "\n",
    "    # # save the dataframe to a json file\n",
    "    data_df.to_json('data/full_data_without_puncts.json', orient='records', lines=True)"
   ]
  },
  {
   "cell_type": "markdown",
   "metadata": {},
   "source": [
    "##### read the json short data"
   ]
  },
  {
   "cell_type": "code",
   "execution_count": 10,
   "metadata": {},
   "outputs": [
    {
     "name": "stdout",
     "output_type": "stream",
     "text": [
      "(304205, 6)\n"
     ]
    }
   ],
   "source": [
    "# read the json file\n",
    "data_df = pd.read_json('data/full_data_without_puncts.json', orient='records', lines=True)#, nrows=55000)\n",
    "print(data_df.shape)"
   ]
  },
  {
   "cell_type": "markdown",
   "metadata": {},
   "source": [
    "make dataset smaller for testing and grid search"
   ]
  },
  {
   "cell_type": "code",
   "execution_count": 11,
   "metadata": {},
   "outputs": [
    {
     "name": "stdout",
     "output_type": "stream",
     "text": [
      "(304205, 6)\n"
     ]
    }
   ],
   "source": [
    "# DELETE this block, only for debugging make the data smaller (randomly select 5000 rows)\n",
    "# data_df = data_df.sample(n=5000, random_state=1)\n",
    "print(data_df.shape)"
   ]
  },
  {
   "cell_type": "markdown",
   "metadata": {},
   "source": [
    "#### This block loops through each row in the data_df dataframe, reconstructs the original sentence with nikud, and compares it to the original sentence.\n",
    "#### If the reconstructed sentence is not the same as the original text, it prints debugging information and checks character by character to find where the two strings differ."
   ]
  },
  {
   "cell_type": "code",
   "execution_count": 12,
   "metadata": {},
   "outputs": [],
   "source": [
    "\"\"\" block explanation\n",
    "# This block loops through each row in the data_df dataframe, reconstructs the original sentence with nikud, and compares it to the original sentence.\n",
    "# If the reconstructed sentence is not the same as the original text, it prints debugging information and checks character by character to find where the two strings differ.\n",
    "\"\"\"\n",
    "\n",
    "\n",
    "# Loop through each row in the data_df dataframe\n",
    "for i in range(len(data_df)):\n",
    "    \n",
    "    # Get the original text, processed text, and nikud for the current row\n",
    "    original_text = data_df.iloc[i]['text_with_nikud']\n",
    "    processed_text = data_df.iloc[i]['text_without_nikud'].split()\n",
    "    nikud = data_df.iloc[i]['nikud']\n",
    "    \n",
    "    # Initialize an empty string to hold the reconstructed sentence\n",
    "    sentence = ''\n",
    "    \n",
    "    # Loop through each word in the processed text and add the corresponding nikud\n",
    "    for j in range(len(processed_text)):\n",
    "        sentence += add_nikud(processed_text[j], nikud[j]) + ' '\n",
    "    \n",
    "    # Remove the last space from the sentence\n",
    "    sentence = sentence[:-1]\n",
    "    \n",
    "    # If the reconstructed sentence is not the same as the original text, print some debugging information\n",
    "    if original_text.strip(' ') != sentence:\n",
    "        print('Original text:\\n', original_text.strip(' '))\n",
    "        print('Original text length: ', len(original_text.strip(' ')))\n",
    "        print('Processed text:\\n', sentence)\n",
    "        print('Processed text length: ', len(sentence))\n",
    "        \n",
    "        # Check character by character to find where the two strings differ\n",
    "        for k in range(len(original_text.strip(' '))):\n",
    "            if original_text.strip(' ')[k] != sentence[k]:\n",
    "                print('Character: ', original_text.strip(' ')[k])\n",
    "                print('Character: ', sentence[k])\n",
    "                print('Index: ', k)\n",
    "                print('j: ', j)\n",
    "                break\n",
    "        \n",
    "        print('-----------------------------------')\n",
    "        break\n",
    "\n"
   ]
  },
  {
   "cell_type": "code",
   "execution_count": 15,
   "metadata": {},
   "outputs": [],
   "source": [
    "# # print(original_text[0])\n",
    "# new_def_text = remove_first_char_if_nikud(original_text)\n",
    "# print(new_def_text)\n",
    "# print(sentence)\n",
    "# for i in range(len(new_def_text.strip(' '))):\n",
    "#     if new_def_text.strip(' ')[i] != sentence[i]:\n",
    "#         print('Character: ', new_def_text.strip(' ')[i])\n",
    "#         print('Character: ', sentence[i])\n",
    "#         print('Index: ', i)"
   ]
  },
  {
   "cell_type": "markdown",
   "metadata": {},
   "source": [
    "#### Define dictionary label_to_id and id_to_label\n"
   ]
  },
  {
   "cell_type": "code",
   "execution_count": 13,
   "metadata": {},
   "outputs": [
    {
     "name": "stderr",
     "output_type": "stream",
     "text": [
      "100%|██████████| 304205/304205 [00:02<00:00, 108117.69it/s]"
     ]
    },
    {
     "name": "stdout",
     "output_type": "stream",
     "text": [
      "{'<no_nikud>': 0, 'ֶ': 1, 'ַ': 2, 'ָ': 3, 'ִ': 4, 'ְ': 5, 'ֵ': 6, 'ֹ': 7, 'ֲ': 8, 'ֱ': 9, 'ֳ': 10, 'ֻ': 11, 'ַָ': 12, 'ַָ': 13, 'ִַ': 14, 'ִָ': 15, 'ְִ': 16, 'ֿ': 17, 'ָֹ': 18, 'ִֿ': 19, 'ְֹ': 20, 'ִַ': 21}\n"
     ]
    },
    {
     "name": "stderr",
     "output_type": "stream",
     "text": [
      "\n"
     ]
    }
   ],
   "source": [
    "label_to_id = {'<no_nikud>': 0}\n",
    "id_to_label = {0: '<no_nikud>'}\n",
    "for label_list in tqdm(data_df['nikud']):\n",
    "    # flatten the list\n",
    "    label_list = [item for sublist in label_list for item in sublist]\n",
    "    for label in label_list:\n",
    "        if len(label) == 0:\n",
    "            label = \"<no_nikud>\"\n",
    "        if label not in label_to_id:\n",
    "            label_to_id[label] = len(label_to_id)\n",
    "            id_to_label[len(id_to_label)] = label\n",
    "\n",
    "print(label_to_id)\n",
    "\n"
   ]
  },
  {
   "cell_type": "markdown",
   "metadata": {},
   "source": [
    "#### count labels and plot, define set_no_nikud_weights for label weights"
   ]
  },
  {
   "cell_type": "code",
   "execution_count": 14,
   "metadata": {},
   "outputs": [
    {
     "name": "stderr",
     "output_type": "stream",
     "text": [
      "100%|██████████| 304205/304205 [00:03<00:00, 79561.65it/s]\n"
     ]
    },
    {
     "name": "stdout",
     "output_type": "stream",
     "text": [
      "{'ֶ': 558316, 'ַ': 1246622, '<no_nikud>': 6558278, 'ָ': 1528514, 'ִ': 1097415, 'ְ': 1738571, 'ֵ': 690288, 'ֹ': 628049, 'ֲ': 163557, 'ֱ': 23864, 'ֳ': 1527, 'ֻ': 61903, 'ַָ': 4, 'ַָ': 18, 'ִַ': 1, 'ִָ': 1, 'ְִ': 33, 'ֿ': 1, 'ָֹ': 1, 'ִֿ': 4, 'ְֹ': 1, 'ִַ': 1}\n",
      "['Segol', 'Patah', 'Qamats', 'Hiriq', 'Sheva', 'Tseri', 'Holam', 'Hataf Patah', 'Hataf Segol', 'Hataf Qamats', 'Qubuts', 'Patah Qamats', 'Qamats Patah', 'Hiriq Patah', 'Hiriq Qamats', 'Sheva Hiriq', 'Rafe', 'Qamats Holam', 'Hiriq Rafe', 'Sheva Holam', 'Patah Hiriq']\n",
      "[('<no_nikud>', 6558278), ('ְ', 1738571), ('ָ', 1528514), ('ַ', 1246622), ('ִ', 1097415), ('ֵ', 690288), ('ֹ', 628049), ('ֶ', 558316), ('ֲ', 163557), ('ֻ', 61903), ('ֱ', 23864), ('ֳ', 1527), ('ְִ', 33), ('ַָ', 18), ('ַָ', 4), ('ִֿ', 4), ('ִַ', 1), ('ִָ', 1), ('ֿ', 1), ('ָֹ', 1), ('ְֹ', 1), ('ִַ', 1)]\n"
     ]
    },
    {
     "data": {
      "image/png": "[encoded data removed]",
      "text/plain": [
       "<Figure size 800x400 with 1 Axes>"
      ]
     },
     "metadata": {},
     "output_type": "display_data"
    }
   ],
   "source": [
    "# Count the number of each label\n",
    "label_count = {}\n",
    "for label_list in tqdm(data_df['nikud']):\n",
    "    # Flatten the list\n",
    "    label_list = [item for sublist in label_list for item in sublist]\n",
    "    for label in label_list:\n",
    "        if len(label) == 0:\n",
    "            label = \"<no_nikud>\"\n",
    "        if label not in label_count:\n",
    "            label_count[label] = 0\n",
    "        label_count[label] += 1\n",
    "\n",
    "print(label_count)\n",
    "label_str = label_count.keys()\n",
    "label_names = []\n",
    "# remove \"<no_nikud>\" from label_str\n",
    "label_str = [label for label in label_str if label != \"<no_nikud>\"]\n",
    "# nikud_dict\n",
    "# each label in label str is of len >=1, convert each of those using nikud_dict\n",
    "#  \n",
    "for label in label_str:\n",
    "    label_name = []\n",
    "    for i in range(len(label)):\n",
    "        label_name.append(nikud_dict[label[i]])\n",
    "    label_names.append(' '.join(label_name))\n",
    "print(label_names)\n",
    "# Plot counts of each label (sorted)\n",
    "sorted_labels = sorted(label_count.items(), key=lambda x: x[1], reverse=True)\n",
    "print(sorted_labels)\n",
    "plt.figure(figsize=(8, 4))\n",
    "plt.xticks(rotation=90)\n",
    "plt.xlabel('Label')\n",
    "plt.ylabel('Count')\n",
    "plt.title('Label Counts')\n",
    "plt.bar([x[0] for x in sorted_labels], [x[1] for x in sorted_labels])\n",
    "plt.show()\n",
    "\n",
    "\n",
    "def set_no_nikud_weights(weight=0.33):\n",
    "    label_weights = {}\n",
    "    for label in label_count:\n",
    "        if label == \"<no_nikud>\":\n",
    "            label_weights[label] = weight\n",
    "        else:\n",
    "            label_weights[label] = 1\n",
    "    sum_weights = sum(label_weights.values())\n",
    "    for label in label_weights:\n",
    "        label_weights[label] /= sum_weights\n",
    "    # sort labels by label_to_id\n",
    "    label_weights = {k: v for k, v in sorted(label_weights.items(), key=lambda item: label_to_id[item[0]])}\n",
    "    return label_weights\n",
    "    "
   ]
  },
  {
   "cell_type": "markdown",
   "metadata": {},
   "source": [
    "### EDA - DataAnalysis on short_df"
   ]
  },
  {
   "cell_type": "code",
   "execution_count": 15,
   "metadata": {},
   "outputs": [],
   "source": [
    "import matplotlib.pyplot as plt\n",
    "from collections import Counter\n",
    "from itertools import chain\n",
    "\n",
    "class DataAnalysis:\n",
    "    def __init__(self, data_df):\n",
    "        self.data_df = data_df.copy()\n",
    "        \n",
    "    def author_distribution(self):\n",
    "        # Distribution of authors\n",
    "        author_distribution = self.data_df['author'].value_counts()\n",
    "\n",
    "        # Bar plot of the distribution of the top 20 authors\n",
    "        plt.figure(figsize=(10, 6))\n",
    "        author_distribution[:20].plot(kind='bar')\n",
    "        plt.xlabel('Author')\n",
    "        plt.ylabel('Frequency')\n",
    "        plt.title('Top 20 Authors')\n",
    "        plt.xticks(rotation=90)\n",
    "        plt.show()\n",
    "        \n",
    "    def file_distribution(self):\n",
    "        # Distribution of files\n",
    "        file_distribution = self.data_df['file_name'].value_counts()\n",
    "\n",
    "        # Bar plot of the distribution of the top 20 files\n",
    "        plt.figure(figsize=(10, 6))\n",
    "        file_distribution[:20].plot(kind='bar')\n",
    "        plt.xlabel('File')\n",
    "        plt.ylabel('Frequency')\n",
    "        plt.title('Top 20 Files')\n",
    "        plt.xticks(rotation=90)\n",
    "        plt.show()\n",
    "        \n",
    "    def sentence_length_distribution(self):\n",
    "        # Create a new column for sentence length\n",
    "        self.data_df['sentence_length'] = self.data_df['text_without_nikud'].str.split().str.len()\n",
    "\n",
    "        # Get the distribution of sentence lengths\n",
    "        sentence_length_distribution = self.data_df['sentence_length'].value_counts().sort_index()\n",
    "\n",
    "        # Histogram of the distribution of sentence lengths\n",
    "        plt.figure(figsize=(10, 6))\n",
    "        plt.hist(self.data_df['sentence_length'], bins=50, alpha=0.5)\n",
    "        plt.xlabel('Sentence Length')\n",
    "        plt.ylabel('Frequency')\n",
    "        plt.title('Distribution of Sentence Lengths')\n",
    "        plt.show()\n",
    "        \n",
    "    def common_words(self):\n",
    "        # Tokenize the sentences\n",
    "        tokenized_sentences = self.data_df['text_without_nikud'].str.split()\n",
    "\n",
    "        # Flatten the list of tokens and count the frequency of each token\n",
    "        word_counts = Counter(chain.from_iterable(tokenized_sentences))\n",
    "\n",
    "        # Get the 20 most common words\n",
    "        common_words = word_counts.most_common(20)\n",
    "\n",
    "        # Bar plot of the frequency of the 20 most common words\n",
    "        plt.figure(figsize=(10, 6))\n",
    "        words, counts = zip(*common_words)\n",
    "        plt.bar(words, counts)\n",
    "        plt.xlabel('Word')\n",
    "        plt.ylabel('Frequency')\n",
    "        plt.title('20 Most Common Words')\n",
    "        plt.xticks(rotation=90)\n",
    "        plt.show()\n",
    "        \n",
    "    def common_nikud(self):\n",
    "        # Flatten the list of Nikud and count the frequency of each Nikud\n",
    "        nikud_counts = Counter(chain.from_iterable(chain.from_iterable(self.data_df['nikud'])))\n",
    "\n",
    "        # Get the 20 most common Nikud\n",
    "        common_nikud = nikud_counts.most_common(20)\n",
    "\n",
    "        # Bar plot of the frequency of the 20 most common Nikud\n",
    "        plt.figure(figsize=(10, 6))\n",
    "        nikud, counts = zip(*common_nikud)\n",
    "        plt.bar(nikud, counts)\n",
    "        plt.xlabel('Nikud')\n",
    "        plt.ylabel('Frequency')\n",
    "        plt.title('20 Most Common Nikud')\n",
    "        plt.xticks(rotation=90)\n",
    "        plt.show()\n",
    "\n",
    "# #instantiate the class and call the methods\n",
    "# data_analysis = DataAnalysis(data_df)\n",
    "# data_analysis.author_distribution()\n",
    "# data_analysis.file_distribution()\n",
    "# data_analysis.sentence_length_distribution()\n",
    "# data_analysis.common_words()\n",
    "# data_analysis.common_nikud()\n"
   ]
  },
  {
   "cell_type": "markdown",
   "metadata": {},
   "source": [
    "#### download tokenizer and model\n",
    "(alephbert-base, with vocab of words with len <= 1)"
   ]
  },
  {
   "cell_type": "code",
   "execution_count": 16,
   "metadata": {},
   "outputs": [],
   "source": [
    "model_path = 'C:\\\\Users\\\\baruc\\\\PycharmProjects\\\\pythonProject\\\\Punctuation_Restoration\\\\AlephBERT-main\\\\AlephBERT-main\\\\models\\\\alephbert-base'\n",
    "alephbert_tokenizer = AutoTokenizer.from_pretrained(model_path)\n",
    "alephbert_model = AutoModelForMaskedLM.from_pretrained(\"onlplab/alephbert-base\")"
   ]
  },
  {
   "cell_type": "code",
   "execution_count": 17,
   "metadata": {},
   "outputs": [
    {
     "name": "stdout",
     "output_type": "stream",
     "text": [
      "בדיקה של הדבר הזה\n",
      "tokenized:  ['ב', '##ד', '##י', '##ק', '##ה', 'ש', '##ל', 'ה', '##ד', '##ב', '##ר', 'ה', '##ז', '##ה']\n",
      "encoded:  [2, 177, 1039, 1008, 1013, 1016, 201, 1009, 180, 1039, 1037, 1014, 180, 1075, 1016, 3]\n",
      "decoded:  [CLS] בדיקה של הדבר הזה [SEP]\n"
     ]
    }
   ],
   "source": [
    "# test the tokenization and detokenization\n",
    "test = \"בדיקה של הדבר הזה\"\n",
    "tokenized = alephbert_tokenizer.tokenize(test)\n",
    "encoded = alephbert_tokenizer.encode(test)\n",
    "decoded = alephbert_tokenizer.decode(encoded)\n",
    "print(test)\n",
    "print(\"tokenized: \", tokenized)\n",
    "print(\"encoded: \", encoded)\n",
    "print(\"decoded: \", decoded)"
   ]
  },
  {
   "cell_type": "markdown",
   "metadata": {},
   "source": [
    "## Check all data in the DataFrame is correct"
   ]
  },
  {
   "cell_type": "code",
   "execution_count": 18,
   "metadata": {},
   "outputs": [],
   "source": [
    "data_df.iloc[0]\n",
    "text = data_df.iloc[0]['text_without_nikud']\n",
    "nikud = data_df.iloc[0]['nikud']\n",
    "for row in data_df.iterrows():\n",
    "    text = row[1]['text_without_nikud']\n",
    "    text_with_nikud = row[1]['text_with_nikud']\n",
    "    nikud = row[1]['nikud']\n",
    "    text_words = text.split()\n",
    "    sentence = []\n",
    "    for i in range(len(nikud)):\n",
    "        sentence.append(add_nikud(text_words[i], nikud[i]))\n",
    "    sentence = ' '.join(sentence)\n",
    "    if sentence != text_with_nikud:\n",
    "        print(sentence)\n",
    "        print(text_with_nikud)\n",
    "        print('------------------')"
   ]
  },
  {
   "cell_type": "markdown",
   "metadata": {},
   "source": [
    "# create DataSet class"
   ]
  },
  {
   "cell_type": "code",
   "execution_count": 19,
   "metadata": {},
   "outputs": [
    {
     "name": "stdout",
     "output_type": "stream",
     "text": [
      "dataset length:  304205\n"
     ]
    }
   ],
   "source": [
    "# create pytorch dataset class for punctuation restoration (returns input(text) and target(nikud))\n",
    "\n",
    "class PunctuationRestorationDataset(Dataset):\n",
    "    def __init__(self, data_df, tokenizer, label_to_id, max_len):\n",
    "        self.data = data_df\n",
    "        self.tokenizer = tokenizer\n",
    "        self.max_len = max_len\n",
    "        self.label_to_id = label_to_id \n",
    "        \n",
    "    def __len__(self):\n",
    "        return len(self.data)\n",
    "    \n",
    "    def __getitem__(self, index): # TODO: need to make sure not to look at fraction of words\n",
    "        text = self.data.iloc[index]['text_without_nikud']\n",
    "        nikud = self.data.iloc[index]['nikud']  # list of lists of nikud\n",
    "\n",
    "        # flatten nikud list\n",
    "        nikud = [item for sublist in nikud for item in sublist]\n",
    "        # replace empty strings with <no_nikud> token\n",
    "        nikud = [label if label != \"\" else \"<no_nikud>\" for label in nikud]\n",
    "        # replace labels with ids\n",
    "        nikud = [self.label_to_id[label] for label in nikud]\n",
    "\n",
    "        # check if nikud length is the same as text without spaces length\n",
    "        if len(text.replace(\" \", \"\")) != len(nikud):\n",
    "            print(\"text without spaces length: \", len(text.replace(\" \", \"\")))\n",
    "            print(\"nikud length: \", len(nikud))\n",
    "        \n",
    "        # get word indices after tokenization\n",
    "        word_indices = get_words_indices_from_text(text)\n",
    "        # pad word_indices to be the same length as input_ids\n",
    "        word_indices = word_indices + [(-1, -1)] * (self.max_len - len(word_indices))\n",
    "        # convert word_indices to tensor\n",
    "        word_indices = torch.tensor(word_indices, dtype=torch.long)\n",
    "\n",
    "        encoding = self.tokenizer.encode_plus(\n",
    "            text,\n",
    "            add_special_tokens=False,\n",
    "            max_length=self.max_len,\n",
    "            return_token_type_ids=False,\n",
    "            padding='max_length',\n",
    "            truncation=True,\n",
    "            return_attention_mask=True,\n",
    "            return_tensors='pt'\n",
    "        )\n",
    "\n",
    "        # pad nikud to be the same length as input_ids\n",
    "        nikud = nikud + [len(label_to_id)] * (encoding['input_ids'].shape[1] - len(nikud))\n",
    "        # convert to tensor\n",
    "        nikud = torch.tensor(nikud, dtype=torch.long)\n",
    "        \n",
    "        return {\n",
    "            'text': text,\n",
    "            'nikud': nikud,\n",
    "            'input_ids': encoding['input_ids'].flatten(),\n",
    "            'attention_mask': encoding['attention_mask'].flatten(),\n",
    "            'word_indices': word_indices\n",
    "        }\n",
    "\n",
    "\n",
    "# create pytorch dataset class for punctuation restoration (returns input(text) and target(nikud))\n",
    "dataset = PunctuationRestorationDataset(data_df, alephbert_tokenizer, label_to_id, 100)\n",
    "print(\"dataset length: \", len(dataset))"
   ]
  },
  {
   "cell_type": "code",
   "execution_count": 20,
   "metadata": {},
   "outputs": [],
   "source": [
    "# #iterate over dataset\n",
    "for i in range(len(dataset)):\n",
    "    sample = dataset[i]\n",
    "    Original = data_df.iloc[i]['text_with_nikud']\n",
    "    text_without_nikud = sample['text']\n",
    "    nikud = sample['nikud']\n",
    "    input_ids = sample['input_ids']\n",
    "    attention_mask = sample['attention_mask']\n",
    "    word_indices = sample['word_indices']\n",
    "    \n",
    "    # convert nikud_id to nikud_label\n",
    "    nikud_after_id_to_label = [id_to_label[id] if id < len(id_to_label) else \"<no_nikud>\" for id in nikud.tolist()]\n",
    "    # add nikud to text without nikud\n",
    "    text_words = text_without_nikud.split()\n",
    "    text_words_with_nikud = []\n",
    "    for word_index, word in enumerate(text_words):\n",
    "        text_words_with_nikud.append(add_nikud(word, nikud_after_id_to_label[word_indices[word_index][0]:word_indices[word_index][1]+1]))\n",
    "    text_with_nikud = \" \".join(text_words_with_nikud)\n",
    "    text_with_nikud = text_with_nikud.replace(\"<no_nikud>\", \"\")\n",
    "    if text_with_nikud != Original:\n",
    "        print(\"text_with_nikud: \", text_with_nikud)\n",
    "        print(\"Original: \", Original)\n",
    "    #print(\"word_indices: \", word_indices)\n",
    "    # convert input_ids to tokens\n",
    "    tokens = alephbert_tokenizer.convert_ids_to_tokens(input_ids)\n",
    "    if i > 5:\n",
    "        break\n",
    "    \n",
    "    # # Check that nikud alligns with tokens\n",
    "    # nikud = nikud.tolist()\n",
    "    # # zip tokens and nikud\n",
    "    # tokens_with_nikud = list(zip(tokens, nikud))\n",
    "    # # print(\"tokens_with_nikud: \", tokens_with_nikud)\n",
    "    # for token, label in tokens_with_nikud:\n",
    "    #     if token == \"[PAD]\" and label != len(id_to_label) or token != \"[PAD]\" and label == len(id_to_label):\n",
    "    #         print(\"token: \", token)\n",
    "    #         print(\"label: \", label)\n",
    "                \n"
   ]
  },
  {
   "cell_type": "markdown",
   "metadata": {},
   "source": [
    "## Split to train,val and test torch datasets and dataloaders"
   ]
  },
  {
   "cell_type": "code",
   "execution_count": 21,
   "metadata": {},
   "outputs": [],
   "source": [
    "# split dataset to train, val and test\n",
    "train_size = int(0.8 * len(dataset))\n",
    "test_size = len(dataset) - train_size\n",
    "train_dataset, test_dataset = random_split(dataset, [train_size, test_size])\n",
    "train_size = int(0.8 * len(train_dataset))\n",
    "val_size = len(train_dataset) - train_size\n",
    "train_dataset, val_dataset = random_split(train_dataset, [train_size, val_size])\n",
    "\n",
    "batch_size = 32\n",
    "\n",
    "# create dataloader\n",
    "train_loader = DataLoader(train_dataset, batch_size=batch_size, shuffle=True)\n",
    "val_loader = DataLoader(val_dataset, batch_size=batch_size, shuffle=True)\n",
    "test_loader = DataLoader(test_dataset, batch_size=batch_size, shuffle=True)"
   ]
  },
  {
   "cell_type": "markdown",
   "metadata": {},
   "source": [
    "# performe EDAs on the data"
   ]
  },
  {
   "cell_type": "code",
   "execution_count": 28,
   "metadata": {},
   "outputs": [
    {
     "name": "stdout",
     "output_type": "stream",
     "text": [
      "train dataset size:  194691\n",
      "val dataset size:  48673\n",
      "test dataset size:  60841\n",
      "train dataset type:  <class 'torch.utils.data.dataset.Subset'>\n",
      "train dataset[0] type:  <class 'dict'>\n",
      "train dataset[0] keys:  dict_keys(['text', 'nikud', 'input_ids', 'attention_mask', 'word_indices'])\n"
     ]
    }
   ],
   "source": [
    "# EDA on train, val and test dataset\n",
    "print(\"train dataset size: \", len(train_dataset))\n",
    "print(\"val dataset size: \", len(val_dataset))\n",
    "print(\"test dataset size: \", len(test_dataset))\n",
    "\n",
    "# train dataset\n",
    "print(\"train dataset type: \", type(train_dataset))\n",
    "print(\"train dataset[0] type: \", type(train_dataset[0]))\n",
    "print(\"train dataset[0] keys: \", train_dataset[0].keys())"
   ]
  },
  {
   "cell_type": "markdown",
   "metadata": {},
   "source": [
    "# Define the two models (one with look-ahead, one without)\n",
    "\n",
    "### train the two models\n",
    "\n",
    "### Evaluate the models"
   ]
  },
  {
   "cell_type": "markdown",
   "metadata": {},
   "source": [
    "## Full-Sentence Model"
   ]
  },
  {
   "cell_type": "code",
   "execution_count": 29,
   "metadata": {},
   "outputs": [],
   "source": [
    "class FullSentenceModel(nn.Module):\n",
    "    def __init__(self, char_vocab_size, num_labels, char_embedding_dim=32, word_hidden_dim=16, char_hidden_dim=512, num_layers=4):\n",
    "        super(FullSentenceModel, self).__init__()\n",
    "        \n",
    "        self.word_hidden_dim = word_hidden_dim\n",
    "        \n",
    "        # Character Embedding Layer\n",
    "        self.char_embedding = nn.Embedding(char_vocab_size, char_embedding_dim)\n",
    "        \n",
    "        # Word-Level BiLSTM\n",
    "        self.word_bilstm = nn.LSTM(char_embedding_dim, word_hidden_dim, bidirectional=True, batch_first=True)\n",
    "        \n",
    "        # Character-Level LSTM\n",
    "        self.char_lstm = nn.LSTM(input_size=char_embedding_dim + 2 * word_hidden_dim, hidden_size=char_hidden_dim,bidirectional=True, batch_first=True, num_layers=num_layers)\n",
    "        \n",
    "        # Fully Connected Layer\n",
    "        self.fc = nn.Linear(2 * char_hidden_dim, num_labels)\n",
    "        \n",
    "        # Dropout Layer\n",
    "        self.dropout = nn.Dropout(0.2)\n",
    "\n",
    "    def forward(self, char_sequence, word_boundaries):\n",
    "        # Apply Character Embedding\n",
    "        char_embedded = self.char_embedding(char_sequence)\n",
    "        \n",
    "        # Process each word using the Word-Level BiLSTM\n",
    "        word_embeddings_list = []\n",
    "        for i in range(len(char_sequence)):\n",
    "            word_embedding_for_sample = []\n",
    "            for boundaries in word_boundaries[i]:\n",
    "                start, end = boundaries\n",
    "                if start == -1:\n",
    "                    break\n",
    "                word_seq = char_embedded[i, start:end+1, :]\n",
    "                word_seq_output, _ = self.word_bilstm(word_seq.unsqueeze(0))\n",
    "                word_embedding = torch.cat((word_seq_output[0, -1, :self.word_hidden_dim], \n",
    "                                            word_seq_output[0, 0, self.word_hidden_dim:]), dim=0)\n",
    "                word_embedding_for_sample.append(word_embedding)\n",
    "            word_embeddings_list.append(torch.stack(word_embedding_for_sample))\n",
    "        \n",
    "        # Pad the word embeddings to the same length as the input sequence\n",
    "        max_length = char_embedded.size(1)\n",
    "        padded_word_embeddings_list = []\n",
    "        for embed in word_embeddings_list:\n",
    "            padding_length = max_length - embed.size(0)\n",
    "            padding = torch.zeros(padding_length, embed.size(1)).to(embed.device)\n",
    "            padded_embed = torch.cat([embed, padding], dim=0)\n",
    "            padded_word_embeddings_list.append(padded_embed)\n",
    "        word_embeddings_tensor = torch.stack(padded_word_embeddings_list, dim=0)\n",
    "        \n",
    "        # Concatenate the character embeddings with the word embeddings\n",
    "        char_word_embedded = torch.cat([char_embedded, word_embeddings_tensor], dim=2)\n",
    "        \n",
    "        # Apply Character-Level LSTM\n",
    "        char_lstm_output, _ = self.char_lstm(char_word_embedded)\n",
    "        \n",
    "        # Apply Dropout\n",
    "        char_lstm_output = self.dropout(char_lstm_output)\n",
    "        \n",
    "        # Apply Fully Connected Layer\n",
    "        predictions = self.fc(char_lstm_output)\n",
    "        \n",
    "        return predictions\n",
    "    \n",
    "\n"
   ]
  },
  {
   "cell_type": "markdown",
   "metadata": {},
   "source": [
    "FullSentenceModel train and evaluate"
   ]
  },
  {
   "cell_type": "code",
   "execution_count": 30,
   "metadata": {},
   "outputs": [],
   "source": [
    "def train_full_sentence_model(model, train_loader, optimizer, criterion):\n",
    "    model.train()\n",
    "    total_loss = 0\n",
    "    total_correct = 0\n",
    "    total_overall = 0\n",
    "    for batch in tqdm(train_loader):\n",
    "        input_ids = batch['input_ids'].to(device)\n",
    "        word_indices = batch['word_indices'].to(device)\n",
    "        labels = batch['nikud'].to(device)\n",
    "        optimizer.zero_grad()\n",
    "        predictions = model.forward(input_ids, word_indices)\n",
    "        loss = criterion(predictions.view(-1, predictions.shape[-1]), labels.view(-1))\n",
    "        total_loss += loss.item()\n",
    "        loss.backward()\n",
    "        optimizer.step()\n",
    "        \n",
    "        attention_mask = batch['attention_mask']\n",
    "        predictions = predictions.view(-1, predictions.shape[-1])\n",
    "        labels = labels.view(-1)\n",
    "        predictions = predictions[attention_mask.view(-1) == 1]\n",
    "        labels = labels[attention_mask.view(-1) == 1]\n",
    "        predictions = torch.argmax(predictions, dim=1)\n",
    "\n",
    "        # calculate accuracy\n",
    "        pre = predictions.cpu().numpy()\n",
    "        lab = labels.cpu().numpy()\n",
    "        total_correct += np.sum(pre == lab)\n",
    "        total_overall += len(pre)\n",
    "        \n",
    "    accuracy_avg = total_correct / total_overall\n",
    "    loss_avg = total_loss / len(train_loader)\n",
    "    return loss_avg, accuracy_avg\n",
    "\n",
    "# Define evaluate method\n",
    "def evaluate_full_sentence_model(model, eval_loader, criterion):\n",
    "    model.eval()\n",
    "    total_loss = 0\n",
    "    total_correct = 0\n",
    "    total_overall = 0\n",
    "    with torch.no_grad():\n",
    "        for batch in tqdm(eval_loader):\n",
    "            input_ids = batch['input_ids'].to(device)\n",
    "            word_indices = batch['word_indices'].to(device)\n",
    "            labels = batch['nikud'].to(device)\n",
    "            predictions = model.forward(input_ids, word_indices)\n",
    "            loss = criterion(predictions.view(-1, predictions.shape[-1]), labels.view(-1))\n",
    "            total_loss += loss.item()\n",
    "            # total_correct += (predictions.argmax(2) == labels).sum().item()\n",
    "\n",
    "            attention_mask = batch['attention_mask']\n",
    "            predictions = predictions.view(-1, predictions.shape[-1])\n",
    "            labels = labels.view(-1)\n",
    "            predictions = predictions[attention_mask.view(-1) == 1]\n",
    "            labels = labels[attention_mask.view(-1) == 1]\n",
    "            predictions = torch.argmax(predictions, dim=1)\n",
    "            # calculate accuracy\n",
    "            pre = predictions.cpu().numpy()\n",
    "            lab = labels.cpu().numpy()\n",
    "            total_correct += np.sum(pre == lab)\n",
    "            total_overall += len(pre)\n",
    "    accuracy_avg = total_correct / total_overall\n",
    "    loss_avg = total_loss / len(train_loader)\n",
    "    return loss_avg, accuracy_avg\n",
    "\n",
    "\n"
   ]
  },
  {
   "cell_type": "markdown",
   "metadata": {},
   "source": [
    "FullSentenceModel predict"
   ]
  },
  {
   "cell_type": "code",
   "execution_count": 31,
   "metadata": {},
   "outputs": [],
   "source": [
    "# Define predict method\n",
    "def predict_full_sentence_model(model, test_loader):\n",
    "    \"\"\"\n",
    "    Predict the labels of the test set using the model.\n",
    "    \"\"\"\n",
    "    model.eval()\n",
    "    actual_labels = []\n",
    "    predictions = []\n",
    "    all_words = []\n",
    "    for batch in tqdm(test_loader):\n",
    "        with torch.no_grad():\n",
    "            input_ids = batch['input_ids'].to(device)\n",
    "            attention_mask = batch['attention_mask'].to(device)\n",
    "            word_indices = batch['word_indices'].to(device)\n",
    "            labels = batch['nikud'].to(device)\n",
    "            \n",
    "            # get the model's predictions\n",
    "            batch_predictions = model.forward(input_ids, word_indices)\n",
    "            batch_predictions = batch_predictions.view(-1, batch_predictions.shape[-1])\n",
    "            labels = labels.view(-1)\n",
    "            word_indices = word_indices.view(-1, 2)\n",
    "            \n",
    "            # remove the padding tokens from the predictions\n",
    "            batch_predictions = batch_predictions[attention_mask.view(-1) == 1]\n",
    "            labels = labels[attention_mask.view(-1) == 1]\n",
    "            word_indices = word_indices[word_indices[:, 0] != -1]\n",
    "            \n",
    "            # get the top 2 predictions for each token\n",
    "            batch_predictions = torch.topk(batch_predictions, k=2, dim=1).indices\n",
    "            first_prediction = batch_predictions[:, 0]\n",
    "            second_prediction = batch_predictions[:, 1]\n",
    "            \n",
    "            predictions.extend(first_prediction)\n",
    "            actual_labels.extend(labels)\n",
    "            all_words.extend(word_indices)\n",
    "    all_words = [word.tolist() for word in all_words]\n",
    "    all_words = list(map(lambda x: x[1]-x[0]+1, all_words))\n",
    "    return actual_labels, predictions, all_words"
   ]
  },
  {
   "cell_type": "markdown",
   "metadata": {},
   "source": [
    "FullSentenceModel - define model train and save it"
   ]
  },
  {
   "cell_type": "code",
   "execution_count": 32,
   "metadata": {},
   "outputs": [
    {
     "name": "stderr",
     "output_type": "stream",
     "text": [
      "100%|██████████| 6085/6085 [1:12:59<00:00,  1.39it/s]\n",
      "100%|██████████| 1522/1522 [06:40<00:00,  3.80it/s]\n"
     ]
    },
    {
     "name": "stdout",
     "output_type": "stream",
     "text": [
      "Model 1 saved successfully!\n",
      "Train Loss: 0.180 | Train Accuracy: 94.30%\n",
      "Eval Loss: 0.023 | Eval Accuracy: 97.16%\n",
      "----------\n"
     ]
    },
    {
     "name": "stderr",
     "output_type": "stream",
     "text": [
      "100%|██████████| 6085/6085 [1:11:07<00:00,  1.43it/s]\n",
      "100%|██████████| 1522/1522 [07:18<00:00,  3.47it/s]\n"
     ]
    },
    {
     "name": "stdout",
     "output_type": "stream",
     "text": [
      "Model 2 saved successfully!\n",
      "Train Loss: 0.076 | Train Accuracy: 97.58%\n",
      "Eval Loss: 0.019 | Eval Accuracy: 97.58%\n",
      "----------\n"
     ]
    },
    {
     "name": "stderr",
     "output_type": "stream",
     "text": [
      " 91%|█████████ | 5514/6085 [1:07:35<06:16,  1.52it/s]"
     ]
    }
   ],
   "source": [
    "# Hyperparameters\n",
    "char_vocab_size = alephbert_tokenizer.vocab_size\n",
    "char_embedding_dim = 32\n",
    "word_hidden_dim = 16\n",
    "char_hidden_dim = 512\n",
    "num_labels = len(label_to_id)\n",
    "num_epochs = 20\n",
    "learning_rate = 0.001\n",
    "no_nikud_weight = 1\n",
    "\n",
    "# Model, Criterion, Optimizer\n",
    "full_sentence_model = FullSentenceModel(char_vocab_size, num_labels, char_embedding_dim=char_embedding_dim, word_hidden_dim=word_hidden_dim, char_hidden_dim=char_hidden_dim).to(device)\n",
    "label_weights = set_no_nikud_weights(no_nikud_weight)\n",
    "weights = torch.tensor(list(label_weights.values())).to(device)\n",
    "criterion = nn.CrossEntropyLoss(ignore_index=len(label_to_id), weight=weights).to(device)\n",
    "optimizer = optim.Adam(full_sentence_model.parameters(), lr=learning_rate)\n",
    "\n",
    "# History\n",
    "train_full_sentence_model_loss_history = []\n",
    "val_full_sentence_model_loss_history = []\n",
    "train_full_sentence_model_accuracy_history = []\n",
    "val_full_sentence_model_accuracy_history = []\n",
    "\n",
    "for epoch in range(num_epochs):\n",
    "    if os.path.exists(f'full-sentence-final-models/full_model_{epoch+1}_epoch.pt'):\n",
    "        # load model\n",
    "        full_sentence_model.load_state_dict(torch.load(f'full-sentence-final-models/full_model_{epoch+1}_epoch.pt'))\n",
    "        print(f'Model {epoch+1} loaded successfully!')\n",
    "        # load loss history\n",
    "        with open(f'full-sentence-final-models/full_model_{epoch+1}_epoch_loss_history.pkl', 'rb') as f:\n",
    "            train_full_sentence_model_loss_history, val_full_sentence_model_loss_history = pickle.load(f)\n",
    "        print(f'Model {epoch+1} loss history loaded successfully!')\n",
    "        # load accuracy history\n",
    "        with open(f'full-sentence-final-models/full_model_{epoch+1}_epoch_accuracy_history.pkl', 'rb') as f:\n",
    "            train_full_sentence_model_accuracy_history, val_full_sentence_model_accuracy_history = pickle.load(f)\n",
    "        print(f'Model {epoch+1} accuracy history loaded successfully!')\n",
    "        continue\n",
    "    else:\n",
    "        train_loss, train_accuracy = train_full_sentence_model(full_sentence_model, train_loader, optimizer, criterion)\n",
    "        eval_loss, eval_accuracy = evaluate_full_sentence_model(full_sentence_model, val_loader, criterion)\n",
    "        train_full_sentence_model_loss_history.append(train_loss)\n",
    "        val_full_sentence_model_loss_history.append(eval_loss)\n",
    "        train_full_sentence_model_accuracy_history.append(train_accuracy)\n",
    "        val_full_sentence_model_accuracy_history.append(eval_accuracy)\n",
    "        # save the model in \"full-sentence-final-models\" folder\n",
    "        torch.save(full_sentence_model.state_dict(), f'full-sentence-final-models/full_model_{epoch+1}_epoch.pt')\n",
    "        # save loss and accuracy history\n",
    "        with open(f'full-sentence-final-models/full_model_{epoch+1}_epoch_loss_history.pkl', 'wb') as f:\n",
    "            pickle.dump([train_full_sentence_model_loss_history, val_full_sentence_model_loss_history], f)\n",
    "        # save accuracy history\n",
    "        with open(f'full-sentence-final-models/full_model_{epoch+1}_epoch_accuracy_history.pkl', 'wb') as f:\n",
    "            pickle.dump([train_full_sentence_model_accuracy_history, val_full_sentence_model_accuracy_history], f)\n",
    "        print(f'Model {epoch+1} saved successfully!')\n",
    "        print(f'Train Loss: {train_loss:.3f} | Train Accuracy: {train_accuracy*100:.2f}%')\n",
    "        print(f'Eval Loss: {eval_loss:.3f} | Eval Accuracy: {eval_accuracy*100:.2f}%')\n",
    "        print('-'*10)\n"
   ]
  },
  {
   "cell_type": "code",
   "execution_count": null,
   "metadata": {},
   "outputs": [],
   "source": [
    "# plot loss and accuracy history\n",
    "plt.figure(figsize=(12, 4))\n",
    "plt.subplot(1, 2, 1)\n",
    "plt.plot(train_full_sentence_model_loss_history, label='train')\n",
    "plt.plot(val_full_sentence_model_loss_history, label='val')\n",
    "plt.xlabel('Epoch')\n",
    "plt.ylabel('Loss')\n",
    "plt.legend()\n",
    "plt.subplot(1, 2, 2)\n",
    "plt.plot(train_full_sentence_model_accuracy_history, label='train')\n",
    "plt.plot(val_full_sentence_model_accuracy_history, label='val')\n",
    "plt.xlabel('Epoch')\n",
    "plt.ylabel('Accuracy')\n",
    "plt.legend()\n",
    "plt.show()\n",
    "\n",
    "\n"
   ]
  },
  {
   "cell_type": "markdown",
   "metadata": {},
   "source": [
    "# Reading-Direction Model"
   ]
  },
  {
   "cell_type": "code",
   "execution_count": 30,
   "metadata": {},
   "outputs": [],
   "source": [
    "class ReadingDirectionModel(nn.Module):\n",
    "    def __init__(self, char_vocab_size, num_labels, char_embedding_dim=32, word_hidden_dim=16, char_hidden_dim=512, num_layers=4):\n",
    "        super(ReadingDirectionModel, self).__init__()\n",
    "        \n",
    "        self.word_hidden_dim = word_hidden_dim\n",
    "        \n",
    "        # Character Embedding Layer\n",
    "        self.char_embedding = nn.Embedding(char_vocab_size, char_embedding_dim)\n",
    "        \n",
    "        # Word-Level BiLSTM\n",
    "        self.word_bilstm = nn.LSTM(char_embedding_dim, word_hidden_dim, bidirectional=True, batch_first=True)\n",
    "        \n",
    "        # Character-Level LSTM\n",
    "        self.char_lstm = nn.LSTM(input_size=char_embedding_dim + 2 * word_hidden_dim, hidden_size=char_hidden_dim, batch_first=True, num_layers=num_layers)\n",
    "        \n",
    "        # Fully Connected Layer\n",
    "        self.fc = nn.Linear(char_hidden_dim, num_labels)\n",
    "        \n",
    "        # Dropout Layer\n",
    "        self.dropout = nn.Dropout(0.2)\n",
    "\n",
    "    def forward(self, char_sequence, word_boundaries):\n",
    "        # Apply Character Embedding\n",
    "        char_embedded = self.char_embedding(char_sequence)\n",
    "        \n",
    "        # Process each word using the Word-Level BiLSTM\n",
    "        word_embeddings_list = []\n",
    "        for i in range(len(char_sequence)):\n",
    "            word_embedding_for_sample = []\n",
    "            for boundaries in word_boundaries[i]:\n",
    "                start, end = boundaries\n",
    "                if start == -1:\n",
    "                    break\n",
    "                word_seq = char_embedded[i, start:end+1, :]\n",
    "                word_seq_output, _ = self.word_bilstm(word_seq.unsqueeze(0))\n",
    "                word_embedding = torch.cat((word_seq_output[0, -1, :self.word_hidden_dim], \n",
    "                                            word_seq_output[0, 0, self.word_hidden_dim:]), dim=0)\n",
    "                word_embedding_for_sample.append(word_embedding)\n",
    "            word_embeddings_list.append(torch.stack(word_embedding_for_sample))\n",
    "        \n",
    "        # Pad the word embeddings to the same length as the input sequence\n",
    "        max_length = char_embedded.size(1)\n",
    "        padded_word_embeddings_list = []\n",
    "        for embed in word_embeddings_list:\n",
    "            padding_length = max_length - embed.size(0)\n",
    "            padding = torch.zeros(padding_length, embed.size(1)).to(embed.device)\n",
    "            padded_embed = torch.cat([embed, padding], dim=0)\n",
    "            padded_word_embeddings_list.append(padded_embed)\n",
    "        word_embeddings_tensor = torch.stack(padded_word_embeddings_list, dim=0)\n",
    "        \n",
    "        # Concatenate the character embeddings with the word embeddings\n",
    "        char_word_embedded = torch.cat([char_embedded, word_embeddings_tensor], dim=2)\n",
    "        \n",
    "        # Apply Character-Level LSTM\n",
    "        char_lstm_output, _ = self.char_lstm(char_word_embedded)\n",
    "        \n",
    "        # Apply Dropout\n",
    "        char_lstm_output = self.dropout(char_lstm_output)\n",
    "        \n",
    "        # Apply Fully Connected Layer\n",
    "        predictions = self.fc(char_lstm_output)\n",
    "        \n",
    "        return predictions\n",
    "    \n",
    "\n"
   ]
  },
  {
   "cell_type": "markdown",
   "metadata": {},
   "source": [
    "Reading-Direction train and evaluate methods"
   ]
  },
  {
   "cell_type": "code",
   "execution_count": 31,
   "metadata": {},
   "outputs": [],
   "source": [
    "def train_directional_model(model, train_loader, optimizer, criterion):\n",
    "    model.train()\n",
    "    total_loss = 0\n",
    "    total_correct = 0\n",
    "    total_overall = 0\n",
    "    for batch in tqdm(train_loader):\n",
    "        input_ids = batch['input_ids'].to(device)\n",
    "        word_indices = batch['word_indices'].to(device)\n",
    "        labels = batch['nikud'].to(device)\n",
    "        optimizer.zero_grad()\n",
    "        predictions = model.forward(input_ids, word_indices)\n",
    "        loss = criterion(predictions.view(-1, predictions.shape[-1]), labels.view(-1))\n",
    "        total_loss += loss.item()\n",
    "        loss.backward()\n",
    "        optimizer.step()\n",
    "        \n",
    "        attention_mask = batch['attention_mask']\n",
    "        predictions = predictions.view(-1, predictions.shape[-1])\n",
    "        labels = labels.view(-1)\n",
    "        predictions = predictions[attention_mask.view(-1) == 1]\n",
    "        labels = labels[attention_mask.view(-1) == 1]\n",
    "        predictions = torch.argmax(predictions, dim=1)\n",
    "\n",
    "        # calculate accuracy\n",
    "        pre = predictions.cpu().numpy()\n",
    "        lab = labels.cpu().numpy()\n",
    "        total_correct += np.sum(pre == lab)\n",
    "        total_overall += len(pre)\n",
    "    accuracy_avg = total_correct / total_overall\n",
    "    loss_avg = total_loss / len(train_loader)\n",
    "    return loss_avg, accuracy_avg\n",
    "\n",
    "# Define evaluate method\n",
    "def evaluate_directional_model(model, eval_loader, criterion):\n",
    "    model.eval()\n",
    "    total_loss = 0\n",
    "    total_correct = 0\n",
    "    total_overall = 0\n",
    "    with torch.no_grad():\n",
    "        for batch in tqdm(eval_loader):\n",
    "            input_ids = batch['input_ids'].to(device)\n",
    "            word_indices = batch['word_indices'].to(device)\n",
    "            labels = batch['nikud'].to(device)\n",
    "            predictions = model.forward(input_ids, word_indices)\n",
    "            loss = criterion(predictions.view(-1, predictions.shape[-1]), labels.view(-1))\n",
    "            total_loss += loss.item()\n",
    "\n",
    "            attention_mask = batch['attention_mask']\n",
    "            predictions = predictions.view(-1, predictions.shape[-1])\n",
    "            labels = labels.view(-1)\n",
    "            predictions = predictions[attention_mask.view(-1) == 1]\n",
    "            labels = labels[attention_mask.view(-1) == 1]\n",
    "            predictions = torch.argmax(predictions, dim=1)\n",
    "            # calculate accuracy\n",
    "            pre = predictions.cpu().numpy()\n",
    "            lab = labels.cpu().numpy()\n",
    "            total_correct += np.sum(pre == lab)\n",
    "            total_overall += len(pre)\n",
    "    accuracy_avg = total_correct / total_overall\n",
    "    loss_avg = total_loss / len(eval_loader)\n",
    "    return loss_avg, accuracy_avg\n",
    "\n"
   ]
  },
  {
   "cell_type": "markdown",
   "metadata": {},
   "source": [
    "Reading-Direction predict method"
   ]
  },
  {
   "cell_type": "code",
   "execution_count": 32,
   "metadata": {},
   "outputs": [],
   "source": [
    "# Define predict method\n",
    "def predict_directional_model(model, test_loader):\n",
    "    \"\"\"\n",
    "    Predict the labels of the test set using the model.\n",
    "    \"\"\"\n",
    "    model.eval()\n",
    "    actual_labels = []\n",
    "    predictions = []\n",
    "    all_words = []\n",
    "    for batch in tqdm(test_loader):\n",
    "        with torch.no_grad():\n",
    "            input_ids = batch['input_ids'].to(device)\n",
    "            attention_mask = batch['attention_mask'].to(device)\n",
    "            word_indices = batch['word_indices'].to(device)\n",
    "            labels = batch['nikud'].to(device)\n",
    "            \n",
    "            # get the model's predictions\n",
    "            batch_predictions = model.forward(input_ids, word_indices)\n",
    "            batch_predictions = batch_predictions.view(-1, batch_predictions.shape[-1])\n",
    "            labels = labels.view(-1)\n",
    "            word_indices = word_indices.view(-1, 2)\n",
    "            \n",
    "            # remove the padding tokens from the predictions\n",
    "            batch_predictions = batch_predictions[attention_mask.view(-1) == 1]\n",
    "            labels = labels[attention_mask.view(-1) == 1]\n",
    "            word_indices = word_indices[word_indices[:, 0] != -1]\n",
    "            \n",
    "            # get the top 2 predictions for each token\n",
    "            batch_predictions = torch.topk(batch_predictions, k=2, dim=1).indices\n",
    "            first_prediction = batch_predictions[:, 0]\n",
    "            second_prediction = batch_predictions[:, 1]\n",
    "            \n",
    "            predictions.extend(first_prediction)\n",
    "            actual_labels.extend(labels)\n",
    "            all_words.extend(word_indices)\n",
    "    all_words = [word.tolist() for word in all_words]\n",
    "    all_words = list(map(lambda x: x[1]-x[0]+1, all_words))\n",
    "    return actual_labels, predictions, all_words"
   ]
  },
  {
   "cell_type": "markdown",
   "metadata": {},
   "source": [
    "Reading-Direction train model"
   ]
  },
  {
   "cell_type": "code",
   "execution_count": null,
   "metadata": {},
   "outputs": [],
   "source": [
    "# Hyperparameters\n",
    "char_vocab_size = alephbert_tokenizer.vocab_size\n",
    "char_embedding_dim = 64\n",
    "word_hidden_dim = 32\n",
    "char_hidden_dim = 512\n",
    "num_labels = len(label_to_id)\n",
    "num_epochs = 20\n",
    "learning_rate = 0.001\n",
    "no_nikud_weight = 1\n",
    "\n",
    "\n",
    "\n",
    "# Model, Criterion, Optimizer\n",
    "reading_direction_model = ReadingDirectionModel(char_vocab_size, num_labels, char_embedding_dim=char_embedding_dim, word_hidden_dim=word_hidden_dim, char_hidden_dim=char_hidden_dim).to(device)\n",
    "label_weights = set_no_nikud_weights(no_nikud_weight)\n",
    "weights = torch.tensor(list(label_weights.values())).to(device)\n",
    "criterion = nn.CrossEntropyLoss(ignore_index=len(label_to_id), weight=weights).to(device)\n",
    "optimizer = optim.Adam(reading_direction_model.parameters(), lr=learning_rate)\n",
    "\n",
    "# History\n",
    "train_directional_model_loss_history = []\n",
    "val_directional_model_loss_history = []\n",
    "train_directional_model_accuracy_history = []\n",
    "val_directional_model_accuracy_history = []\n",
    "\n",
    "for epoch in range(num_epochs):\n",
    "    # if there is a model saved in \"reading-direction-final-models\" folder, load it\n",
    "    if os.path.exists(f'reading-direction-final-models/directional_model_{epoch+1}_epoch.pt'):\n",
    "        reading_direction_model.load_state_dict(torch.load(f'reading-direction-final-models/directional_model_{epoch+1}_epoch.pt'))\n",
    "        print(f'Model {epoch+1} loaded successfully!')\n",
    "        with open(f'reading-direction-final-models/directional_model_{epoch+1}_epoch_loss_history.pkl', 'rb') as f:\n",
    "            train_directional_model_loss_history, val_directional_model_loss_history = pickle.load(f)\n",
    "        print(f'Model {epoch+1} loss history loaded successfully!')\n",
    "        with open(f'reading-direction-final-models/directional_model_{epoch+1}_epoch_accuracy_history.pkl', 'rb') as f:\n",
    "            train_directional_model_accuracy_history, val_directional_model_accuracy_history = pickle.load(f)\n",
    "        print(f'Model {epoch+1} accuracy history loaded successfully!')\n",
    "        continue\n",
    "    else:\n",
    "        train_loss, train_accuracy = train_directional_model(reading_direction_model, train_loader, optimizer, criterion)\n",
    "        eval_loss, eval_accuracy = evaluate_directional_model(reading_direction_model, val_loader, criterion)\n",
    "        train_directional_model_loss_history.append(train_loss)\n",
    "        val_directional_model_loss_history.append(eval_loss)\n",
    "        train_directional_model_accuracy_history.append(train_accuracy)\n",
    "        val_directional_model_accuracy_history.append(eval_accuracy)\n",
    "        # save the model in \"reading-direction-final-models\" folder\n",
    "        torch.save(reading_direction_model.state_dict(), f'reading-direction-final-models/directional_model_{epoch+1}_epoch.pt')\n",
    "        # save loss and accuracy history\n",
    "        with open(f'reading-direction-final-models/directional_model_{epoch+1}_epoch_loss_history.pkl', 'wb') as f:\n",
    "            pickle.dump([train_directional_model_loss_history, val_directional_model_loss_history], f)\n",
    "        # save accuracy history\n",
    "        with open(f'reading-direction-final-models/directional_model_{epoch+1}_epoch_accuracy_history.pkl', 'wb') as f:\n",
    "            pickle.dump([train_directional_model_accuracy_history, val_directional_model_accuracy_history], f)\n",
    "        print(f'Model {epoch+1} saved successfully!')\n",
    "        print(f'Train Loss: {train_loss:.3f} | Train Accuracy: {train_accuracy*100:.2f}%')\n",
    "        print(f'Eval Loss: {eval_loss:.3f} | Eval Accuracy: {eval_accuracy*100:.2f}%')\n",
    "        print('-'*10)"
   ]
  },
  {
   "cell_type": "code",
   "execution_count": null,
   "metadata": {},
   "outputs": [],
   "source": [
    "# plot loss and accuracy history\n",
    "plt.figure(figsize=(12, 4))\n",
    "plt.subplot(1, 2, 1)\n",
    "plt.plot(train_directional_model_loss_history, label='train')\n",
    "plt.plot(val_directional_model_loss_history, label='val')\n",
    "plt.xlabel('Epoch')\n",
    "plt.ylabel('Loss')\n",
    "plt.legend()\n",
    "plt.subplot(1, 2, 2)\n",
    "plt.plot(train_directional_model_accuracy_history, label='train')\n",
    "plt.plot(val_directional_model_accuracy_history, label='val')\n",
    "plt.xlabel('Epoch')\n",
    "plt.ylabel('Accuracy')\n",
    "plt.legend()\n",
    "plt.show()"
   ]
  },
  {
   "cell_type": "markdown",
   "metadata": {},
   "source": [
    "Reading-Direction greed search hyperparameters"
   ]
  },
  {
   "cell_type": "code",
   "execution_count": 34,
   "metadata": {},
   "outputs": [
    {
     "name": "stderr",
     "output_type": "stream",
     "text": [
      "100%|██████████| 113/113 [01:10<00:00,  1.61it/s]\n",
      "100%|██████████| 29/29 [00:06<00:00,  4.48it/s]\n"
     ]
    },
    {
     "name": "stdout",
     "output_type": "stream",
     "text": [
      "Epoch: 1, for 32_512_1_0.001\n",
      "Train Loss: 1.758 | Train Accuracy: 45.83%\n",
      "Eval Loss: 1.510 | Eval Accuracy: 48.05%\n",
      "----------\n"
     ]
    },
    {
     "name": "stderr",
     "output_type": "stream",
     "text": [
      "100%|██████████| 113/113 [01:08<00:00,  1.66it/s]\n",
      "100%|██████████| 29/29 [00:06<00:00,  4.50it/s]\n"
     ]
    },
    {
     "name": "stdout",
     "output_type": "stream",
     "text": [
      "Epoch: 2, for 32_512_1_0.001\n",
      "Train Loss: 1.405 | Train Accuracy: 50.23%\n",
      "Eval Loss: 1.350 | Eval Accuracy: 51.92%\n",
      "----------\n"
     ]
    },
    {
     "name": "stderr",
     "output_type": "stream",
     "text": [
      "100%|██████████| 113/113 [01:07<00:00,  1.67it/s]\n",
      "100%|██████████| 29/29 [00:06<00:00,  4.47it/s]\n"
     ]
    },
    {
     "name": "stdout",
     "output_type": "stream",
     "text": [
      "Epoch: 3, for 32_512_1_0.001\n",
      "Train Loss: 1.300 | Train Accuracy: 53.90%\n",
      "Eval Loss: 1.278 | Eval Accuracy: 54.63%\n",
      "----------\n"
     ]
    },
    {
     "name": "stderr",
     "output_type": "stream",
     "text": [
      "100%|██████████| 113/113 [01:07<00:00,  1.68it/s]\n",
      "100%|██████████| 29/29 [00:06<00:00,  4.62it/s]\n"
     ]
    },
    {
     "name": "stdout",
     "output_type": "stream",
     "text": [
      "Epoch: 4, for 32_512_1_0.001\n",
      "Train Loss: 1.226 | Train Accuracy: 56.52%\n",
      "Eval Loss: 1.223 | Eval Accuracy: 56.71%\n",
      "----------\n"
     ]
    },
    {
     "name": "stderr",
     "output_type": "stream",
     "text": [
      "100%|██████████| 113/113 [01:07<00:00,  1.68it/s]\n",
      "100%|██████████| 29/29 [00:06<00:00,  4.63it/s]\n"
     ]
    },
    {
     "name": "stdout",
     "output_type": "stream",
     "text": [
      "Epoch: 5, for 32_512_1_0.001\n",
      "Train Loss: 1.170 | Train Accuracy: 58.68%\n",
      "Eval Loss: 1.176 | Eval Accuracy: 58.68%\n",
      "----------\n",
      "./models/r_d_32_512_1_0.001_5.pt saved\n",
      "----------\n"
     ]
    },
    {
     "name": "stderr",
     "output_type": "stream",
     "text": [
      "100%|██████████| 113/113 [01:07<00:00,  1.67it/s]\n",
      "100%|██████████| 29/29 [00:06<00:00,  4.81it/s]\n"
     ]
    },
    {
     "name": "stdout",
     "output_type": "stream",
     "text": [
      "Epoch: 6, for 32_512_1_0.001\n",
      "Train Loss: 1.116 | Train Accuracy: 60.70%\n",
      "Eval Loss: 1.139 | Eval Accuracy: 60.03%\n",
      "----------\n"
     ]
    },
    {
     "name": "stderr",
     "output_type": "stream",
     "text": [
      "100%|██████████| 113/113 [01:07<00:00,  1.68it/s]\n",
      "100%|██████████| 29/29 [00:06<00:00,  4.74it/s]\n"
     ]
    },
    {
     "name": "stdout",
     "output_type": "stream",
     "text": [
      "Epoch: 7, for 32_512_1_0.001\n",
      "Train Loss: 1.061 | Train Accuracy: 62.77%\n",
      "Eval Loss: 1.117 | Eval Accuracy: 60.84%\n",
      "----------\n"
     ]
    },
    {
     "name": "stderr",
     "output_type": "stream",
     "text": [
      "100%|██████████| 113/113 [01:07<00:00,  1.68it/s]\n",
      "100%|██████████| 29/29 [00:06<00:00,  4.56it/s]\n"
     ]
    },
    {
     "name": "stdout",
     "output_type": "stream",
     "text": [
      "Epoch: 8, for 32_512_1_0.001\n",
      "Train Loss: 1.004 | Train Accuracy: 64.75%\n",
      "Eval Loss: 1.114 | Eval Accuracy: 61.30%\n",
      "----------\n"
     ]
    },
    {
     "name": "stderr",
     "output_type": "stream",
     "text": [
      "100%|██████████| 113/113 [01:07<00:00,  1.67it/s]\n",
      "100%|██████████| 29/29 [00:06<00:00,  4.72it/s]\n"
     ]
    },
    {
     "name": "stdout",
     "output_type": "stream",
     "text": [
      "Epoch: 9, for 32_512_1_0.001\n",
      "Train Loss: 0.944 | Train Accuracy: 66.87%\n",
      "Eval Loss: 1.108 | Eval Accuracy: 61.42%\n",
      "----------\n"
     ]
    },
    {
     "name": "stderr",
     "output_type": "stream",
     "text": [
      "100%|██████████| 113/113 [01:06<00:00,  1.70it/s]\n",
      "100%|██████████| 29/29 [00:06<00:00,  4.70it/s]\n"
     ]
    },
    {
     "name": "stdout",
     "output_type": "stream",
     "text": [
      "Epoch: 10, for 32_512_1_0.001\n",
      "Train Loss: 0.868 | Train Accuracy: 69.65%\n",
      "Eval Loss: 1.135 | Eval Accuracy: 61.30%\n",
      "----------\n",
      "./models/r_d_32_512_1_0.001_10.pt saved\n",
      "----------\n"
     ]
    },
    {
     "name": "stderr",
     "output_type": "stream",
     "text": [
      "100%|██████████| 113/113 [01:07<00:00,  1.68it/s]\n",
      "100%|██████████| 29/29 [00:06<00:00,  4.74it/s]\n"
     ]
    },
    {
     "name": "stdout",
     "output_type": "stream",
     "text": [
      "Epoch: 11, for 32_512_1_0.001\n",
      "Train Loss: 0.785 | Train Accuracy: 72.73%\n",
      "Eval Loss: 1.171 | Eval Accuracy: 60.77%\n",
      "----------\n"
     ]
    },
    {
     "name": "stderr",
     "output_type": "stream",
     "text": [
      "100%|██████████| 113/113 [01:07<00:00,  1.67it/s]\n",
      "100%|██████████| 29/29 [00:06<00:00,  4.60it/s]\n"
     ]
    },
    {
     "name": "stdout",
     "output_type": "stream",
     "text": [
      "Epoch: 12, for 32_512_1_0.001\n",
      "Train Loss: 0.691 | Train Accuracy: 76.19%\n",
      "Eval Loss: 1.249 | Eval Accuracy: 60.51%\n",
      "----------\n"
     ]
    },
    {
     "name": "stderr",
     "output_type": "stream",
     "text": [
      "100%|██████████| 113/113 [01:06<00:00,  1.69it/s]\n",
      "100%|██████████| 29/29 [00:06<00:00,  4.59it/s]\n"
     ]
    },
    {
     "name": "stdout",
     "output_type": "stream",
     "text": [
      "Epoch: 13, for 32_512_1_0.001\n",
      "Train Loss: 0.586 | Train Accuracy: 79.98%\n",
      "Eval Loss: 1.358 | Eval Accuracy: 60.13%\n",
      "----------\n"
     ]
    },
    {
     "name": "stderr",
     "output_type": "stream",
     "text": [
      "100%|██████████| 113/113 [01:07<00:00,  1.66it/s]\n",
      "100%|██████████| 29/29 [00:06<00:00,  4.57it/s]\n"
     ]
    },
    {
     "name": "stdout",
     "output_type": "stream",
     "text": [
      "Epoch: 14, for 32_512_1_0.001\n",
      "Train Loss: 0.476 | Train Accuracy: 83.94%\n",
      "Eval Loss: 1.474 | Eval Accuracy: 59.86%\n",
      "----------\n"
     ]
    },
    {
     "name": "stderr",
     "output_type": "stream",
     "text": [
      "100%|██████████| 113/113 [01:07<00:00,  1.67it/s]\n",
      "100%|██████████| 29/29 [00:06<00:00,  4.68it/s]\n"
     ]
    },
    {
     "name": "stdout",
     "output_type": "stream",
     "text": [
      "Epoch: 15, for 32_512_1_0.001\n",
      "Train Loss: 0.374 | Train Accuracy: 87.50%\n",
      "Eval Loss: 1.635 | Eval Accuracy: 59.44%\n",
      "----------\n",
      "./models/r_d_32_512_1_0.001_15.pt saved\n",
      "----------\n"
     ]
    },
    {
     "name": "stderr",
     "output_type": "stream",
     "text": [
      "100%|██████████| 113/113 [01:07<00:00,  1.66it/s]\n",
      "100%|██████████| 29/29 [00:06<00:00,  4.59it/s]\n"
     ]
    },
    {
     "name": "stdout",
     "output_type": "stream",
     "text": [
      "Epoch: 16, for 32_512_1_0.001\n",
      "Train Loss: 0.283 | Train Accuracy: 90.75%\n",
      "Eval Loss: 1.832 | Eval Accuracy: 58.72%\n",
      "----------\n"
     ]
    },
    {
     "name": "stderr",
     "output_type": "stream",
     "text": [
      "100%|██████████| 113/113 [01:06<00:00,  1.70it/s]\n",
      "100%|██████████| 29/29 [00:06<00:00,  4.77it/s]\n"
     ]
    },
    {
     "name": "stdout",
     "output_type": "stream",
     "text": [
      "Epoch: 17, for 32_512_1_0.001\n",
      "Train Loss: 0.208 | Train Accuracy: 93.21%\n",
      "Eval Loss: 2.025 | Eval Accuracy: 59.23%\n",
      "----------\n"
     ]
    },
    {
     "name": "stderr",
     "output_type": "stream",
     "text": [
      "100%|██████████| 113/113 [01:07<00:00,  1.68it/s]\n",
      "100%|██████████| 29/29 [00:06<00:00,  4.77it/s]\n"
     ]
    },
    {
     "name": "stdout",
     "output_type": "stream",
     "text": [
      "Epoch: 18, for 32_512_1_0.001\n",
      "Train Loss: 0.153 | Train Accuracy: 95.13%\n",
      "Eval Loss: 2.193 | Eval Accuracy: 58.34%\n",
      "----------\n"
     ]
    },
    {
     "name": "stderr",
     "output_type": "stream",
     "text": [
      "100%|██████████| 113/113 [01:06<00:00,  1.69it/s]\n",
      "100%|██████████| 29/29 [00:06<00:00,  4.70it/s]\n"
     ]
    },
    {
     "name": "stdout",
     "output_type": "stream",
     "text": [
      "Epoch: 19, for 32_512_1_0.001\n",
      "Train Loss: 0.114 | Train Accuracy: 96.43%\n",
      "Eval Loss: 2.365 | Eval Accuracy: 58.71%\n",
      "----------\n"
     ]
    },
    {
     "name": "stderr",
     "output_type": "stream",
     "text": [
      "100%|██████████| 113/113 [01:06<00:00,  1.69it/s]\n",
      "100%|██████████| 29/29 [00:06<00:00,  4.65it/s]\n"
     ]
    },
    {
     "name": "stdout",
     "output_type": "stream",
     "text": [
      "Epoch: 20, for 32_512_1_0.001\n",
      "Train Loss: 0.084 | Train Accuracy: 97.37%\n",
      "Eval Loss: 2.547 | Eval Accuracy: 58.75%\n",
      "----------\n",
      "./models/r_d_32_512_1_0.001_20.pt saved\n",
      "----------\n",
      "./models/r_d_32_512_1_0.001.pkl saved\n",
      "Plotting loss and accuracy history for char_embedding_dim=32, char_hidden_dim=512, weight=1, learn_rate=0.001\n"
     ]
    },
    {
     "data": {
      "image/png": "[encoded data removed]",
      "text/plain": [
       "<Figure size 1200x400 with 2 Axes>"
      ]
     },
     "metadata": {},
     "output_type": "display_data"
    },
    {
     "name": "stderr",
     "output_type": "stream",
     "text": [
      "100%|██████████| 113/113 [01:06<00:00,  1.69it/s]\n",
      "100%|██████████| 29/29 [00:06<00:00,  4.51it/s]\n"
     ]
    },
    {
     "name": "stdout",
     "output_type": "stream",
     "text": [
      "Epoch: 1, for 32_512_1_0.0001\n",
      "Train Loss: 1.930 | Train Accuracy: 45.02%\n",
      "Eval Loss: 1.801 | Eval Accuracy: 45.28%\n",
      "----------\n"
     ]
    },
    {
     "name": "stderr",
     "output_type": "stream",
     "text": [
      "100%|██████████| 113/113 [01:06<00:00,  1.69it/s]\n",
      "100%|██████████| 29/29 [00:06<00:00,  4.67it/s]\n"
     ]
    },
    {
     "name": "stdout",
     "output_type": "stream",
     "text": [
      "Epoch: 2, for 32_512_1_0.0001\n",
      "Train Loss: 1.778 | Train Accuracy: 45.95%\n",
      "Eval Loss: 1.780 | Eval Accuracy: 45.28%\n",
      "----------\n"
     ]
    },
    {
     "name": "stderr",
     "output_type": "stream",
     "text": [
      "100%|██████████| 113/113 [01:06<00:00,  1.70it/s]\n",
      "100%|██████████| 29/29 [00:06<00:00,  4.55it/s]\n"
     ]
    },
    {
     "name": "stdout",
     "output_type": "stream",
     "text": [
      "Epoch: 3, for 32_512_1_0.0001\n",
      "Train Loss: 1.763 | Train Accuracy: 45.95%\n",
      "Eval Loss: 1.764 | Eval Accuracy: 45.28%\n",
      "----------\n"
     ]
    },
    {
     "name": "stderr",
     "output_type": "stream",
     "text": [
      "100%|██████████| 113/113 [01:06<00:00,  1.70it/s]\n",
      "100%|██████████| 29/29 [00:06<00:00,  4.74it/s]\n"
     ]
    },
    {
     "name": "stdout",
     "output_type": "stream",
     "text": [
      "Epoch: 4, for 32_512_1_0.0001\n",
      "Train Loss: 1.700 | Train Accuracy: 45.81%\n",
      "Eval Loss: 1.675 | Eval Accuracy: 45.28%\n",
      "----------\n"
     ]
    },
    {
     "name": "stderr",
     "output_type": "stream",
     "text": [
      "100%|██████████| 113/113 [01:06<00:00,  1.70it/s]\n",
      "100%|██████████| 29/29 [00:06<00:00,  4.46it/s]\n"
     ]
    },
    {
     "name": "stdout",
     "output_type": "stream",
     "text": [
      "Epoch: 5, for 32_512_1_0.0001\n",
      "Train Loss: 1.621 | Train Accuracy: 45.99%\n",
      "Eval Loss: 1.584 | Eval Accuracy: 45.41%\n",
      "----------\n",
      "./models/r_d_32_512_1_0.0001_5.pt saved\n",
      "----------\n"
     ]
    },
    {
     "name": "stderr",
     "output_type": "stream",
     "text": [
      "100%|██████████| 113/113 [01:07<00:00,  1.68it/s]\n",
      "100%|██████████| 29/29 [00:06<00:00,  4.44it/s]\n"
     ]
    },
    {
     "name": "stdout",
     "output_type": "stream",
     "text": [
      "Epoch: 6, for 32_512_1_0.0001\n",
      "Train Loss: 1.552 | Train Accuracy: 46.04%\n",
      "Eval Loss: 1.537 | Eval Accuracy: 46.09%\n",
      "----------\n"
     ]
    },
    {
     "name": "stderr",
     "output_type": "stream",
     "text": [
      "100%|██████████| 113/113 [01:06<00:00,  1.69it/s]\n",
      "100%|██████████| 29/29 [00:06<00:00,  4.67it/s]\n"
     ]
    },
    {
     "name": "stdout",
     "output_type": "stream",
     "text": [
      "Epoch: 7, for 32_512_1_0.0001\n",
      "Train Loss: 1.512 | Train Accuracy: 46.62%\n",
      "Eval Loss: 1.505 | Eval Accuracy: 46.75%\n",
      "----------\n"
     ]
    },
    {
     "name": "stderr",
     "output_type": "stream",
     "text": [
      "100%|██████████| 113/113 [01:06<00:00,  1.69it/s]\n",
      "100%|██████████| 29/29 [00:06<00:00,  4.69it/s]\n"
     ]
    },
    {
     "name": "stdout",
     "output_type": "stream",
     "text": [
      "Epoch: 8, for 32_512_1_0.0001\n",
      "Train Loss: 1.481 | Train Accuracy: 46.78%\n",
      "Eval Loss: 1.481 | Eval Accuracy: 46.24%\n",
      "----------\n"
     ]
    },
    {
     "name": "stderr",
     "output_type": "stream",
     "text": [
      "100%|██████████| 113/113 [01:07<00:00,  1.67it/s]\n",
      "100%|██████████| 29/29 [00:05<00:00,  4.87it/s]\n"
     ]
    },
    {
     "name": "stdout",
     "output_type": "stream",
     "text": [
      "Epoch: 9, for 32_512_1_0.0001\n",
      "Train Loss: 1.462 | Train Accuracy: 46.84%\n",
      "Eval Loss: 1.467 | Eval Accuracy: 47.15%\n",
      "----------\n"
     ]
    },
    {
     "name": "stderr",
     "output_type": "stream",
     "text": [
      "100%|██████████| 113/113 [01:07<00:00,  1.68it/s]\n",
      "100%|██████████| 29/29 [00:06<00:00,  4.66it/s]\n"
     ]
    },
    {
     "name": "stdout",
     "output_type": "stream",
     "text": [
      "Epoch: 10, for 32_512_1_0.0001\n",
      "Train Loss: 1.444 | Train Accuracy: 47.92%\n",
      "Eval Loss: 1.440 | Eval Accuracy: 48.63%\n",
      "----------\n",
      "./models/r_d_32_512_1_0.0001_10.pt saved\n",
      "----------\n"
     ]
    },
    {
     "name": "stderr",
     "output_type": "stream",
     "text": [
      "100%|██████████| 113/113 [01:07<00:00,  1.69it/s]\n",
      "100%|██████████| 29/29 [00:06<00:00,  4.63it/s]\n"
     ]
    },
    {
     "name": "stdout",
     "output_type": "stream",
     "text": [
      "Epoch: 11, for 32_512_1_0.0001\n",
      "Train Loss: 1.418 | Train Accuracy: 49.10%\n",
      "Eval Loss: 1.417 | Eval Accuracy: 49.06%\n",
      "----------\n"
     ]
    },
    {
     "name": "stderr",
     "output_type": "stream",
     "text": [
      "100%|██████████| 113/113 [01:09<00:00,  1.63it/s]\n",
      "100%|██████████| 29/29 [00:06<00:00,  4.70it/s]\n"
     ]
    },
    {
     "name": "stdout",
     "output_type": "stream",
     "text": [
      "Epoch: 12, for 32_512_1_0.0001\n",
      "Train Loss: 1.397 | Train Accuracy: 49.83%\n",
      "Eval Loss: 1.401 | Eval Accuracy: 49.75%\n",
      "----------\n"
     ]
    },
    {
     "name": "stderr",
     "output_type": "stream",
     "text": [
      "100%|██████████| 113/113 [01:07<00:00,  1.69it/s]\n",
      "100%|██████████| 29/29 [00:06<00:00,  4.70it/s]\n"
     ]
    },
    {
     "name": "stdout",
     "output_type": "stream",
     "text": [
      "Epoch: 13, for 32_512_1_0.0001\n",
      "Train Loss: 1.380 | Train Accuracy: 50.64%\n",
      "Eval Loss: 1.380 | Eval Accuracy: 50.76%\n",
      "----------\n"
     ]
    },
    {
     "name": "stderr",
     "output_type": "stream",
     "text": [
      "100%|██████████| 113/113 [01:07<00:00,  1.67it/s]\n",
      "100%|██████████| 29/29 [00:06<00:00,  4.71it/s]\n"
     ]
    },
    {
     "name": "stdout",
     "output_type": "stream",
     "text": [
      "Epoch: 14, for 32_512_1_0.0001\n",
      "Train Loss: 1.363 | Train Accuracy: 51.38%\n",
      "Eval Loss: 1.370 | Eval Accuracy: 51.13%\n",
      "----------\n"
     ]
    },
    {
     "name": "stderr",
     "output_type": "stream",
     "text": [
      "100%|██████████| 113/113 [01:07<00:00,  1.67it/s]\n",
      "100%|██████████| 29/29 [00:06<00:00,  4.77it/s]\n"
     ]
    },
    {
     "name": "stdout",
     "output_type": "stream",
     "text": [
      "Epoch: 15, for 32_512_1_0.0001\n",
      "Train Loss: 1.345 | Train Accuracy: 51.95%\n",
      "Eval Loss: 1.355 | Eval Accuracy: 51.54%\n",
      "----------\n",
      "./models/r_d_32_512_1_0.0001_15.pt saved\n",
      "----------\n"
     ]
    },
    {
     "name": "stderr",
     "output_type": "stream",
     "text": [
      "100%|██████████| 113/113 [01:07<00:00,  1.67it/s]\n",
      "100%|██████████| 29/29 [00:05<00:00,  4.86it/s]\n"
     ]
    },
    {
     "name": "stdout",
     "output_type": "stream",
     "text": [
      "Epoch: 16, for 32_512_1_0.0001\n",
      "Train Loss: 1.329 | Train Accuracy: 52.65%\n",
      "Eval Loss: 1.340 | Eval Accuracy: 52.38%\n",
      "----------\n"
     ]
    },
    {
     "name": "stderr",
     "output_type": "stream",
     "text": [
      "100%|██████████| 113/113 [01:06<00:00,  1.69it/s]\n",
      "100%|██████████| 29/29 [00:06<00:00,  4.72it/s]\n"
     ]
    },
    {
     "name": "stdout",
     "output_type": "stream",
     "text": [
      "Epoch: 17, for 32_512_1_0.0001\n",
      "Train Loss: 1.314 | Train Accuracy: 53.19%\n",
      "Eval Loss: 1.326 | Eval Accuracy: 52.90%\n",
      "----------\n"
     ]
    },
    {
     "name": "stderr",
     "output_type": "stream",
     "text": [
      "100%|██████████| 113/113 [01:07<00:00,  1.68it/s]\n",
      "100%|██████████| 29/29 [00:06<00:00,  4.55it/s]\n"
     ]
    },
    {
     "name": "stdout",
     "output_type": "stream",
     "text": [
      "Epoch: 18, for 32_512_1_0.0001\n",
      "Train Loss: 1.303 | Train Accuracy: 53.57%\n",
      "Eval Loss: 1.314 | Eval Accuracy: 53.30%\n",
      "----------\n"
     ]
    },
    {
     "name": "stderr",
     "output_type": "stream",
     "text": [
      "100%|██████████| 113/113 [01:07<00:00,  1.69it/s]\n",
      "100%|██████████| 29/29 [00:05<00:00,  4.85it/s]\n"
     ]
    },
    {
     "name": "stdout",
     "output_type": "stream",
     "text": [
      "Epoch: 19, for 32_512_1_0.0001\n",
      "Train Loss: 1.289 | Train Accuracy: 54.11%\n",
      "Eval Loss: 1.300 | Eval Accuracy: 53.76%\n",
      "----------\n"
     ]
    },
    {
     "name": "stderr",
     "output_type": "stream",
     "text": [
      "100%|██████████| 113/113 [01:07<00:00,  1.67it/s]\n",
      "100%|██████████| 29/29 [00:06<00:00,  4.78it/s]\n"
     ]
    },
    {
     "name": "stdout",
     "output_type": "stream",
     "text": [
      "Epoch: 20, for 32_512_1_0.0001\n",
      "Train Loss: 1.278 | Train Accuracy: 54.47%\n",
      "Eval Loss: 1.294 | Eval Accuracy: 53.80%\n",
      "----------\n",
      "./models/r_d_32_512_1_0.0001_20.pt saved\n",
      "----------\n",
      "./models/r_d_32_512_1_0.0001.pkl saved\n",
      "Plotting loss and accuracy history for char_embedding_dim=32, char_hidden_dim=512, weight=1, learn_rate=0.0001\n"
     ]
    },
    {
     "data": {
      "image/png": "[encoded data removed]",
      "text/plain": [
       "<Figure size 1200x400 with 2 Axes>"
      ]
     },
     "metadata": {},
     "output_type": "display_data"
    },
    {
     "name": "stderr",
     "output_type": "stream",
     "text": [
      "100%|██████████| 113/113 [01:07<00:00,  1.68it/s]\n",
      "100%|██████████| 29/29 [00:06<00:00,  4.61it/s]\n"
     ]
    },
    {
     "name": "stdout",
     "output_type": "stream",
     "text": [
      "Epoch: 1, for 32_512_0.5_0.001\n",
      "Train Loss: 1.886 | Train Accuracy: 43.86%\n",
      "Eval Loss: 1.632 | Eval Accuracy: 47.05%\n",
      "----------\n"
     ]
    },
    {
     "name": "stderr",
     "output_type": "stream",
     "text": [
      "100%|██████████| 113/113 [01:07<00:00,  1.67it/s]\n",
      "100%|██████████| 29/29 [00:06<00:00,  4.56it/s]\n"
     ]
    },
    {
     "name": "stdout",
     "output_type": "stream",
     "text": [
      "Epoch: 2, for 32_512_0.5_0.001\n",
      "Train Loss: 1.552 | Train Accuracy: 49.23%\n",
      "Eval Loss: 1.499 | Eval Accuracy: 50.40%\n",
      "----------\n"
     ]
    },
    {
     "name": "stderr",
     "output_type": "stream",
     "text": [
      "100%|██████████| 113/113 [01:07<00:00,  1.68it/s]\n",
      "100%|██████████| 29/29 [00:06<00:00,  4.65it/s]\n"
     ]
    },
    {
     "name": "stdout",
     "output_type": "stream",
     "text": [
      "Epoch: 3, for 32_512_0.5_0.001\n",
      "Train Loss: 1.455 | Train Accuracy: 52.11%\n",
      "Eval Loss: 1.424 | Eval Accuracy: 53.02%\n",
      "----------\n"
     ]
    },
    {
     "name": "stderr",
     "output_type": "stream",
     "text": [
      "100%|██████████| 113/113 [01:06<00:00,  1.69it/s]\n",
      "100%|██████████| 29/29 [00:06<00:00,  4.66it/s]\n"
     ]
    },
    {
     "name": "stdout",
     "output_type": "stream",
     "text": [
      "Epoch: 4, for 32_512_0.5_0.001\n",
      "Train Loss: 1.384 | Train Accuracy: 54.51%\n",
      "Eval Loss: 1.369 | Eval Accuracy: 55.91%\n",
      "----------\n"
     ]
    },
    {
     "name": "stderr",
     "output_type": "stream",
     "text": [
      "100%|██████████| 113/113 [01:08<00:00,  1.66it/s]\n",
      "100%|██████████| 29/29 [00:06<00:00,  4.66it/s]\n"
     ]
    },
    {
     "name": "stdout",
     "output_type": "stream",
     "text": [
      "Epoch: 5, for 32_512_0.5_0.001\n",
      "Train Loss: 1.316 | Train Accuracy: 57.06%\n",
      "Eval Loss: 1.321 | Eval Accuracy: 57.62%\n",
      "----------\n",
      "./models/r_d_32_512_0.5_0.001_5.pt saved\n",
      "----------\n"
     ]
    },
    {
     "name": "stderr",
     "output_type": "stream",
     "text": [
      "100%|██████████| 113/113 [01:06<00:00,  1.69it/s]\n",
      "100%|██████████| 29/29 [00:05<00:00,  4.92it/s]\n"
     ]
    },
    {
     "name": "stdout",
     "output_type": "stream",
     "text": [
      "Epoch: 6, for 32_512_0.5_0.001\n",
      "Train Loss: 1.253 | Train Accuracy: 59.36%\n",
      "Eval Loss: 1.279 | Eval Accuracy: 58.80%\n",
      "----------\n"
     ]
    },
    {
     "name": "stderr",
     "output_type": "stream",
     "text": [
      "100%|██████████| 113/113 [01:07<00:00,  1.67it/s]\n",
      "100%|██████████| 29/29 [00:06<00:00,  4.70it/s]\n"
     ]
    },
    {
     "name": "stdout",
     "output_type": "stream",
     "text": [
      "Epoch: 7, for 32_512_0.5_0.001\n",
      "Train Loss: 1.190 | Train Accuracy: 61.53%\n",
      "Eval Loss: 1.264 | Eval Accuracy: 59.64%\n",
      "----------\n"
     ]
    },
    {
     "name": "stderr",
     "output_type": "stream",
     "text": [
      "100%|██████████| 113/113 [01:07<00:00,  1.69it/s]\n",
      "100%|██████████| 29/29 [00:06<00:00,  4.73it/s]\n"
     ]
    },
    {
     "name": "stdout",
     "output_type": "stream",
     "text": [
      "Epoch: 8, for 32_512_0.5_0.001\n",
      "Train Loss: 1.119 | Train Accuracy: 63.73%\n",
      "Eval Loss: 1.265 | Eval Accuracy: 59.92%\n",
      "----------\n"
     ]
    },
    {
     "name": "stderr",
     "output_type": "stream",
     "text": [
      "100%|██████████| 113/113 [01:07<00:00,  1.68it/s]\n",
      "100%|██████████| 29/29 [00:05<00:00,  4.85it/s]\n"
     ]
    },
    {
     "name": "stdout",
     "output_type": "stream",
     "text": [
      "Epoch: 9, for 32_512_0.5_0.001\n",
      "Train Loss: 1.039 | Train Accuracy: 66.41%\n",
      "Eval Loss: 1.261 | Eval Accuracy: 60.34%\n",
      "----------\n"
     ]
    },
    {
     "name": "stderr",
     "output_type": "stream",
     "text": [
      "100%|██████████| 113/113 [01:06<00:00,  1.69it/s]\n",
      "100%|██████████| 29/29 [00:06<00:00,  4.76it/s]\n"
     ]
    },
    {
     "name": "stdout",
     "output_type": "stream",
     "text": [
      "Epoch: 10, for 32_512_0.5_0.001\n",
      "Train Loss: 0.944 | Train Accuracy: 69.56%\n",
      "Eval Loss: 1.303 | Eval Accuracy: 59.97%\n",
      "----------\n",
      "./models/r_d_32_512_0.5_0.001_10.pt saved\n",
      "----------\n"
     ]
    },
    {
     "name": "stderr",
     "output_type": "stream",
     "text": [
      "100%|██████████| 113/113 [01:07<00:00,  1.68it/s]\n",
      "100%|██████████| 29/29 [00:05<00:00,  4.84it/s]\n"
     ]
    },
    {
     "name": "stdout",
     "output_type": "stream",
     "text": [
      "Epoch: 11, for 32_512_0.5_0.001\n",
      "Train Loss: 0.831 | Train Accuracy: 73.12%\n",
      "Eval Loss: 1.381 | Eval Accuracy: 59.23%\n",
      "----------\n"
     ]
    },
    {
     "name": "stderr",
     "output_type": "stream",
     "text": [
      "100%|██████████| 113/113 [01:07<00:00,  1.67it/s]\n",
      "100%|██████████| 29/29 [00:06<00:00,  4.80it/s]\n"
     ]
    },
    {
     "name": "stdout",
     "output_type": "stream",
     "text": [
      "Epoch: 12, for 32_512_0.5_0.001\n",
      "Train Loss: 0.706 | Train Accuracy: 77.15%\n",
      "Eval Loss: 1.502 | Eval Accuracy: 59.54%\n",
      "----------\n"
     ]
    },
    {
     "name": "stderr",
     "output_type": "stream",
     "text": [
      "100%|██████████| 113/113 [01:07<00:00,  1.68it/s]\n",
      "100%|██████████| 29/29 [00:06<00:00,  4.64it/s]\n"
     ]
    },
    {
     "name": "stdout",
     "output_type": "stream",
     "text": [
      "Epoch: 13, for 32_512_0.5_0.001\n",
      "Train Loss: 0.573 | Train Accuracy: 81.41%\n",
      "Eval Loss: 1.638 | Eval Accuracy: 58.99%\n",
      "----------\n"
     ]
    },
    {
     "name": "stderr",
     "output_type": "stream",
     "text": [
      "100%|██████████| 113/113 [01:06<00:00,  1.69it/s]\n",
      "100%|██████████| 29/29 [00:05<00:00,  4.91it/s]\n"
     ]
    },
    {
     "name": "stdout",
     "output_type": "stream",
     "text": [
      "Epoch: 14, for 32_512_0.5_0.001\n",
      "Train Loss: 0.450 | Train Accuracy: 85.29%\n",
      "Eval Loss: 1.848 | Eval Accuracy: 59.35%\n",
      "----------\n"
     ]
    },
    {
     "name": "stderr",
     "output_type": "stream",
     "text": [
      "100%|██████████| 113/113 [01:07<00:00,  1.68it/s]\n",
      "100%|██████████| 29/29 [00:06<00:00,  4.57it/s]\n"
     ]
    },
    {
     "name": "stdout",
     "output_type": "stream",
     "text": [
      "Epoch: 15, for 32_512_0.5_0.001\n",
      "Train Loss: 0.337 | Train Accuracy: 88.92%\n",
      "Eval Loss: 2.043 | Eval Accuracy: 58.48%\n",
      "----------\n",
      "./models/r_d_32_512_0.5_0.001_15.pt saved\n",
      "----------\n"
     ]
    },
    {
     "name": "stderr",
     "output_type": "stream",
     "text": [
      "100%|██████████| 113/113 [01:07<00:00,  1.67it/s]\n",
      "100%|██████████| 29/29 [00:05<00:00,  4.86it/s]\n"
     ]
    },
    {
     "name": "stdout",
     "output_type": "stream",
     "text": [
      "Epoch: 16, for 32_512_0.5_0.001\n",
      "Train Loss: 0.252 | Train Accuracy: 91.71%\n",
      "Eval Loss: 2.382 | Eval Accuracy: 58.75%\n",
      "----------\n"
     ]
    },
    {
     "name": "stderr",
     "output_type": "stream",
     "text": [
      "100%|██████████| 113/113 [01:07<00:00,  1.69it/s]\n",
      "100%|██████████| 29/29 [00:06<00:00,  4.81it/s]\n"
     ]
    },
    {
     "name": "stdout",
     "output_type": "stream",
     "text": [
      "Epoch: 17, for 32_512_0.5_0.001\n",
      "Train Loss: 0.187 | Train Accuracy: 93.88%\n",
      "Eval Loss: 2.576 | Eval Accuracy: 58.59%\n",
      "----------\n"
     ]
    },
    {
     "name": "stderr",
     "output_type": "stream",
     "text": [
      "100%|██████████| 113/113 [01:06<00:00,  1.69it/s]\n",
      "100%|██████████| 29/29 [00:06<00:00,  4.65it/s]\n"
     ]
    },
    {
     "name": "stdout",
     "output_type": "stream",
     "text": [
      "Epoch: 18, for 32_512_0.5_0.001\n",
      "Train Loss: 0.133 | Train Accuracy: 95.73%\n",
      "Eval Loss: 2.807 | Eval Accuracy: 58.94%\n",
      "----------\n"
     ]
    },
    {
     "name": "stderr",
     "output_type": "stream",
     "text": [
      "100%|██████████| 113/113 [01:06<00:00,  1.69it/s]\n",
      "100%|██████████| 29/29 [00:06<00:00,  4.54it/s]\n"
     ]
    },
    {
     "name": "stdout",
     "output_type": "stream",
     "text": [
      "Epoch: 19, for 32_512_0.5_0.001\n",
      "Train Loss: 0.100 | Train Accuracy: 96.84%\n",
      "Eval Loss: 2.961 | Eval Accuracy: 58.40%\n",
      "----------\n"
     ]
    },
    {
     "name": "stderr",
     "output_type": "stream",
     "text": [
      "100%|██████████| 113/113 [01:07<00:00,  1.68it/s]\n",
      "100%|██████████| 29/29 [00:06<00:00,  4.77it/s]\n"
     ]
    },
    {
     "name": "stdout",
     "output_type": "stream",
     "text": [
      "Epoch: 20, for 32_512_0.5_0.001\n",
      "Train Loss: 0.077 | Train Accuracy: 97.69%\n",
      "Eval Loss: 3.137 | Eval Accuracy: 58.63%\n",
      "----------\n",
      "./models/r_d_32_512_0.5_0.001_20.pt saved\n",
      "----------\n",
      "./models/r_d_32_512_0.5_0.001.pkl saved\n",
      "Plotting loss and accuracy history for char_embedding_dim=32, char_hidden_dim=512, weight=0.5, learn_rate=0.001\n"
     ]
    },
    {
     "data": {
      "image/png": "[encoded data removed]",
      "text/plain": [
       "<Figure size 1200x400 with 2 Axes>"
      ]
     },
     "metadata": {},
     "output_type": "display_data"
    },
    {
     "name": "stderr",
     "output_type": "stream",
     "text": [
      "100%|██████████| 113/113 [01:07<00:00,  1.68it/s]\n",
      "100%|██████████| 29/29 [00:06<00:00,  4.48it/s]\n"
     ]
    },
    {
     "name": "stdout",
     "output_type": "stream",
     "text": [
      "Epoch: 1, for 32_512_0.5_0.0001\n",
      "Train Loss: 2.114 | Train Accuracy: 42.75%\n",
      "Eval Loss: 2.027 | Eval Accuracy: 45.19%\n",
      "----------\n"
     ]
    },
    {
     "name": "stderr",
     "output_type": "stream",
     "text": [
      "100%|██████████| 113/113 [01:08<00:00,  1.66it/s]\n",
      "100%|██████████| 29/29 [00:06<00:00,  4.71it/s]\n"
     ]
    },
    {
     "name": "stdout",
     "output_type": "stream",
     "text": [
      "Epoch: 2, for 32_512_0.5_0.0001\n",
      "Train Loss: 2.005 | Train Accuracy: 45.95%\n",
      "Eval Loss: 1.977 | Eval Accuracy: 45.27%\n",
      "----------\n"
     ]
    },
    {
     "name": "stderr",
     "output_type": "stream",
     "text": [
      "100%|██████████| 113/113 [01:07<00:00,  1.68it/s]\n",
      "100%|██████████| 29/29 [00:06<00:00,  4.60it/s]\n"
     ]
    },
    {
     "name": "stdout",
     "output_type": "stream",
     "text": [
      "Epoch: 3, for 32_512_0.5_0.0001\n",
      "Train Loss: 1.859 | Train Accuracy: 43.47%\n",
      "Eval Loss: 1.780 | Eval Accuracy: 41.20%\n",
      "----------\n"
     ]
    },
    {
     "name": "stderr",
     "output_type": "stream",
     "text": [
      "100%|██████████| 113/113 [01:06<00:00,  1.69it/s]\n",
      "100%|██████████| 29/29 [00:06<00:00,  4.46it/s]\n"
     ]
    },
    {
     "name": "stdout",
     "output_type": "stream",
     "text": [
      "Epoch: 4, for 32_512_0.5_0.0001\n",
      "Train Loss: 1.740 | Train Accuracy: 42.77%\n",
      "Eval Loss: 1.711 | Eval Accuracy: 45.00%\n",
      "----------\n"
     ]
    },
    {
     "name": "stderr",
     "output_type": "stream",
     "text": [
      "100%|██████████| 113/113 [01:06<00:00,  1.69it/s]\n",
      "100%|██████████| 29/29 [00:05<00:00,  4.93it/s]\n"
     ]
    },
    {
     "name": "stdout",
     "output_type": "stream",
     "text": [
      "Epoch: 5, for 32_512_0.5_0.0001\n",
      "Train Loss: 1.690 | Train Accuracy: 45.19%\n",
      "Eval Loss: 1.682 | Eval Accuracy: 45.48%\n",
      "----------\n",
      "./models/r_d_32_512_0.5_0.0001_5.pt saved\n",
      "----------\n"
     ]
    },
    {
     "name": "stderr",
     "output_type": "stream",
     "text": [
      "100%|██████████| 113/113 [01:06<00:00,  1.71it/s]\n",
      "100%|██████████| 29/29 [00:05<00:00,  4.96it/s]\n"
     ]
    },
    {
     "name": "stdout",
     "output_type": "stream",
     "text": [
      "Epoch: 6, for 32_512_0.5_0.0001\n",
      "Train Loss: 1.652 | Train Accuracy: 46.74%\n",
      "Eval Loss: 1.644 | Eval Accuracy: 46.79%\n",
      "----------\n"
     ]
    },
    {
     "name": "stderr",
     "output_type": "stream",
     "text": [
      "100%|██████████| 113/113 [01:06<00:00,  1.70it/s]\n",
      "100%|██████████| 29/29 [00:06<00:00,  4.64it/s]\n"
     ]
    },
    {
     "name": "stdout",
     "output_type": "stream",
     "text": [
      "Epoch: 7, for 32_512_0.5_0.0001\n",
      "Train Loss: 1.625 | Train Accuracy: 47.54%\n",
      "Eval Loss: 1.618 | Eval Accuracy: 47.65%\n",
      "----------\n"
     ]
    },
    {
     "name": "stderr",
     "output_type": "stream",
     "text": [
      "100%|██████████| 113/113 [01:06<00:00,  1.70it/s]\n",
      "100%|██████████| 29/29 [00:05<00:00,  4.90it/s]\n"
     ]
    },
    {
     "name": "stdout",
     "output_type": "stream",
     "text": [
      "Epoch: 8, for 32_512_0.5_0.0001\n",
      "Train Loss: 1.600 | Train Accuracy: 48.13%\n",
      "Eval Loss: 1.598 | Eval Accuracy: 48.71%\n",
      "----------\n"
     ]
    },
    {
     "name": "stderr",
     "output_type": "stream",
     "text": [
      "100%|██████████| 113/113 [01:05<00:00,  1.72it/s]\n",
      "100%|██████████| 29/29 [00:06<00:00,  4.71it/s]\n"
     ]
    },
    {
     "name": "stdout",
     "output_type": "stream",
     "text": [
      "Epoch: 9, for 32_512_0.5_0.0001\n",
      "Train Loss: 1.579 | Train Accuracy: 48.88%\n",
      "Eval Loss: 1.580 | Eval Accuracy: 48.50%\n",
      "----------\n"
     ]
    },
    {
     "name": "stderr",
     "output_type": "stream",
     "text": [
      "100%|██████████| 113/113 [01:05<00:00,  1.73it/s]\n",
      "100%|██████████| 29/29 [00:06<00:00,  4.73it/s]\n"
     ]
    },
    {
     "name": "stdout",
     "output_type": "stream",
     "text": [
      "Epoch: 10, for 32_512_0.5_0.0001\n",
      "Train Loss: 1.562 | Train Accuracy: 49.40%\n",
      "Eval Loss: 1.559 | Eval Accuracy: 49.48%\n",
      "----------\n",
      "./models/r_d_32_512_0.5_0.0001_10.pt saved\n",
      "----------\n"
     ]
    },
    {
     "name": "stderr",
     "output_type": "stream",
     "text": [
      "100%|██████████| 113/113 [01:05<00:00,  1.73it/s]\n",
      "100%|██████████| 29/29 [00:05<00:00,  4.84it/s]\n"
     ]
    },
    {
     "name": "stdout",
     "output_type": "stream",
     "text": [
      "Epoch: 11, for 32_512_0.5_0.0001\n",
      "Train Loss: 1.543 | Train Accuracy: 49.93%\n",
      "Eval Loss: 1.554 | Eval Accuracy: 49.09%\n",
      "----------\n"
     ]
    },
    {
     "name": "stderr",
     "output_type": "stream",
     "text": [
      "100%|██████████| 113/113 [01:06<00:00,  1.70it/s]\n",
      "100%|██████████| 29/29 [00:05<00:00,  4.87it/s]\n"
     ]
    },
    {
     "name": "stdout",
     "output_type": "stream",
     "text": [
      "Epoch: 12, for 32_512_0.5_0.0001\n",
      "Train Loss: 1.526 | Train Accuracy: 50.45%\n",
      "Eval Loss: 1.531 | Eval Accuracy: 50.44%\n",
      "----------\n"
     ]
    },
    {
     "name": "stderr",
     "output_type": "stream",
     "text": [
      "100%|██████████| 113/113 [01:05<00:00,  1.72it/s]\n",
      "100%|██████████| 29/29 [00:06<00:00,  4.68it/s]\n"
     ]
    },
    {
     "name": "stdout",
     "output_type": "stream",
     "text": [
      "Epoch: 13, for 32_512_0.5_0.0001\n",
      "Train Loss: 1.510 | Train Accuracy: 50.99%\n",
      "Eval Loss: 1.518 | Eval Accuracy: 51.50%\n",
      "----------\n"
     ]
    },
    {
     "name": "stderr",
     "output_type": "stream",
     "text": [
      "100%|██████████| 113/113 [01:05<00:00,  1.72it/s]\n",
      "100%|██████████| 29/29 [00:06<00:00,  4.62it/s]\n"
     ]
    },
    {
     "name": "stdout",
     "output_type": "stream",
     "text": [
      "Epoch: 14, for 32_512_0.5_0.0001\n",
      "Train Loss: 1.496 | Train Accuracy: 51.29%\n",
      "Eval Loss: 1.496 | Eval Accuracy: 51.85%\n",
      "----------\n"
     ]
    },
    {
     "name": "stderr",
     "output_type": "stream",
     "text": [
      "100%|██████████| 113/113 [01:06<00:00,  1.70it/s]\n",
      "100%|██████████| 29/29 [00:06<00:00,  4.60it/s]\n"
     ]
    },
    {
     "name": "stdout",
     "output_type": "stream",
     "text": [
      "Epoch: 15, for 32_512_0.5_0.0001\n",
      "Train Loss: 1.482 | Train Accuracy: 51.81%\n",
      "Eval Loss: 1.489 | Eval Accuracy: 52.21%\n",
      "----------\n",
      "./models/r_d_32_512_0.5_0.0001_15.pt saved\n",
      "----------\n"
     ]
    },
    {
     "name": "stderr",
     "output_type": "stream",
     "text": [
      "100%|██████████| 113/113 [01:06<00:00,  1.70it/s]\n",
      "100%|██████████| 29/29 [00:06<00:00,  4.66it/s]\n"
     ]
    },
    {
     "name": "stdout",
     "output_type": "stream",
     "text": [
      "Epoch: 16, for 32_512_0.5_0.0001\n",
      "Train Loss: 1.470 | Train Accuracy: 52.19%\n",
      "Eval Loss: 1.477 | Eval Accuracy: 52.69%\n",
      "----------\n"
     ]
    },
    {
     "name": "stderr",
     "output_type": "stream",
     "text": [
      "100%|██████████| 113/113 [01:06<00:00,  1.71it/s]\n",
      "100%|██████████| 29/29 [00:06<00:00,  4.71it/s]\n"
     ]
    },
    {
     "name": "stdout",
     "output_type": "stream",
     "text": [
      "Epoch: 17, for 32_512_0.5_0.0001\n",
      "Train Loss: 1.460 | Train Accuracy: 52.54%\n",
      "Eval Loss: 1.463 | Eval Accuracy: 52.58%\n",
      "----------\n"
     ]
    },
    {
     "name": "stderr",
     "output_type": "stream",
     "text": [
      "100%|██████████| 113/113 [01:05<00:00,  1.72it/s]\n",
      "100%|██████████| 29/29 [00:05<00:00,  4.89it/s]\n"
     ]
    },
    {
     "name": "stdout",
     "output_type": "stream",
     "text": [
      "Epoch: 18, for 32_512_0.5_0.0001\n",
      "Train Loss: 1.446 | Train Accuracy: 53.08%\n",
      "Eval Loss: 1.456 | Eval Accuracy: 52.73%\n",
      "----------\n"
     ]
    },
    {
     "name": "stderr",
     "output_type": "stream",
     "text": [
      "100%|██████████| 113/113 [01:06<00:00,  1.70it/s]\n",
      "100%|██████████| 29/29 [00:05<00:00,  4.85it/s]\n"
     ]
    },
    {
     "name": "stdout",
     "output_type": "stream",
     "text": [
      "Epoch: 19, for 32_512_0.5_0.0001\n",
      "Train Loss: 1.435 | Train Accuracy: 53.54%\n",
      "Eval Loss: 1.445 | Eval Accuracy: 53.89%\n",
      "----------\n"
     ]
    },
    {
     "name": "stderr",
     "output_type": "stream",
     "text": [
      "100%|██████████| 113/113 [01:06<00:00,  1.69it/s]\n",
      "100%|██████████| 29/29 [00:06<00:00,  4.74it/s]\n"
     ]
    },
    {
     "name": "stdout",
     "output_type": "stream",
     "text": [
      "Epoch: 20, for 32_512_0.5_0.0001\n",
      "Train Loss: 1.422 | Train Accuracy: 54.03%\n",
      "Eval Loss: 1.436 | Eval Accuracy: 53.01%\n",
      "----------\n",
      "./models/r_d_32_512_0.5_0.0001_20.pt saved\n",
      "----------\n",
      "./models/r_d_32_512_0.5_0.0001.pkl saved\n",
      "Plotting loss and accuracy history for char_embedding_dim=32, char_hidden_dim=512, weight=0.5, learn_rate=0.0001\n"
     ]
    },
    {
     "data": {
      "image/png": "[encoded data removed]",
      "text/plain": [
       "<Figure size 1200x400 with 2 Axes>"
      ]
     },
     "metadata": {},
     "output_type": "display_data"
    },
    {
     "name": "stdout",
     "output_type": "stream",
     "text": [
      "./models/r_d_32_1024_1_0.001.pkl exists\n",
      "./models/r_d_32_1024_1_0.0001.pkl exists\n"
     ]
    },
    {
     "name": "stderr",
     "output_type": "stream",
     "text": [
      "100%|██████████| 113/113 [01:12<00:00,  1.56it/s]\n",
      "100%|██████████| 29/29 [00:06<00:00,  4.44it/s]\n"
     ]
    },
    {
     "name": "stdout",
     "output_type": "stream",
     "text": [
      "Epoch: 1, for 32_1024_0.5_0.001\n",
      "Train Loss: 1.857 | Train Accuracy: 44.61%\n",
      "Eval Loss: 1.598 | Eval Accuracy: 47.90%\n",
      "----------\n"
     ]
    },
    {
     "name": "stderr",
     "output_type": "stream",
     "text": [
      "100%|██████████| 113/113 [01:12<00:00,  1.57it/s]\n",
      "100%|██████████| 29/29 [00:06<00:00,  4.35it/s]\n"
     ]
    },
    {
     "name": "stdout",
     "output_type": "stream",
     "text": [
      "Epoch: 2, for 32_1024_0.5_0.001\n",
      "Train Loss: 1.525 | Train Accuracy: 50.01%\n",
      "Eval Loss: 1.480 | Eval Accuracy: 52.91%\n",
      "----------\n"
     ]
    },
    {
     "name": "stderr",
     "output_type": "stream",
     "text": [
      "100%|██████████| 113/113 [01:12<00:00,  1.56it/s]\n",
      "100%|██████████| 29/29 [00:06<00:00,  4.32it/s]\n"
     ]
    },
    {
     "name": "stdout",
     "output_type": "stream",
     "text": [
      "Epoch: 3, for 32_1024_0.5_0.001\n",
      "Train Loss: 1.417 | Train Accuracy: 53.69%\n",
      "Eval Loss: 1.396 | Eval Accuracy: 55.00%\n",
      "----------\n"
     ]
    },
    {
     "name": "stderr",
     "output_type": "stream",
     "text": [
      "100%|██████████| 113/113 [01:12<00:00,  1.56it/s]\n",
      "100%|██████████| 29/29 [00:06<00:00,  4.29it/s]\n"
     ]
    },
    {
     "name": "stdout",
     "output_type": "stream",
     "text": [
      "Epoch: 4, for 32_1024_0.5_0.001\n",
      "Train Loss: 1.333 | Train Accuracy: 56.69%\n",
      "Eval Loss: 1.325 | Eval Accuracy: 57.63%\n",
      "----------\n"
     ]
    },
    {
     "name": "stderr",
     "output_type": "stream",
     "text": [
      "100%|██████████| 113/113 [01:12<00:00,  1.56it/s]\n",
      "100%|██████████| 29/29 [00:06<00:00,  4.30it/s]\n"
     ]
    },
    {
     "name": "stdout",
     "output_type": "stream",
     "text": [
      "Epoch: 5, for 32_1024_0.5_0.001\n",
      "Train Loss: 1.257 | Train Accuracy: 59.22%\n",
      "Eval Loss: 1.282 | Eval Accuracy: 58.33%\n",
      "----------\n",
      "./models/r_d_32_1024_0.5_0.001_5.pt saved\n",
      "----------\n"
     ]
    },
    {
     "name": "stderr",
     "output_type": "stream",
     "text": [
      "100%|██████████| 113/113 [01:12<00:00,  1.56it/s]\n",
      "100%|██████████| 29/29 [00:06<00:00,  4.44it/s]\n"
     ]
    },
    {
     "name": "stdout",
     "output_type": "stream",
     "text": [
      "Epoch: 6, for 32_1024_0.5_0.001\n",
      "Train Loss: 1.182 | Train Accuracy: 61.62%\n",
      "Eval Loss: 1.256 | Eval Accuracy: 59.46%\n",
      "----------\n"
     ]
    },
    {
     "name": "stderr",
     "output_type": "stream",
     "text": [
      "100%|██████████| 113/113 [01:12<00:00,  1.57it/s]\n",
      "100%|██████████| 29/29 [00:06<00:00,  4.31it/s]\n"
     ]
    },
    {
     "name": "stdout",
     "output_type": "stream",
     "text": [
      "Epoch: 7, for 32_1024_0.5_0.001\n",
      "Train Loss: 1.103 | Train Accuracy: 64.06%\n",
      "Eval Loss: 1.254 | Eval Accuracy: 59.47%\n",
      "----------\n"
     ]
    },
    {
     "name": "stderr",
     "output_type": "stream",
     "text": [
      "100%|██████████| 113/113 [01:12<00:00,  1.56it/s]\n",
      "100%|██████████| 29/29 [00:06<00:00,  4.41it/s]\n"
     ]
    },
    {
     "name": "stdout",
     "output_type": "stream",
     "text": [
      "Epoch: 8, for 32_1024_0.5_0.001\n",
      "Train Loss: 1.002 | Train Accuracy: 67.21%\n",
      "Eval Loss: 1.252 | Eval Accuracy: 60.39%\n",
      "----------\n"
     ]
    },
    {
     "name": "stderr",
     "output_type": "stream",
     "text": [
      "100%|██████████| 113/113 [01:12<00:00,  1.56it/s]\n",
      "100%|██████████| 29/29 [00:06<00:00,  4.42it/s]\n"
     ]
    },
    {
     "name": "stdout",
     "output_type": "stream",
     "text": [
      "Epoch: 9, for 32_1024_0.5_0.001\n",
      "Train Loss: 0.877 | Train Accuracy: 71.26%\n",
      "Eval Loss: 1.334 | Eval Accuracy: 60.44%\n",
      "----------\n"
     ]
    },
    {
     "name": "stderr",
     "output_type": "stream",
     "text": [
      "100%|██████████| 113/113 [01:12<00:00,  1.56it/s]\n",
      "100%|██████████| 29/29 [00:06<00:00,  4.32it/s]\n"
     ]
    },
    {
     "name": "stdout",
     "output_type": "stream",
     "text": [
      "Epoch: 10, for 32_1024_0.5_0.001\n",
      "Train Loss: 0.726 | Train Accuracy: 76.21%\n",
      "Eval Loss: 1.423 | Eval Accuracy: 59.14%\n",
      "----------\n",
      "./models/r_d_32_1024_0.5_0.001_10.pt saved\n",
      "----------\n"
     ]
    },
    {
     "name": "stderr",
     "output_type": "stream",
     "text": [
      "100%|██████████| 113/113 [01:12<00:00,  1.56it/s]\n",
      "100%|██████████| 29/29 [00:06<00:00,  4.41it/s]\n"
     ]
    },
    {
     "name": "stdout",
     "output_type": "stream",
     "text": [
      "Epoch: 11, for 32_1024_0.5_0.001\n",
      "Train Loss: 0.558 | Train Accuracy: 81.67%\n",
      "Eval Loss: 1.586 | Eval Accuracy: 60.19%\n",
      "----------\n"
     ]
    },
    {
     "name": "stderr",
     "output_type": "stream",
     "text": [
      "100%|██████████| 113/113 [01:12<00:00,  1.56it/s]\n",
      "100%|██████████| 29/29 [00:06<00:00,  4.44it/s]\n"
     ]
    },
    {
     "name": "stdout",
     "output_type": "stream",
     "text": [
      "Epoch: 12, for 32_1024_0.5_0.001\n",
      "Train Loss: 0.396 | Train Accuracy: 86.94%\n",
      "Eval Loss: 1.862 | Eval Accuracy: 59.90%\n",
      "----------\n"
     ]
    },
    {
     "name": "stderr",
     "output_type": "stream",
     "text": [
      "100%|██████████| 113/113 [01:12<00:00,  1.56it/s]\n",
      "100%|██████████| 29/29 [00:06<00:00,  4.43it/s]\n"
     ]
    },
    {
     "name": "stdout",
     "output_type": "stream",
     "text": [
      "Epoch: 13, for 32_1024_0.5_0.001\n",
      "Train Loss: 0.270 | Train Accuracy: 91.05%\n",
      "Eval Loss: 2.050 | Eval Accuracy: 59.63%\n",
      "----------\n"
     ]
    },
    {
     "name": "stderr",
     "output_type": "stream",
     "text": [
      "100%|██████████| 113/113 [01:12<00:00,  1.57it/s]\n",
      "100%|██████████| 29/29 [00:06<00:00,  4.37it/s]\n"
     ]
    },
    {
     "name": "stdout",
     "output_type": "stream",
     "text": [
      "Epoch: 14, for 32_1024_0.5_0.001\n",
      "Train Loss: 0.175 | Train Accuracy: 94.33%\n",
      "Eval Loss: 2.312 | Eval Accuracy: 59.67%\n",
      "----------\n"
     ]
    },
    {
     "name": "stderr",
     "output_type": "stream",
     "text": [
      "100%|██████████| 113/113 [01:12<00:00,  1.55it/s]\n",
      "100%|██████████| 29/29 [00:06<00:00,  4.39it/s]\n"
     ]
    },
    {
     "name": "stdout",
     "output_type": "stream",
     "text": [
      "Epoch: 15, for 32_1024_0.5_0.001\n",
      "Train Loss: 0.118 | Train Accuracy: 96.25%\n",
      "Eval Loss: 2.631 | Eval Accuracy: 59.90%\n",
      "----------\n",
      "./models/r_d_32_1024_0.5_0.001_15.pt saved\n",
      "----------\n"
     ]
    },
    {
     "name": "stderr",
     "output_type": "stream",
     "text": [
      "100%|██████████| 113/113 [01:12<00:00,  1.56it/s]\n",
      "100%|██████████| 29/29 [00:06<00:00,  4.38it/s]\n"
     ]
    },
    {
     "name": "stdout",
     "output_type": "stream",
     "text": [
      "Epoch: 16, for 32_1024_0.5_0.001\n",
      "Train Loss: 0.087 | Train Accuracy: 97.34%\n",
      "Eval Loss: 2.756 | Eval Accuracy: 59.83%\n",
      "----------\n"
     ]
    },
    {
     "name": "stderr",
     "output_type": "stream",
     "text": [
      "100%|██████████| 113/113 [01:12<00:00,  1.56it/s]\n",
      "100%|██████████| 29/29 [00:06<00:00,  4.41it/s]\n"
     ]
    },
    {
     "name": "stdout",
     "output_type": "stream",
     "text": [
      "Epoch: 17, for 32_1024_0.5_0.001\n",
      "Train Loss: 0.065 | Train Accuracy: 98.08%\n",
      "Eval Loss: 2.864 | Eval Accuracy: 60.21%\n",
      "----------\n"
     ]
    },
    {
     "name": "stderr",
     "output_type": "stream",
     "text": [
      "100%|██████████| 113/113 [01:12<00:00,  1.56it/s]\n",
      "100%|██████████| 29/29 [00:06<00:00,  4.40it/s]\n"
     ]
    },
    {
     "name": "stdout",
     "output_type": "stream",
     "text": [
      "Epoch: 18, for 32_1024_0.5_0.001\n",
      "Train Loss: 0.051 | Train Accuracy: 98.56%\n",
      "Eval Loss: 2.932 | Eval Accuracy: 60.02%\n",
      "----------\n"
     ]
    },
    {
     "name": "stderr",
     "output_type": "stream",
     "text": [
      "100%|██████████| 113/113 [01:12<00:00,  1.56it/s]\n",
      "100%|██████████| 29/29 [00:06<00:00,  4.43it/s]\n"
     ]
    },
    {
     "name": "stdout",
     "output_type": "stream",
     "text": [
      "Epoch: 19, for 32_1024_0.5_0.001\n",
      "Train Loss: 0.045 | Train Accuracy: 98.68%\n",
      "Eval Loss: 3.131 | Eval Accuracy: 59.99%\n",
      "----------\n"
     ]
    },
    {
     "name": "stderr",
     "output_type": "stream",
     "text": [
      "100%|██████████| 113/113 [01:12<00:00,  1.56it/s]\n",
      "100%|██████████| 29/29 [00:06<00:00,  4.46it/s]\n"
     ]
    },
    {
     "name": "stdout",
     "output_type": "stream",
     "text": [
      "Epoch: 20, for 32_1024_0.5_0.001\n",
      "Train Loss: 0.047 | Train Accuracy: 98.65%\n",
      "Eval Loss: 3.131 | Eval Accuracy: 60.08%\n",
      "----------\n",
      "./models/r_d_32_1024_0.5_0.001_20.pt saved\n",
      "----------\n",
      "./models/r_d_32_1024_0.5_0.001.pkl saved\n",
      "Plotting loss and accuracy history for char_embedding_dim=32, char_hidden_dim=1024, weight=0.5, learn_rate=0.001\n"
     ]
    },
    {
     "data": {
      "image/png": "[encoded data removed]",
      "text/plain": [
       "<Figure size 1200x400 with 2 Axes>"
      ]
     },
     "metadata": {},
     "output_type": "display_data"
    },
    {
     "name": "stderr",
     "output_type": "stream",
     "text": [
      "100%|██████████| 113/113 [01:12<00:00,  1.57it/s]\n",
      "100%|██████████| 29/29 [00:06<00:00,  4.35it/s]\n"
     ]
    },
    {
     "name": "stdout",
     "output_type": "stream",
     "text": [
      "Epoch: 1, for 32_1024_0.5_0.0001\n",
      "Train Loss: 2.083 | Train Accuracy: 45.03%\n",
      "Eval Loss: 2.018 | Eval Accuracy: 45.28%\n",
      "----------\n"
     ]
    },
    {
     "name": "stderr",
     "output_type": "stream",
     "text": [
      "100%|██████████| 113/113 [01:12<00:00,  1.56it/s]\n",
      "100%|██████████| 29/29 [00:06<00:00,  4.37it/s]\n"
     ]
    },
    {
     "name": "stdout",
     "output_type": "stream",
     "text": [
      "Epoch: 2, for 32_1024_0.5_0.0001\n",
      "Train Loss: 1.978 | Train Accuracy: 45.73%\n",
      "Eval Loss: 1.872 | Eval Accuracy: 44.38%\n",
      "----------\n"
     ]
    },
    {
     "name": "stderr",
     "output_type": "stream",
     "text": [
      "100%|██████████| 113/113 [01:12<00:00,  1.56it/s]\n",
      "100%|██████████| 29/29 [00:06<00:00,  4.31it/s]\n"
     ]
    },
    {
     "name": "stdout",
     "output_type": "stream",
     "text": [
      "Epoch: 3, for 32_1024_0.5_0.0001\n",
      "Train Loss: 1.780 | Train Accuracy: 42.27%\n",
      "Eval Loss: 1.736 | Eval Accuracy: 42.39%\n",
      "----------\n"
     ]
    },
    {
     "name": "stderr",
     "output_type": "stream",
     "text": [
      "100%|██████████| 113/113 [01:12<00:00,  1.55it/s]\n",
      "100%|██████████| 29/29 [00:06<00:00,  4.33it/s]\n"
     ]
    },
    {
     "name": "stdout",
     "output_type": "stream",
     "text": [
      "Epoch: 4, for 32_1024_0.5_0.0001\n",
      "Train Loss: 1.699 | Train Accuracy: 43.44%\n",
      "Eval Loss: 1.676 | Eval Accuracy: 45.05%\n",
      "----------\n"
     ]
    },
    {
     "name": "stderr",
     "output_type": "stream",
     "text": [
      "100%|██████████| 113/113 [01:12<00:00,  1.56it/s]\n",
      "100%|██████████| 29/29 [00:06<00:00,  4.35it/s]\n"
     ]
    },
    {
     "name": "stdout",
     "output_type": "stream",
     "text": [
      "Epoch: 5, for 32_1024_0.5_0.0001\n",
      "Train Loss: 1.639 | Train Accuracy: 45.98%\n",
      "Eval Loss: 1.605 | Eval Accuracy: 46.64%\n",
      "----------\n",
      "./models/r_d_32_1024_0.5_0.0001_5.pt saved\n",
      "----------\n"
     ]
    },
    {
     "name": "stderr",
     "output_type": "stream",
     "text": [
      "100%|██████████| 113/113 [01:12<00:00,  1.56it/s]\n",
      "100%|██████████| 29/29 [00:06<00:00,  4.39it/s]\n"
     ]
    },
    {
     "name": "stdout",
     "output_type": "stream",
     "text": [
      "Epoch: 6, for 32_1024_0.5_0.0001\n",
      "Train Loss: 1.588 | Train Accuracy: 47.60%\n",
      "Eval Loss: 1.578 | Eval Accuracy: 47.42%\n",
      "----------\n"
     ]
    },
    {
     "name": "stderr",
     "output_type": "stream",
     "text": [
      "100%|██████████| 113/113 [01:12<00:00,  1.56it/s]\n",
      "100%|██████████| 29/29 [00:06<00:00,  4.38it/s]\n"
     ]
    },
    {
     "name": "stdout",
     "output_type": "stream",
     "text": [
      "Epoch: 7, for 32_1024_0.5_0.0001\n",
      "Train Loss: 1.558 | Train Accuracy: 48.53%\n",
      "Eval Loss: 1.550 | Eval Accuracy: 48.91%\n",
      "----------\n"
     ]
    },
    {
     "name": "stderr",
     "output_type": "stream",
     "text": [
      "100%|██████████| 113/113 [01:12<00:00,  1.56it/s]\n",
      "100%|██████████| 29/29 [00:06<00:00,  4.44it/s]\n"
     ]
    },
    {
     "name": "stdout",
     "output_type": "stream",
     "text": [
      "Epoch: 8, for 32_1024_0.5_0.0001\n",
      "Train Loss: 1.530 | Train Accuracy: 49.74%\n",
      "Eval Loss: 1.523 | Eval Accuracy: 51.27%\n",
      "----------\n"
     ]
    },
    {
     "name": "stderr",
     "output_type": "stream",
     "text": [
      "100%|██████████| 113/113 [01:12<00:00,  1.56it/s]\n",
      "100%|██████████| 29/29 [00:06<00:00,  4.35it/s]\n"
     ]
    },
    {
     "name": "stdout",
     "output_type": "stream",
     "text": [
      "Epoch: 9, for 32_1024_0.5_0.0001\n",
      "Train Loss: 1.503 | Train Accuracy: 50.64%\n",
      "Eval Loss: 1.502 | Eval Accuracy: 51.29%\n",
      "----------\n"
     ]
    },
    {
     "name": "stderr",
     "output_type": "stream",
     "text": [
      "100%|██████████| 113/113 [01:12<00:00,  1.56it/s]\n",
      "100%|██████████| 29/29 [00:06<00:00,  4.39it/s]\n"
     ]
    },
    {
     "name": "stdout",
     "output_type": "stream",
     "text": [
      "Epoch: 10, for 32_1024_0.5_0.0001\n",
      "Train Loss: 1.480 | Train Accuracy: 51.44%\n",
      "Eval Loss: 1.476 | Eval Accuracy: 52.44%\n",
      "----------\n",
      "./models/r_d_32_1024_0.5_0.0001_10.pt saved\n",
      "----------\n"
     ]
    },
    {
     "name": "stderr",
     "output_type": "stream",
     "text": [
      "100%|██████████| 113/113 [01:12<00:00,  1.57it/s]\n",
      "100%|██████████| 29/29 [00:06<00:00,  4.25it/s]\n"
     ]
    },
    {
     "name": "stdout",
     "output_type": "stream",
     "text": [
      "Epoch: 11, for 32_1024_0.5_0.0001\n",
      "Train Loss: 1.457 | Train Accuracy: 52.46%\n",
      "Eval Loss: 1.461 | Eval Accuracy: 52.38%\n",
      "----------\n"
     ]
    },
    {
     "name": "stderr",
     "output_type": "stream",
     "text": [
      "100%|██████████| 113/113 [01:12<00:00,  1.56it/s]\n",
      "100%|██████████| 29/29 [00:06<00:00,  4.36it/s]\n"
     ]
    },
    {
     "name": "stdout",
     "output_type": "stream",
     "text": [
      "Epoch: 12, for 32_1024_0.5_0.0001\n",
      "Train Loss: 1.440 | Train Accuracy: 53.00%\n",
      "Eval Loss: 1.460 | Eval Accuracy: 53.75%\n",
      "----------\n"
     ]
    },
    {
     "name": "stderr",
     "output_type": "stream",
     "text": [
      "100%|██████████| 113/113 [01:12<00:00,  1.55it/s]\n",
      "100%|██████████| 29/29 [00:06<00:00,  4.40it/s]\n"
     ]
    },
    {
     "name": "stdout",
     "output_type": "stream",
     "text": [
      "Epoch: 13, for 32_1024_0.5_0.0001\n",
      "Train Loss: 1.423 | Train Accuracy: 53.64%\n",
      "Eval Loss: 1.433 | Eval Accuracy: 53.76%\n",
      "----------\n"
     ]
    },
    {
     "name": "stderr",
     "output_type": "stream",
     "text": [
      "100%|██████████| 113/113 [01:12<00:00,  1.55it/s]\n",
      "100%|██████████| 29/29 [00:06<00:00,  4.43it/s]\n"
     ]
    },
    {
     "name": "stdout",
     "output_type": "stream",
     "text": [
      "Epoch: 14, for 32_1024_0.5_0.0001\n",
      "Train Loss: 1.408 | Train Accuracy: 54.26%\n",
      "Eval Loss: 1.415 | Eval Accuracy: 53.84%\n",
      "----------\n"
     ]
    },
    {
     "name": "stderr",
     "output_type": "stream",
     "text": [
      "100%|██████████| 113/113 [01:12<00:00,  1.56it/s]\n",
      "100%|██████████| 29/29 [00:06<00:00,  4.41it/s]\n"
     ]
    },
    {
     "name": "stdout",
     "output_type": "stream",
     "text": [
      "Epoch: 15, for 32_1024_0.5_0.0001\n",
      "Train Loss: 1.389 | Train Accuracy: 54.92%\n",
      "Eval Loss: 1.409 | Eval Accuracy: 53.88%\n",
      "----------\n",
      "./models/r_d_32_1024_0.5_0.0001_15.pt saved\n",
      "----------\n"
     ]
    },
    {
     "name": "stderr",
     "output_type": "stream",
     "text": [
      "100%|██████████| 113/113 [01:12<00:00,  1.56it/s]\n",
      "100%|██████████| 29/29 [00:06<00:00,  4.43it/s]\n"
     ]
    },
    {
     "name": "stdout",
     "output_type": "stream",
     "text": [
      "Epoch: 16, for 32_1024_0.5_0.0001\n",
      "Train Loss: 1.369 | Train Accuracy: 55.62%\n",
      "Eval Loss: 1.390 | Eval Accuracy: 55.07%\n",
      "----------\n"
     ]
    },
    {
     "name": "stderr",
     "output_type": "stream",
     "text": [
      "100%|██████████| 113/113 [01:12<00:00,  1.56it/s]\n",
      "100%|██████████| 29/29 [00:06<00:00,  4.44it/s]\n"
     ]
    },
    {
     "name": "stdout",
     "output_type": "stream",
     "text": [
      "Epoch: 17, for 32_1024_0.5_0.0001\n",
      "Train Loss: 1.354 | Train Accuracy: 56.22%\n",
      "Eval Loss: 1.375 | Eval Accuracy: 55.18%\n",
      "----------\n"
     ]
    },
    {
     "name": "stderr",
     "output_type": "stream",
     "text": [
      "100%|██████████| 113/113 [01:12<00:00,  1.56it/s]\n",
      "100%|██████████| 29/29 [00:06<00:00,  4.24it/s]\n"
     ]
    },
    {
     "name": "stdout",
     "output_type": "stream",
     "text": [
      "Epoch: 18, for 32_1024_0.5_0.0001\n",
      "Train Loss: 1.336 | Train Accuracy: 56.76%\n",
      "Eval Loss: 1.367 | Eval Accuracy: 56.26%\n",
      "----------\n"
     ]
    },
    {
     "name": "stderr",
     "output_type": "stream",
     "text": [
      "100%|██████████| 113/113 [01:12<00:00,  1.57it/s]\n",
      "100%|██████████| 29/29 [00:06<00:00,  4.38it/s]\n"
     ]
    },
    {
     "name": "stdout",
     "output_type": "stream",
     "text": [
      "Epoch: 19, for 32_1024_0.5_0.0001\n",
      "Train Loss: 1.320 | Train Accuracy: 57.34%\n",
      "Eval Loss: 1.360 | Eval Accuracy: 56.19%\n",
      "----------\n"
     ]
    },
    {
     "name": "stderr",
     "output_type": "stream",
     "text": [
      "100%|██████████| 113/113 [01:12<00:00,  1.56it/s]\n",
      "100%|██████████| 29/29 [00:06<00:00,  4.42it/s]\n"
     ]
    },
    {
     "name": "stdout",
     "output_type": "stream",
     "text": [
      "Epoch: 20, for 32_1024_0.5_0.0001\n",
      "Train Loss: 1.302 | Train Accuracy: 57.92%\n",
      "Eval Loss: 1.345 | Eval Accuracy: 56.92%\n",
      "----------\n",
      "./models/r_d_32_1024_0.5_0.0001_20.pt saved\n",
      "----------\n",
      "./models/r_d_32_1024_0.5_0.0001.pkl saved\n",
      "Plotting loss and accuracy history for char_embedding_dim=32, char_hidden_dim=1024, weight=0.5, learn_rate=0.0001\n"
     ]
    },
    {
     "data": {
      "image/png": "[encoded data removed]",
      "text/plain": [
       "<Figure size 1200x400 with 2 Axes>"
      ]
     },
     "metadata": {},
     "output_type": "display_data"
    },
    {
     "name": "stdout",
     "output_type": "stream",
     "text": [
      "./models/r_d_64_512_1_0.001.pkl exists\n",
      "./models/r_d_64_512_1_0.0001.pkl exists\n",
      "./models/r_d_64_512_0.5_0.001.pkl exists\n",
      "./models/r_d_64_512_0.5_0.0001.pkl exists\n",
      "./models/r_d_64_1024_1_0.001.pkl exists\n",
      "./models/r_d_64_1024_1_0.0001.pkl exists\n",
      "./models/r_d_64_1024_0.5_0.001.pkl exists\n",
      "./models/r_d_64_1024_0.5_0.0001.pkl exists\n",
      "./models/r_d_128_512_1_0.001.pkl exists\n",
      "./models/r_d_128_512_1_0.0001.pkl exists\n",
      "./models/r_d_128_512_0.5_0.001.pkl exists\n",
      "./models/r_d_128_512_0.5_0.0001.pkl exists\n",
      "./models/r_d_128_1024_1_0.001.pkl exists\n",
      "./models/r_d_128_1024_1_0.0001.pkl exists\n",
      "./models/r_d_128_1024_0.5_0.001.pkl exists\n",
      "./models/r_d_128_1024_0.5_0.0001.pkl exists\n"
     ]
    }
   ],
   "source": [
    "# constansts for the model\n",
    "num_labels = len(label_to_id)\n",
    "char_vocab_size = alephbert_tokenizer.vocab_size\n",
    "\n",
    "# Do grid search on the following hyperparameters\n",
    "word_and_char_embedding_dim = [(16,32), (32,64), (64, 128)]\n",
    "char_hidden_dims = [512, 1024]\n",
    "learning_rate = [0.001, 0.0001]\n",
    "weights_for_no_nikud = [1, 0.5]\n",
    "num_epochs = 20\n",
    "\n",
    "\n",
    "for word_hidden_dim, char_embedding_dim in word_and_char_embedding_dim:\n",
    "    for char_hidden_dim in char_hidden_dims:\n",
    "        for weight in weights_for_no_nikud:\n",
    "            for learn_rate in learning_rate:\n",
    "                if os.path.exists(f'./models/r_d_{char_embedding_dim}_{char_hidden_dim}_{weight}_{learn_rate}.pkl'):\n",
    "                    print(f'./models/r_d_{char_embedding_dim}_{char_hidden_dim}_{weight}_{learn_rate}.pkl exists')\n",
    "                    continue\n",
    "                label_weights = set_no_nikud_weights(weight)\n",
    "                weights = torch.tensor(list(label_weights.values())).to(device)\n",
    "                # Create the model\n",
    "                reading_direction_model = ReadingDirectionModel(char_vocab_size, num_labels, char_embedding_dim=char_embedding_dim, word_hidden_dim=word_hidden_dim, char_hidden_dim=char_hidden_dim).to(device)\n",
    "                criterion = nn.CrossEntropyLoss(ignore_index=len(label_to_id), weight=weights).to(device)\n",
    "                optimizer = optim.Adam(reading_direction_model.parameters(), lr=learn_rate)\n",
    "                train_directional_model_loss_history = []\n",
    "                val_directional_model_loss_history = []\n",
    "                train_directional_model_accuracy_history = []\n",
    "                val_directional_model_accuracy_history = []\n",
    "                for epoch in range(num_epochs):\n",
    "                    train_loss, train_accuracy = train_directional_model(reading_direction_model, train_loader, optimizer, criterion)\n",
    "                    eval_loss, eval_accuracy = evaluate_directional_model(reading_direction_model, val_loader, criterion)\n",
    "                    train_directional_model_loss_history.append(train_loss)\n",
    "                    val_directional_model_loss_history.append(eval_loss)\n",
    "                    train_directional_model_accuracy_history.append(train_accuracy)\n",
    "                    val_directional_model_accuracy_history.append(eval_accuracy)\n",
    "                    print(f'Epoch: {epoch+1}, for {char_embedding_dim}_{char_hidden_dim}_{weight}_{learn_rate}')\n",
    "                    print(f'Train Loss: {train_loss:.3f} | Train Accuracy: {train_accuracy*100:.2f}%')\n",
    "                    print(f'Eval Loss: {eval_loss:.3f} | Eval Accuracy: {eval_accuracy*100:.2f}%')\n",
    "                    print('-'*10)\n",
    "                    if epoch in [4, 9, 14, 19]:\n",
    "                        torch.save(reading_direction_model.state_dict(), f'./models/r_d_{char_embedding_dim}_{char_hidden_dim}_{weight}_{learn_rate}_{epoch+1}.pt')\n",
    "                        print(f'./models/r_d_{char_embedding_dim}_{char_hidden_dim}_{weight}_{learn_rate}_{epoch+1}.pt saved')\n",
    "                        print('-'*10)\n",
    "                with open(f'./models/r_d_{char_embedding_dim}_{char_hidden_dim}_{weight}_{learn_rate}.pkl', 'wb') as f:\n",
    "                    pickle.dump([train_directional_model_loss_history, val_directional_model_loss_history, train_directional_model_accuracy_history, val_directional_model_accuracy_history], f)\n",
    "                print(f'./models/r_d_{char_embedding_dim}_{char_hidden_dim}_{weight}_{learn_rate}.pkl saved')\n",
    "                # plot loss and accuracy history\n",
    "                print(\"Plotting loss and accuracy history for char_embedding_dim={}, char_hidden_dim={}, weight={}, learn_rate={}\".format(char_embedding_dim, char_hidden_dim, weight, learn_rate))\n",
    "                plt.figure(figsize=(12, 4))\n",
    "                plt.subplot(1, 2, 1)\n",
    "                plt.plot(train_directional_model_loss_history, label='train')\n",
    "                plt.plot(val_directional_model_loss_history, label='val')\n",
    "                plt.xlabel('Epoch')\n",
    "                plt.ylabel('Loss')\n",
    "                plt.legend()\n",
    "                plt.subplot(1, 2, 2)\n",
    "                plt.plot(train_directional_model_accuracy_history, label='train')\n",
    "                plt.plot(val_directional_model_accuracy_history, label='val')\n",
    "                plt.xlabel('Epoch')\n",
    "                plt.ylabel('Accuracy')\n",
    "                plt.legend()\n",
    "                plt.show()\n",
    "\n",
    "\n",
    "\n"
   ]
  },
  {
   "cell_type": "markdown",
   "metadata": {},
   "source": [
    "Reading-Direction plot grid search loss and acc"
   ]
  },
  {
   "cell_type": "code",
   "execution_count": 35,
   "metadata": {},
   "outputs": [],
   "source": [
    "# # constants for the model\n",
    "# num_labels = len(label_to_id)\n",
    "# char_vocab_size = alephbert_tokenizer.vocab_size\n",
    "\n",
    "# # Do grid search on the following hyperparameters\n",
    "# word_and_char_embedding_dim = [(16,32), (32,64), (64, 128)]\n",
    "# char_hidden_dims = [512, 1024]\n",
    "# learning_rate = [0.001, 0.0001]\n",
    "# num_epochs = 20\n",
    "# weights_for_no_nikud = [1, 0.5]\n",
    "\n",
    "# # Adjust the number of subplots based on all hyperparameter combinations\n",
    "# total_rows = len(word_and_char_embedding_dim) * len(weights_for_no_nikud) * len(learning_rate)\n",
    "# total_cols = len(char_hidden_dims)\n",
    "\n",
    "# fig, axs = plt.subplots(total_rows, total_cols, figsize=(20, 20))\n",
    "\n",
    "# # Use a counter to keep track of the current row for plotting\n",
    "# current_row = 0\n",
    "\n",
    "# for (word_hidden_dim, char_embedding_dim) in word_and_char_embedding_dim:\n",
    "#     for weight in weights_for_no_nikud:\n",
    "#         for learn_rate in learning_rate:\n",
    "#             for j, char_hidden_dim in enumerate(char_hidden_dims):\n",
    "#                 file_path = f'./models/r_d_{char_embedding_dim}_{char_hidden_dim}_{weight}_{learn_rate}.pkl'\n",
    "#                 if os.path.exists(file_path):\n",
    "#                     with open(file_path, 'rb') as f:\n",
    "#                         train_loss_history, val_loss_history = pickle.load(f)\n",
    "#                         axs[current_row, j].plot(train_loss_history, label=f'train')\n",
    "#                         axs[current_row, j].plot(val_loss_history, label=f'val')\n",
    "#                         axs[current_row, j].set_title(f'word_hidden_dim={word_hidden_dim}, char_embedding_dim={char_embedding_dim}, char_hidden_dim={char_hidden_dim}, weight={weight}, lr={learn_rate}')\n",
    "#                         axs[current_row, j].legend()\n",
    "#             # Increment the row counter after plotting for each char_hidden_dim\n",
    "#             current_row += 1\n",
    "\n",
    "# plt.tight_layout()\n",
    "# plt.show()\n"
   ]
  },
  {
   "cell_type": "markdown",
   "metadata": {},
   "source": [
    "Full sentence model greed search hyperparameters"
   ]
  },
  {
   "cell_type": "code",
   "execution_count": 36,
   "metadata": {},
   "outputs": [
    {
     "name": "stdout",
     "output_type": "stream",
     "text": [
      "./models/f_s_32_512_1_0.001.pkl exists\n",
      "./models/f_s_32_512_1_0.0001.pkl exists\n",
      "./models/f_s_32_512_0.5_0.001.pkl exists\n",
      "./models/f_s_32_512_0.5_0.0001.pkl exists\n",
      "./models/f_s_32_1024_1_0.001.pkl exists\n",
      "./models/f_s_32_1024_1_0.0001.pkl exists\n",
      "./models/f_s_32_1024_0.5_0.001.pkl exists\n",
      "./models/f_s_32_1024_0.5_0.0001.pkl exists\n",
      "./models/f_s_64_512_1_0.001.pkl exists\n",
      "./models/f_s_64_512_1_0.0001.pkl exists\n",
      "./models/f_s_64_512_0.5_0.001.pkl exists\n",
      "./models/f_s_64_512_0.5_0.0001.pkl exists\n",
      "./models/f_s_64_1024_1_0.001.pkl exists\n",
      "./models/f_s_64_1024_1_0.0001.pkl exists\n",
      "./models/f_s_64_1024_0.5_0.001.pkl exists\n",
      "./models/f_s_64_1024_0.5_0.0001.pkl exists\n",
      "./models/f_s_128_512_1_0.001.pkl exists\n",
      "./models/f_s_128_512_1_0.0001.pkl exists\n",
      "./models/f_s_128_512_0.5_0.001.pkl exists\n",
      "./models/f_s_128_512_0.5_0.0001.pkl exists\n",
      "./models/f_s_128_1024_1_0.001.pkl exists\n",
      "./models/f_s_128_1024_1_0.0001.pkl exists\n",
      "./models/f_s_128_1024_0.5_0.001.pkl exists\n",
      "./models/f_s_128_1024_0.5_0.0001.pkl exists\n"
     ]
    }
   ],
   "source": [
    "# constansts for the model\n",
    "num_labels = len(label_to_id)\n",
    "char_vocab_size = alephbert_tokenizer.vocab_size\n",
    "\n",
    "# Do grid search on the following hyperparameters\n",
    "word_and_char_embedding_dim = [(16,32), (32,64), (64, 128)]\n",
    "char_hidden_dims = [512, 1024]\n",
    "learning_rate = [0.001, 0.0001]\n",
    "weights_for_no_nikud = [1, 0.5]\n",
    "num_epochs = 20\n",
    "\n",
    "# TODO: change word_hidden_dim to word_embedding_dim\n",
    "for word_hidden_dim, char_embedding_dim in word_and_char_embedding_dim:\n",
    "    for char_hidden_dim in char_hidden_dims:\n",
    "        for weight in weights_for_no_nikud:\n",
    "            for learn_rate in learning_rate:\n",
    "                if os.path.exists(f'./models/f_s_{char_embedding_dim}_{char_hidden_dim}_{weight}_{learn_rate}.pkl'):\n",
    "                    print(f'./models/f_s_{char_embedding_dim}_{char_hidden_dim}_{weight}_{learn_rate}.pkl exists')\n",
    "                    continue\n",
    "                print(\"Training model for char_embedding_dim={}, char_hidden_dim={}, weight={}, learn_rate={}\".format(char_embedding_dim, char_hidden_dim, weight, learn_rate))\n",
    "                label_weights = set_no_nikud_weights(weight)\n",
    "                weights = torch.tensor(list(label_weights.values())).to(device)\n",
    "                # Create the model\n",
    "                \n",
    "                full_sentence_model = FullSentenceModel(char_vocab_size, num_labels, char_embedding_dim=char_embedding_dim, word_hidden_dim=word_hidden_dim, char_hidden_dim=char_hidden_dim).to(device)\n",
    "                criterion = nn.CrossEntropyLoss(ignore_index=len(label_to_id), weight=weights).to(device)\n",
    "                optimizer = optim.Adam(full_sentence_model.parameters(), lr=learn_rate)\n",
    "                train_full_sentence_model_loss_history = []\n",
    "                val_full_sentence_model_loss_history = []\n",
    "                train_full_sentence_model_accuracy_history = []\n",
    "                val_full_sentence_model_accuracy_history = []\n",
    "                for epoch in range(num_epochs):\n",
    "                    train_loss, train_accuracy = train_directional_model(full_sentence_model, train_loader, optimizer, criterion)\n",
    "                    eval_loss, eval_accuracy = evaluate_directional_model(full_sentence_model, val_loader, criterion)\n",
    "                    train_full_sentence_model_loss_history.append(train_loss)\n",
    "                    val_full_sentence_model_loss_history.append(eval_loss)\n",
    "                    train_full_sentence_model_accuracy_history.append(train_accuracy)\n",
    "                    val_full_sentence_model_accuracy_history.append(eval_accuracy)\n",
    "                    print(f'Epoch: {epoch+1}, for {char_embedding_dim}_{char_hidden_dim}_{weight}_{learn_rate}')\n",
    "                    print(f'Train Loss: {train_loss:.3f} | Train Accuracy: {train_accuracy*100:.2f}%')\n",
    "                    print(f'Eval Loss: {eval_loss:.3f} | Eval Accuracy: {eval_accuracy*100:.2f}%')\n",
    "                    print('-'*10)\n",
    "                    if epoch in [4, 9, 14, 19]:\n",
    "                        torch.save(full_sentence_model.state_dict(), f'./models/f_s_{char_embedding_dim}_{char_hidden_dim}_{weight}_{learn_rate}_{epoch+1}.pt')\n",
    "                        print(f'./models/f_s_{char_embedding_dim}_{char_hidden_dim}_{weight}_{learn_rate}_{epoch+1}.pt saved')\n",
    "                        print('-'*10)\n",
    "                with open(f'./models/f_s_{char_embedding_dim}_{char_hidden_dim}_{weight}_{learn_rate}.pkl', 'wb') as f:\n",
    "                    pickle.dump([train_full_sentence_model_loss_history, val_full_sentence_model_loss_history, train_full_sentence_model_accuracy_history, val_full_sentence_model_accuracy_history], f)\n",
    "                print(f'./models/f_s_{char_embedding_dim}_{char_hidden_dim}_{weight}_{learn_rate}.pkl saved')\n",
    "                # plot loss and accuracy history\n",
    "                print(\"Plotting loss and accuracy history for char_embedding_dim={}, char_hidden_dim={}, weight={}, learn_rate={}\".format(char_embedding_dim, char_hidden_dim, weight, learn_rate))\n",
    "                plt.figure(figsize=(12, 4))\n",
    "                plt.subplot(1, 2, 1)\n",
    "                plt.plot(train_full_sentence_model_loss_history, label='train')\n",
    "                plt.plot(val_full_sentence_model_loss_history, label='val')\n",
    "                plt.xlabel('Epoch')\n",
    "                plt.ylabel('Loss')\n",
    "                plt.legend()\n",
    "                plt.subplot(1, 2, 2)\n",
    "                plt.plot(train_full_sentence_model_accuracy_history, label='train')\n",
    "                plt.plot(val_full_sentence_model_accuracy_history, label='val')\n",
    "                plt.xlabel('Epoch')\n",
    "                plt.ylabel('Accuracy')\n",
    "                plt.legend()\n",
    "                plt.show()\n",
    "\n",
    "\n",
    "\n",
    "\n",
    "\n",
    "\n"
   ]
  },
  {
   "cell_type": "markdown",
   "metadata": {},
   "source": [
    "# load all the FullSentenceModels loss and accuracy history for all the models and plot them together for comparison"
   ]
  },
  {
   "cell_type": "code",
   "execution_count": 40,
   "metadata": {},
   "outputs": [
    {
     "name": "stdout",
     "output_type": "stream",
     "text": [
      "./models/f_s_32_512_1_0.001.pkl loaded\n",
      "----------\n",
      "./models/f_s_32_512_1_0.0001.pkl loaded\n",
      "----------\n",
      "./models/f_s_32_512_0.5_0.001.pkl loaded\n",
      "----------\n",
      "./models/f_s_32_512_0.5_0.0001.pkl loaded\n",
      "----------\n",
      "./models/f_s_32_1024_1_0.001.pkl loaded\n",
      "----------\n",
      "./models/f_s_32_1024_1_0.0001.pkl loaded\n",
      "----------\n",
      "./models/f_s_32_1024_0.5_0.001.pkl loaded\n",
      "----------\n",
      "./models/f_s_32_1024_0.5_0.0001.pkl loaded\n",
      "----------\n",
      "./models/f_s_64_512_1_0.001.pkl loaded\n",
      "----------\n",
      "./models/f_s_64_512_1_0.0001.pkl loaded\n",
      "----------\n",
      "./models/f_s_64_512_0.5_0.001.pkl loaded\n",
      "----------\n",
      "./models/f_s_64_512_0.5_0.0001.pkl loaded\n",
      "----------\n",
      "./models/f_s_64_1024_1_0.001.pkl loaded\n",
      "----------\n",
      "./models/f_s_64_1024_1_0.0001.pkl loaded\n",
      "----------\n",
      "./models/f_s_64_1024_0.5_0.001.pkl loaded\n",
      "----------\n",
      "./models/f_s_64_1024_0.5_0.0001.pkl loaded\n",
      "----------\n",
      "./models/f_s_128_512_1_0.001.pkl loaded\n",
      "----------\n",
      "./models/f_s_128_512_1_0.0001.pkl loaded\n",
      "----------\n",
      "./models/f_s_128_512_0.5_0.001.pkl loaded\n",
      "----------\n",
      "./models/f_s_128_512_0.5_0.0001.pkl loaded\n",
      "----------\n",
      "./models/f_s_128_1024_1_0.001.pkl loaded\n",
      "----------\n",
      "./models/f_s_128_1024_1_0.0001.pkl loaded\n",
      "----------\n",
      "./models/f_s_128_1024_0.5_0.001.pkl loaded\n",
      "----------\n",
      "./models/f_s_128_1024_0.5_0.0001.pkl loaded\n",
      "----------\n"
     ]
    },
    {
     "data": {
      "image/png": "[encoded data removed]",
      "text/plain": [
       "<Figure size 1200x400 with 2 Axes>"
      ]
     },
     "metadata": {},
     "output_type": "display_data"
    },
    {
     "name": "stdout",
     "output_type": "stream",
     "text": [
      "Checking ./models/f_s_32_512_1_0.001.pkl\n",
      "Current params: (32, 512, 1, 0.001)\tbest local val accuracy: 0.9215 at epoch 19\n",
      "----------\n",
      "Checking ./models/f_s_32_512_1_0.0001.pkl\n",
      "Current params: (32, 512, 1, 0.0001)\tbest local val accuracy: 0.8608 at epoch 20\n",
      "----------\n",
      "Checking ./models/f_s_32_512_0.5_0.001.pkl\n",
      "Current params: (32, 512, 0.5, 0.001)\tbest local val accuracy: 0.9212 at epoch 20\n",
      "----------\n",
      "Checking ./models/f_s_32_512_0.5_0.0001.pkl\n",
      "Current params: (32, 512, 0.5, 0.0001)\tbest local val accuracy: 0.8711 at epoch 20\n",
      "----------\n",
      "Checking ./models/f_s_32_1024_1_0.001.pkl\n",
      "Current params: (32, 1024, 1, 0.001)\tbest local val accuracy: 0.9211 at epoch 16\n",
      "----------\n",
      "Checking ./models/f_s_32_1024_1_0.0001.pkl\n",
      "Current params: (32, 1024, 1, 0.0001)\tbest local val accuracy: 0.8838 at epoch 19\n",
      "----------\n",
      "Checking ./models/f_s_32_1024_0.5_0.001.pkl\n",
      "Current params: (32, 1024, 0.5, 0.001)\tbest local val accuracy: 0.9239 at epoch 20\n",
      "----------\n",
      "Checking ./models/f_s_32_1024_0.5_0.0001.pkl\n",
      "Current params: (32, 1024, 0.5, 0.0001)\tbest local val accuracy: 0.8933 at epoch 18\n",
      "----------\n",
      "Checking ./models/f_s_64_512_1_0.001.pkl\n",
      "Current params: (64, 512, 1, 0.001)\tbest local val accuracy: 0.923 at epoch 16\n",
      "----------\n",
      "Checking ./models/f_s_64_512_1_0.0001.pkl\n",
      "Current params: (64, 512, 1, 0.0001)\tbest local val accuracy: 0.8681 at epoch 20\n",
      "----------\n",
      "Checking ./models/f_s_64_512_0.5_0.001.pkl\n",
      "Current params: (64, 512, 0.5, 0.001)\tbest local val accuracy: 0.9226 at epoch 11\n",
      "----------\n",
      "Checking ./models/f_s_64_512_0.5_0.0001.pkl\n",
      "Current params: (64, 512, 0.5, 0.0001)\tbest local val accuracy: 0.8699 at epoch 19\n",
      "----------\n",
      "Checking ./models/f_s_64_1024_1_0.001.pkl\n",
      "Current params: (64, 1024, 1, 0.001)\tbest local val accuracy: 0.9197 at epoch 11\n",
      "----------\n",
      "Checking ./models/f_s_64_1024_1_0.0001.pkl\n",
      "Current params: (64, 1024, 1, 0.0001)\tbest local val accuracy: 0.895 at epoch 19\n",
      "----------\n",
      "Checking ./models/f_s_64_1024_0.5_0.001.pkl\n",
      "Current params: (64, 1024, 0.5, 0.001)\tbest local val accuracy: 0.9221 at epoch 20\n",
      "----------\n",
      "Checking ./models/f_s_64_1024_0.5_0.0001.pkl\n",
      "Current params: (64, 1024, 0.5, 0.0001)\tbest local val accuracy: 0.8961 at epoch 18\n",
      "----------\n",
      "Checking ./models/f_s_128_512_1_0.001.pkl\n",
      "Current params: (128, 512, 1, 0.001)\tbest local val accuracy: 0.9249 at epoch 16\n",
      "----------\n",
      "Checking ./models/f_s_128_512_1_0.0001.pkl\n",
      "Current params: (128, 512, 1, 0.0001)\tbest local val accuracy: 0.8742 at epoch 20\n",
      "----------\n",
      "Checking ./models/f_s_128_512_0.5_0.001.pkl\n",
      "Current params: (128, 512, 0.5, 0.001)\tbest local val accuracy: 0.9233 at epoch 20\n",
      "----------\n",
      "Checking ./models/f_s_128_512_0.5_0.0001.pkl\n",
      "Current params: (128, 512, 0.5, 0.0001)\tbest local val accuracy: 0.8755 at epoch 20\n",
      "----------\n",
      "Checking ./models/f_s_128_1024_1_0.001.pkl\n",
      "Current params: (128, 1024, 1, 0.001)\tbest local val accuracy: 0.9244 at epoch 20\n",
      "----------\n",
      "Checking ./models/f_s_128_1024_1_0.0001.pkl\n",
      "Current params: (128, 1024, 1, 0.0001)\tbest local val accuracy: 0.8928 at epoch 19\n",
      "----------\n",
      "Checking ./models/f_s_128_1024_0.5_0.001.pkl\n",
      "Current params: (128, 1024, 0.5, 0.001)\tbest local val accuracy: 0.9216 at epoch 15\n",
      "----------\n",
      "Checking ./models/f_s_128_1024_0.5_0.0001.pkl\n",
      "Current params: (128, 1024, 0.5, 0.0001)\tbest local val accuracy: 0.8976 at epoch 18\n",
      "----------\n",
      "Best full sentence model: (128, 512, 1, 0.001)\n",
      "Best full sentence model epoch: 16\n",
      "Best full sentence model val accuracy: 0.9249386542683714\n",
      "----------\n",
      "./models/r_d_32_512_1_0.001.pkl loaded\n",
      "----------\n",
      "./models/r_d_32_512_1_0.0001.pkl loaded\n",
      "----------\n",
      "./models/r_d_32_512_0.5_0.001.pkl loaded\n",
      "----------\n",
      "./models/r_d_32_512_0.5_0.0001.pkl loaded\n",
      "----------\n"
     ]
    },
    {
     "ename": "ValueError",
     "evalue": "not enough values to unpack (expected 4, got 2)",
     "output_type": "error",
     "traceback": [
      "\u001b[1;31m---------------------------------------------------------------------------\u001b[0m",
      "\u001b[1;31mValueError\u001b[0m                                Traceback (most recent call last)",
      "\u001b[1;32mc:\\Users\\baruc\\PycharmProjects\\Punctuation_Restoration\\PunctuationRestoration_DualModel_LSTM.ipynb Cell 70\u001b[0m line \u001b[0;36m8\n\u001b[0;32m     <a href='vscode-notebook-cell:/c%3A/Users/baruc/PycharmProjects/Punctuation_Restoration/PunctuationRestoration_DualModel_LSTM.ipynb#Y126sZmlsZQ%3D%3D?line=79'>80</a>\u001b[0m \u001b[39mprint\u001b[39m(\u001b[39m'\u001b[39m\u001b[39m-\u001b[39m\u001b[39m'\u001b[39m\u001b[39m*\u001b[39m\u001b[39m10\u001b[39m)\n\u001b[0;32m     <a href='vscode-notebook-cell:/c%3A/Users/baruc/PycharmProjects/Punctuation_Restoration/PunctuationRestoration_DualModel_LSTM.ipynb#Y126sZmlsZQ%3D%3D?line=81'>82</a>\u001b[0m path_template \u001b[39m=\u001b[39m \u001b[39m'\u001b[39m\u001b[39m./models/r_d_\u001b[39m\u001b[39m{}\u001b[39;00m\u001b[39m_\u001b[39m\u001b[39m{}\u001b[39;00m\u001b[39m_\u001b[39m\u001b[39m{}\u001b[39;00m\u001b[39m_\u001b[39m\u001b[39m{}\u001b[39;00m\u001b[39m.pkl\u001b[39m\u001b[39m'\u001b[39m\n\u001b[1;32m---> <a href='vscode-notebook-cell:/c%3A/Users/baruc/PycharmProjects/Punctuation_Restoration/PunctuationRestoration_DualModel_LSTM.ipynb#Y126sZmlsZQ%3D%3D?line=83'>84</a>\u001b[0m train_loss, val_loss, train_accuracy, val_accuracy \u001b[39m=\u001b[39m load_history(model_parameters, path_template, skip\u001b[39m=\u001b[39;49m\u001b[39mTrue\u001b[39;49;00m)\n\u001b[0;32m     <a href='vscode-notebook-cell:/c%3A/Users/baruc/PycharmProjects/Punctuation_Restoration/PunctuationRestoration_DualModel_LSTM.ipynb#Y126sZmlsZQ%3D%3D?line=84'>85</a>\u001b[0m plot_loss_and_accuracy(train_loss, val_loss, train_accuracy, val_accuracy, [\u001b[39mf\u001b[39m\u001b[39m'\u001b[39m\u001b[39m{\u001b[39;00mp[\u001b[39m0\u001b[39m]\u001b[39m}\u001b[39;00m\u001b[39m_\u001b[39m\u001b[39m{\u001b[39;00mp[\u001b[39m1\u001b[39m]\u001b[39m}\u001b[39;00m\u001b[39m_\u001b[39m\u001b[39m{\u001b[39;00mp[\u001b[39m2\u001b[39m]\u001b[39m}\u001b[39;00m\u001b[39m_\u001b[39m\u001b[39m{\u001b[39;00mp[\u001b[39m3\u001b[39m]\u001b[39m}\u001b[39;00m\u001b[39m'\u001b[39m \u001b[39mfor\u001b[39;00m p \u001b[39min\u001b[39;00m model_parameters])\n\u001b[0;32m     <a href='vscode-notebook-cell:/c%3A/Users/baruc/PycharmProjects/Punctuation_Restoration/PunctuationRestoration_DualModel_LSTM.ipynb#Y126sZmlsZQ%3D%3D?line=85'>86</a>\u001b[0m best_model, best_epoch, best_val_accuracy \u001b[39m=\u001b[39m find_best_model(model_parameters, path_template)\n",
      "\u001b[1;32mc:\\Users\\baruc\\PycharmProjects\\Punctuation_Restoration\\PunctuationRestoration_DualModel_LSTM.ipynb Cell 70\u001b[0m line \u001b[0;36m1\n\u001b[0;32m     <a href='vscode-notebook-cell:/c%3A/Users/baruc/PycharmProjects/Punctuation_Restoration/PunctuationRestoration_DualModel_LSTM.ipynb#Y126sZmlsZQ%3D%3D?line=13'>14</a>\u001b[0m     train_accuracy, val_accuracy \u001b[39m=\u001b[39m \u001b[39m0\u001b[39m, \u001b[39m0\u001b[39m\n\u001b[0;32m     <a href='vscode-notebook-cell:/c%3A/Users/baruc/PycharmProjects/Punctuation_Restoration/PunctuationRestoration_DualModel_LSTM.ipynb#Y126sZmlsZQ%3D%3D?line=14'>15</a>\u001b[0m \u001b[39melse\u001b[39;00m:\n\u001b[1;32m---> <a href='vscode-notebook-cell:/c%3A/Users/baruc/PycharmProjects/Punctuation_Restoration/PunctuationRestoration_DualModel_LSTM.ipynb#Y126sZmlsZQ%3D%3D?line=15'>16</a>\u001b[0m     train_loss, val_loss, train_accuracy, val_accuracy \u001b[39m=\u001b[39m pickle\u001b[39m.\u001b[39mload(f)\n\u001b[0;32m     <a href='vscode-notebook-cell:/c%3A/Users/baruc/PycharmProjects/Punctuation_Restoration/PunctuationRestoration_DualModel_LSTM.ipynb#Y126sZmlsZQ%3D%3D?line=16'>17</a>\u001b[0m train_loss_history\u001b[39m.\u001b[39mappend(train_loss)\n\u001b[0;32m     <a href='vscode-notebook-cell:/c%3A/Users/baruc/PycharmProjects/Punctuation_Restoration/PunctuationRestoration_DualModel_LSTM.ipynb#Y126sZmlsZQ%3D%3D?line=17'>18</a>\u001b[0m val_loss_history\u001b[39m.\u001b[39mappend(val_loss)\n",
      "\u001b[1;31mValueError\u001b[0m: not enough values to unpack (expected 4, got 2)"
     ]
    }
   ],
   "source": [
    "# same as above block but GPT split to methods for readability\n",
    "\n",
    "\n",
    "def load_history(model_parameters, path_template, skip=False):\n",
    "    train_loss_history, val_loss_history, train_accuracy_history, val_accuracy_history = [], [], [], []\n",
    "    for params in model_parameters:\n",
    "        index = 0\n",
    "        file_path = path_template.format(*params)\n",
    "        if os.path.exists(file_path):\n",
    "            with open(file_path, 'rb') as f:\n",
    "                if skip and index < -8:\n",
    "                    check = pickle.load(f)\n",
    "                    train_loss, val_loss = check[0], check[1]\n",
    "                    train_accuracy, val_accuracy = 0, 0\n",
    "                else:\n",
    "                    train_loss, val_loss, train_accuracy, val_accuracy = pickle.load(f)\n",
    "                train_loss_history.append(train_loss)\n",
    "                val_loss_history.append(val_loss)\n",
    "                train_accuracy_history.append(train_accuracy)\n",
    "                val_accuracy_history.append(val_accuracy)\n",
    "                print(f'{file_path} loaded')\n",
    "                index += 1\n",
    "        else:\n",
    "            print(f'{file_path} does not exist')\n",
    "        print('-'*10)\n",
    "    return train_loss_history, val_loss_history, train_accuracy_history, val_accuracy_history\n",
    "\n",
    "def plot_loss_and_accuracy(train_loss, val_loss, train_accuracy, val_accuracy, labels):\n",
    "    plt.figure(figsize=(12, 4))\n",
    "    plt.subplot(1, 2, 1)\n",
    "    for t_loss, v_loss, label in zip(train_loss, val_loss, labels):\n",
    "        plt.plot(t_loss, label=f'train_{label}')\n",
    "        plt.plot(v_loss, label=f'val_{label}')\n",
    "    plt.xlabel('Epoch')\n",
    "    plt.ylabel('Loss')\n",
    "    plt.legend()\n",
    "    plt.subplot(1, 2, 2)\n",
    "    for t_acc, v_acc, label in zip(train_accuracy, val_accuracy, labels):\n",
    "        plt.plot(t_acc, label=f'train_{label}')\n",
    "        plt.plot(v_acc, label=f'val_{label}')\n",
    "    plt.xlabel('Epoch')\n",
    "    plt.ylabel('Accuracy')\n",
    "    plt.legend()\n",
    "    plt.show()\n",
    "\n",
    "\n",
    "def find_best_model(model_parameters, path_template):\n",
    "    best_model_params, best_epoch, best_val_accuracy = None, None, 0\n",
    "    for params in model_parameters:\n",
    "        file_path = path_template.format(*params)\n",
    "        print(f'Checking {file_path}')\n",
    "        if os.path.exists(file_path):\n",
    "            with open(file_path, 'rb') as f:\n",
    "                _, _, _, val_accuracy = pickle.load(f)\n",
    "                best_local_val_accuracy = max(val_accuracy)\n",
    "                index = val_accuracy.index(best_local_val_accuracy)\n",
    "                for acc in val_accuracy:\n",
    "                    if acc > best_val_accuracy:\n",
    "                        best_val_accuracy = acc\n",
    "                        best_epoch = val_accuracy.index(acc) + 1\n",
    "                        best_model_params = params\n",
    "            print(f'Current params: {params}\\tbest local val accuracy: {best_local_val_accuracy.round(4)} at epoch {index + 1}')\n",
    "            print('-'*10)\n",
    "        else:\n",
    "            print(f'{file_path} does not exist')\n",
    "            print('-'*10)\n",
    "    return best_model_params, best_epoch, best_val_accuracy\n",
    "\n",
    "\n",
    "model_parameters = [(c, ch, wt, lr) for w, c in word_and_char_embedding_dim for ch in char_hidden_dims for wt in weights_for_no_nikud for lr in learning_rate]\n",
    "path_template = './models/f_s_{}_{}_{}_{}.pkl'\n",
    "\n",
    "train_loss, val_loss, train_accuracy, val_accuracy = load_history(model_parameters, path_template)\n",
    "plot_loss_and_accuracy(train_loss, val_loss, train_accuracy, val_accuracy, [f'{p[0]}_{p[1]}_{p[2]}_{p[3]}' for p in model_parameters])\n",
    "best_model, best_epoch, best_val_accuracy = find_best_model(model_parameters, path_template)\n",
    "\n",
    "print(f'Best full sentence model: {best_model}')\n",
    "print(f'Best full sentence model epoch: {best_epoch}')\n",
    "print(f'Best full sentence model val accuracy: {best_val_accuracy}')\n",
    "print('-'*10)\n",
    "\n",
    "path_template = './models/r_d_{}_{}_{}_{}.pkl'\n",
    "\n",
    "train_loss, val_loss, train_accuracy, val_accuracy = load_history(model_parameters, path_template, skip=True)\n",
    "plot_loss_and_accuracy(train_loss, val_loss, train_accuracy, val_accuracy, [f'{p[0]}_{p[1]}_{p[2]}_{p[3]}' for p in model_parameters])\n",
    "best_model, best_epoch, best_val_accuracy = find_best_model(model_parameters, path_template)\n",
    "\n",
    "print(f'Best full sentence model: {best_model}')\n",
    "print(f'Best full sentence model epoch: {best_epoch}')\n",
    "print(f'Best full sentence model val accuracy: {best_val_accuracy}')\n",
    "print('-'*10)\n"
   ]
  },
  {
   "cell_type": "markdown",
   "metadata": {},
   "source": [
    "# Models analysis functions"
   ]
  },
  {
   "cell_type": "code",
   "execution_count": null,
   "metadata": {},
   "outputs": [],
   "source": [
    "def compute_character_accuracy(actual_labels, predictions):\n",
    "    \"\"\"\n",
    "    Compute the character-level accuracy.\n",
    "    \"\"\"\n",
    "    correct = sum([1 for p, a in zip(predictions, actual_labels) if p == a])\n",
    "    total = len(predictions)\n",
    "    return correct / total\n",
    "\n",
    "def compute_character_accuracy_without_no_nikud(actual_labels, predictions, no_nikud_token='<no_nikud>'):\n",
    "    \"\"\"\n",
    "    Compute the character-level accuracy without counting the no_nikud_token.\n",
    "    \"\"\"\n",
    "    correct = sum([1 for p, a in zip(predictions, actual_labels) if p == a and a != no_nikud_token])\n",
    "    #print(f'actual_labels: {actual_labels}')\n",
    "    total = len([a for a in actual_labels if a != no_nikud_token])\n",
    "    return correct / total\n",
    "\n",
    "\n",
    "def compute_word_accuracy(actual_labels, predictions, word_lengths):\n",
    "    \"\"\"\n",
    "    Compute the word-level accuracy.\n",
    "    \"\"\"\n",
    "    current_index = 0\n",
    "    correct_words = 0\n",
    "    for word_length in word_lengths:\n",
    "        word_char_predictions = predictions[current_index : current_index + word_length]\n",
    "        word_labels = actual_labels[current_index : current_index + word_length]\n",
    "        comparison = all([p == a for p, a in zip(word_char_predictions, word_labels)])\n",
    "        if comparison:\n",
    "            correct_words += 1\n",
    "        current_index += word_length\n",
    "\n",
    "    return correct_words / len(word_lengths)\n",
    "\n",
    "def compute_word_accuracy_without_no_nikud(actual_labels, predictions, word_lengths, no_nikud_token='<no_nikud>'):\n",
    "    \"\"\"\n",
    "    Compute the word-level accuracy without counting the no_nikud_token.\n",
    "    \"\"\"\n",
    "    current_index = 0\n",
    "    correct_words = 0\n",
    "    for word_length in word_lengths:\n",
    "        word_char_predictions = predictions[current_index : current_index + word_length]\n",
    "        word_labels = actual_labels[current_index : current_index + word_length]\n",
    "        comparison = all([p == a for p, a in zip(word_char_predictions, word_labels) if a != no_nikud_token])\n",
    "        if comparison:\n",
    "            correct_words += 1\n",
    "        current_index += word_length\n",
    "\n",
    "    return correct_words / len(word_lengths)"
   ]
  },
  {
   "cell_type": "code",
   "execution_count": null,
   "metadata": {},
   "outputs": [],
   "source": [
    "def plot_confusion_matrix(actuals, predictions, labels):\n",
    "    \"\"\"\n",
    "    Plot a confusion matrix for the model's predictions.\n",
    "    \"\"\"\n",
    "    cm = confusion_matrix(actuals, predictions, labels=labels)\n",
    "    cm = cm.astype('float') / cm.sum(axis=1)[:, np.newaxis]\n",
    "    epsilon = 1e-8\n",
    "    cm = cm.astype('float') / (cm.sum(axis=1)[:, np.newaxis] + epsilon)\n",
    "    cm[np.isnan(cm)] = 0\n",
    "    plt.figure(figsize=(15, 15))\n",
    "    sns.heatmap(cm, annot=True, cmap='Blues', xticklabels=labels, yticklabels=labels)#, fmt='.2f')\n",
    "    plt.ylabel(\"True label\")\n",
    "    plt.xlabel(\"Predicted label\")\n",
    "    plt.show()\n",
    "\n",
    "def convert_labels_to_names(actuals, predictions, label_to_id):\n",
    "    \"\"\"\n",
    "    Convert the labels to their names.\n",
    "    \"\"\"\n",
    "    nikud_dict = { 'ְ' : 'Sheva', 'ֱ' : 'Hataf Segol', 'ֲ' : 'Hataf Patah', 'ֳ' : 'Hataf Qamats', 'ִ' : 'Hiriq', 'ֵ' : 'Tseri', 'ֶ' : 'Segol', 'ַ' : 'Patah', 'ָ' : 'Qamats', 'ֹ' : 'Holam', 'ֻ' : 'Qubuts', 'ּ' : 'Dagesh', 'ֽ' : 'Siluk', '־' : 'Maqaf', 'ֿ' : 'Rafe', 'ׁ' : 'Shin Dot', 'ׂ' : 'Sin Dot', 'ׄ' : 'Upper Dot', 'ׅ' : 'Lower Dot', 'ׇ' : 'Point Meteg', 'װ' : 'Yiddish Double Vav', 'ױ' : 'Yiddish Vav Yod', 'ײ' : 'Yiddish Double Yod', '׳' : 'Geresh', '״' : 'Gershayim'}\n",
    "    labels = list(label_to_id.keys())\n",
    "    label_names = {'<no_nikud>': 'No Nikud'}\n",
    "    for label in labels:\n",
    "        if label == '<no_nikud>':\n",
    "            continue\n",
    "        label_name = []\n",
    "        for char in label:\n",
    "            label_name.append(nikud_dict[char])\n",
    "        label_names[label] = ' '.join(label_name)\n",
    "    actuals = [label_names[label] for label in actuals]\n",
    "    predictions = [label_names[label] for label in predictions]\n",
    "    return actuals, predictions, label_names"
   ]
  },
  {
   "cell_type": "markdown",
   "metadata": {},
   "source": [
    "## Analysis of Full Sentence Model"
   ]
  },
  {
   "cell_type": "code",
   "execution_count": null,
   "metadata": {},
   "outputs": [],
   "source": [
    "# get predictions for the test set\n",
    "actuals, predictions, word_lengths = predict_full_sentence_model(full_sentence_model, test_loader)\n",
    "# convert the actual labels and the predictions to lists\n",
    "actuals = [id_to_label[label.item()] for label in actuals]\n",
    "predictions = [id_to_label[label.item()] for label in predictions]\n",
    "# predictions, actual_labels, all_words = predict_full_sentence_model(model, test_loader)\n",
    "char_accuracy = compute_character_accuracy(actuals, predictions)\n",
    "char_accuracy_without_no_nikud = compute_character_accuracy_without_no_nikud(actuals, predictions)\n",
    "# word_boundaries = [batch[\"word_indices\"] for batch in test_loader]  # Assuming this is how word boundaries are stored.\n",
    "word_accuracy = compute_word_accuracy(actuals, predictions, word_lengths)\n",
    "word_accuracy_without_no_nikud = compute_word_accuracy_without_no_nikud(actuals, predictions, word_lengths)\n",
    "\n",
    "print(f\"Character-level accuracy: {char_accuracy:.2%}\")\n",
    "print(f\"Character-level accuracy without no-nikud: {char_accuracy_without_no_nikud:.2%}\")\n",
    "print(f\"Word-level accuracy: {word_accuracy:.2%}\")\n",
    "print(f\"Word-level accuracy without no-nikud: {word_accuracy_without_no_nikud:.2%}\")\n",
    "# convert the labels to names\n",
    "actuals, predictions, label_names = convert_labels_to_names(actuals, predictions, label_to_id)\n",
    "plot_confusion_matrix(actuals, predictions, list(label_names.values()))"
   ]
  },
  {
   "cell_type": "markdown",
   "metadata": {},
   "source": [
    "## Analysis of Reading Direction Model"
   ]
  },
  {
   "cell_type": "code",
   "execution_count": null,
   "metadata": {},
   "outputs": [],
   "source": [
    "# get predictions for the test set\n",
    "# actuals, predictions, word_lengths = predict_directional_model(reading_direction_model, test_loader)\n",
    "actuals, predictions, word_lengths = predict_directional_model(reading_direction_model, train_loader)\n",
    "# convert the actual labels and the predictions to lists\n",
    "actuals = [id_to_label[label.item()] for label in actuals]\n",
    "predictions = [id_to_label[label.item()] for label in predictions]\n",
    "# predictions, actual_labels, all_words = predict_full_sentence_model(model, test_loader)\n",
    "char_accuracy = compute_character_accuracy(actuals, predictions)\n",
    "char_accuracy_without_no_nikud = compute_character_accuracy_without_no_nikud(actuals, predictions)\n",
    "# word_boundaries = [batch[\"word_indices\"] for batch in test_loader]  # Assuming this is how word boundaries are stored.\n",
    "word_accuracy = compute_word_accuracy(actuals, predictions, word_lengths)\n",
    "word_accuracy_without_no_nikud = compute_word_accuracy_without_no_nikud(actuals, predictions, word_lengths)\n",
    "\n",
    "print(f\"Character-level accuracy: {char_accuracy:.2%}\")\n",
    "print(f\"Character-level accuracy without no-nikud: {char_accuracy_without_no_nikud:.2%}\")\n",
    "print(f\"Word-level accuracy: {word_accuracy:.2%}\")\n",
    "print(f\"Word-level accuracy without no-nikud: {word_accuracy_without_no_nikud:.2%}\")\n",
    "# convert the labels to names\n",
    "actuals, predictions, label_names = convert_labels_to_names(actuals, predictions, label_to_id)\n",
    "plot_confusion_matrix(actuals, predictions, list(label_names.values()))"
   ]
  },
  {
   "cell_type": "markdown",
   "metadata": {},
   "source": [
    "# Define the dual model class, it will be composed of two models.\n",
    "#### whenever there is a disagreement between the two models, the model will add nikud using the lookahead model"
   ]
  },
  {
   "cell_type": "code",
   "execution_count": null,
   "metadata": {},
   "outputs": [],
   "source": [
    "# # Define a class for the dual model\n",
    "# class DuelModel():\n",
    "#     def __init__(self, full_sentence_model, directional_model, tokenizer):\n",
    "#         # Initialize the dual model with the full sentence model and the directional model\n",
    "#         self.full_sentence_model = full_sentence_model\n",
    "#         self.directional_model = directional_model\n",
    "#         self.tokenizer = tokenizer\n",
    "    \n",
    "#     def predict_batch(self, batch):\n",
    "#         # Set both models to evaluation mode\n",
    "#         self.full_sentence_model.eval()\n",
    "#         self.directional_model.eval()\n",
    "#         # Initialize empty lists for the dual model predictions and the word lengths\n",
    "#         dual_model_predictions = []\n",
    "#         dual_model_predictions_words = []\n",
    "#         # Disable gradient calculation\n",
    "#         with torch.no_grad():\n",
    "#             # Move the input data to the device\n",
    "#             input_ids = batch['input_ids'].to(device)\n",
    "#             attention_mask = batch['attention_mask'].to(device)\n",
    "#             word_indices = batch['word_indices'].to(device)\n",
    "\n",
    "#             # Get the logits from both models\n",
    "#             full_sentence_logits = self.full_sentence_model.forward(input_ids, word_indices)\n",
    "#             directional_logits = self.directional_model.forward(input_ids, word_indices)\n",
    "\n",
    "#             # Get the predictions from both models\n",
    "#             full_sentence_predictions = torch.argmax(full_sentence_logits, dim=2)\n",
    "#             directional_predictions = torch.argmax(directional_logits, dim=2)\n",
    "#             # iterate over each prediction\n",
    "#             for i in range(len(full_sentence_predictions)):\n",
    "#                 current_prediction = []\n",
    "#                 current_prediction_words = []\n",
    "#                 # remove padding from the prediction\n",
    "#                 full_sentence_prediction = full_sentence_predictions[i][attention_mask[i] == 1]\n",
    "#                 directional_prediction = directional_predictions[i][attention_mask[i] == 1]\n",
    "\n",
    "#                 # for each token in the prediction, check if both models agree, if not - use the full sentence model prediction, otherwise change to 0\n",
    "#                 for j in range(len(full_sentence_prediction)):\n",
    "#                     if full_sentence_prediction[j] != directional_prediction[j]:\n",
    "#                         current_prediction.append(full_sentence_prediction[j].item())\n",
    "#                     else:\n",
    "#                         current_prediction.append(0)\n",
    "#                 dual_model_predictions.append(current_prediction)\n",
    "\n",
    "#                 # Get the word lengths for the current prediction\n",
    "#                 word_indices_of_current_prediction = word_indices[i][word_indices[i][:, 0] != -1]\n",
    "#                 word_indices_of_current_prediction = [word.tolist() for word in word_indices_of_current_prediction]\n",
    "#                 current_prediction_words = list(map(lambda x: x[1]-x[0]+1, word_indices_of_current_prediction))\n",
    "#                 dual_model_predictions_words.append(current_prediction_words)\n",
    "\n",
    "#         # Return the dual model predictions and the word lengths\n",
    "#         return dual_model_predictions, dual_model_predictions_words\n",
    "            \n",
    "\n",
    "# # Create an instance of the dual model\n",
    "# dual_model = DuelModel(full_sentence_model, reading_direction_model, alephbert_tokenizer)\n",
    "# # Get the first batch of test_loader which doesn't change between runs\n",
    "# batch = next(iter(test_loader))\n",
    "# # Get the dual model predictions and the word lengths for the batch\n",
    "# dual_model_predictions, dual_model_predictions_words = dual_model.predict_batch(batch)\n",
    "# # Check if the prediction lengths match the word lengths\n",
    "# for i, prediction in enumerate(dual_model_predictions):\n",
    "#     prediction_length = len(prediction)\n",
    "#     prediction_words_sum = sum(dual_model_predictions_words[i])\n",
    "#     if prediction_length != prediction_words_sum:\n",
    "#         print(f\"error in prediction {i}\")\n",
    "#     else:\n",
    "#         print(f\"prediction {i} is correct, here is some info:\")\n",
    "#         print(f\"prediction length: {prediction_length}\")\n",
    "#         print(f\"prediction words sum: {prediction_words_sum}\")\n",
    "#         print(f\"prediction: {prediction}\")\n",
    "#         print(f\"word lengths: {dual_model_predictions_words[i]}\")\n",
    "#         print(\"\")\n",
    "#         # print predictions next to the original nikud, check accuracy\n",
    "#         print(\"original nikud:\")\n",
    "#         og_nikud = batch['nikud'][i][batch['attention_mask'][i] == 1]\n",
    "#         print(og_nikud)\n",
    "#         print(\"prediction:\")\n",
    "#         pred_nikud = torch.tensor(prediction)\n",
    "#         print(pred_nikud)\n",
    "#         print(f\"og nikud length: {len(og_nikud)}, pred nikud length: {len(pred_nikud)}\")\n",
    "#         accuracy_duel = torch.sum(og_nikud == pred_nikud).item() / len(og_nikud)\n",
    "#         og_nikud_clean = og_nikud[og_nikud != 0]\n",
    "#         pred_nikud_clean = pred_nikud[og_nikud != 0]\n",
    "#         print(f\"og nikud clean length: {len(og_nikud_clean)}, pred nikud clean length: {len(pred_nikud_clean)}\")\n",
    "#         print(f\"og nikud clean: {og_nikud_clean}\")\n",
    "#         print(f\"pred nikud clean: {pred_nikud_clean}\")\n",
    "#         # og_nikud_clean = og_nikud_clean[og_nikud_clean != 0]\n",
    "#         # pred_nikud_clean = pred_nikud_clean[og_nikud_clean != 0]\n",
    "#         # print shapes for debugging\n",
    "#         print(f\"og nikud shape: {og_nikud.shape}, pred nikud shape: {pred_nikud.shape}\")\n",
    "#         print(f\"og nikud clean shape: {og_nikud_clean.shape}, pred nikud clean shape: {pred_nikud_clean.shape}\")\n",
    "        \n",
    "#         accuracy_duel_clean = torch.sum(og_nikud_clean == pred_nikud_clean).item() / (og_nikud_clean.shape[0] + 1e-8)\n",
    "#         print(f\"accuracy: {accuracy_duel}, accuracy without padding: {accuracy_duel_clean}\")\n",
    "\n"
   ]
  },
  {
   "cell_type": "code",
   "execution_count": null,
   "metadata": {},
   "outputs": [],
   "source": [
    "# class DuelModel():\n",
    "#     def __init__(self, full_sentence_model, directional_model):\n",
    "#         # Initialize the dual model with the full sentence model and the directional model\n",
    "#         self.full_sentence_model = full_sentence_model\n",
    "#         self.directional_model = directional_model\n",
    "    \n",
    "#     def predict_batch(self, batch):\n",
    "#         \"\"\"\n",
    "#         Predict the output using both models and combine their outputs.\n",
    "#         \"\"\"\n",
    "#         # Set both models to evaluation mode\n",
    "#         self.full_sentence_model.eval()\n",
    "#         self.directional_model.eval()\n",
    "        \n",
    "#         # Move the input data to the device\n",
    "#         input_ids = batch['input_ids'].to(device)\n",
    "#         attention_mask = batch['attention_mask'].to(device)\n",
    "#         word_indices = batch['word_indices'].to(device)\n",
    "        \n",
    "#         # Get the logits from both models\n",
    "#         with torch.no_grad():\n",
    "#             full_sentence_logits = self.full_sentence_model.forward(input_ids, word_indices)\n",
    "#             directional_logits = self.directional_model.forward(input_ids, word_indices)\n",
    "\n",
    "#         # Get the predictions from both models\n",
    "#         full_sentence_predictions = torch.argmax(full_sentence_logits, dim=2)\n",
    "#         directional_predictions = torch.argmax(directional_logits, dim=2)\n",
    "\n",
    "#         # Create a mask where predictions disagree\n",
    "#         disagreement_mask = full_sentence_predictions != directional_predictions\n",
    "        \n",
    "#         # Initialize the combined predictions with zeros (no nikud)\n",
    "#         combined_predictions = torch.zeros_like(directional_predictions)\n",
    "        \n",
    "#         # Use the full_sentence_model predictions where the two models disagree\n",
    "#         combined_predictions[disagreement_mask] = full_sentence_predictions[disagreement_mask]\n",
    "        \n",
    "#         # Only select predictions where attention_mask is 1 (i.e., discard padding tokens)\n",
    "#         combined_predictions = [combined_predictions[i][attention_mask[i] == 1].tolist() for i in range(combined_predictions.size(0))]\n",
    "        \n",
    "#         # Return the combined predictions\n",
    "#         return combined_predictions, full_sentence_predictions, directional_predictions\n",
    "\n",
    "# duel_model = DuelModel(full_sentence_model, reading_direction_model)\n",
    "\n",
    "# test_batch = next(iter(test_loader))\n",
    "# combined_predictions, full_sentence_predictions, directional_predictions = duel_model.predict_batch(test_batch)\n",
    "# print(\"Original nikud:\\n\", test_batch['nikud'].tolist()[0])\n",
    "# print(\"Full sentence model predictions:\\n\", full_sentence_predictions.tolist()[0])\n",
    "# print(\"Directional model predictions:\\n\", directional_predictions.tolist()[0])\n",
    "# print(\"Combined predictions:\\n\", combined_predictions[0])\n",
    "\n",
    "\n"
   ]
  },
  {
   "cell_type": "code",
   "execution_count": null,
   "metadata": {},
   "outputs": [],
   "source": [
    "class DuelModel():\n",
    "    def __init__(self, full_sentence_model, directional_model, tokenizer, label_to_id, id_to_label):\n",
    "        self.full_sentence_model = full_sentence_model\n",
    "        self.directional_model = directional_model\n",
    "        self.tokenizer = tokenizer\n",
    "        self.id_to_label = id_to_label\n",
    "        self.label_to_id = label_to_id\n",
    "    \n",
    "    def predict_batch(self, batch):\n",
    "        \"\"\"\n",
    "        Predict the output using both models and combine their outputs.\n",
    "        \"\"\"\n",
    "        # Set both models to evaluation mode\n",
    "        self.full_sentence_model.eval()\n",
    "        self.directional_model.eval()\n",
    "        \n",
    "        # Move the input data to the device\n",
    "        input_ids = batch['input_ids'].to(device)\n",
    "        attention_mask = batch['attention_mask'].to(device)\n",
    "        word_indices = batch['word_indices'].to(device)\n",
    "        \n",
    "        # Get the logits from both models\n",
    "        with torch.no_grad():\n",
    "            full_sentence_logits = self.full_sentence_model.forward(input_ids, word_indices)\n",
    "            directional_logits = self.directional_model.forward(input_ids, word_indices)\n",
    "\n",
    "        # Get the predictions from both models\n",
    "        full_sentence_predictions = torch.argmax(full_sentence_logits, dim=2)\n",
    "        directional_predictions = torch.argmax(directional_logits, dim=2)\n",
    "\n",
    "        # Create a mask where predictions disagree\n",
    "        disagreement_mask = full_sentence_predictions != directional_predictions\n",
    "        \n",
    "        # Initialize the combined predictions with zeros (no nikud)\n",
    "        combined_predictions = torch.zeros_like(directional_predictions)\n",
    "        \n",
    "        # Use the full_sentence_model predictions where the two models disagree\n",
    "        combined_predictions[disagreement_mask] = full_sentence_predictions[disagreement_mask]\n",
    "        \n",
    "        # Only select predictions where attention_mask is 1 (i.e., discard padding tokens)\n",
    "        combined_predictions = [combined_predictions[i][attention_mask[i] == 1].tolist() for i in range(combined_predictions.size(0))]\n",
    "        \n",
    "        # Return the combined predictions and word lengths\n",
    "        word_lengths = [word_indices[i][word_indices[i][:, 0] != -1].tolist() for i in range(word_indices.size(0))]\n",
    "        word_lengths = [[y - x + 1 for x, y in sequence] for sequence in word_lengths]\n",
    "        \n",
    "        return combined_predictions, full_sentence_predictions, directional_predictions, word_lengths\n",
    "\n",
    "    \n",
    "    def decode_predictions(self, predictions):\n",
    "        \"\"\" Convert numeric nikud predictions to strings \"\"\"\n",
    "        #return [[self.id_to_label[pred] for pred in sequence] for sequence in predictions]\n",
    "        # like line abve, but if pred not in id_to_label, use 0 as key instead\n",
    "        return [[self.id_to_label.get(pred, '<no_nikud>') for pred in sequence] for sequence in predictions]\n",
    "    \n",
    "    def encode_nikud(self, nikud_strings):\n",
    "        \"\"\" Convert string nikud to their numeric form \"\"\"\n",
    "        return [[self.label_to_id[nik] for nik in sequence] for sequence in nikud_strings]\n",
    "    \n",
    "    def decode_tokens(self, input_ids):\n",
    "        \"\"\" Convert token IDs back to words \"\"\"\n",
    "        return [self.tokenizer.decode(ids, skip_special_tokens=True) for ids in input_ids]\n",
    "    \n",
    "    # go over a given batch and print the results\n",
    "    def display_detailed_prediction_stats(self, batch):\n",
    "        combined_preds, full_preds, directional_preds, word_lengths = self.predict_batch(batch)\n",
    "        nikud = batch['nikud'].to(device)\n",
    "        \n",
    "        for i, (comb_pred, full_pred, dir_pred) in enumerate(zip(combined_preds, full_preds, directional_preds)):\n",
    "            print(f\"\\nPrediction {i}:\")\n",
    "            # print(\"Original nikud:\\n\", nikud[i].tolist())\n",
    "            # print(\"Full sentence model predictions:\\n\", full_pred.tolist())\n",
    "            # print(\"Directional model predictions:\\n\", dir_pred.tolist())\n",
    "            # print(\"Combined predictions:\\n\", comb_pred)\n",
    "            \n",
    "            og_nikud_without_padding = batch['nikud'][i][batch['attention_mask'][i] == 1].to(device)\n",
    "            full_pred_without_padding = full_pred[batch['attention_mask'][i] == 1].to(device)\n",
    "            dir_pred_without_padding = dir_pred[batch['attention_mask'][i] == 1].to(device)\n",
    "            pred_nikud = torch.tensor(comb_pred).to(device)\n",
    "            relevant_attention_mask = batch['attention_mask'][i][:len(comb_pred)]\n",
    "            pred_nikud_without_padding = pred_nikud[relevant_attention_mask == 1].to(device)\n",
    "\n",
    "\n",
    "            print(\"Original nikud without padding:\\n\", og_nikud_without_padding.tolist())\n",
    "            print(\"Full sentence model predictions without padding:\\n\", full_pred_without_padding.tolist())\n",
    "            print(\"Directional model predictions without padding:\\n\", dir_pred_without_padding.tolist())\n",
    "            print(\"Combined predictions without padding:\\n\", pred_nikud_without_padding.tolist())\n",
    "            print(\"Word lengths: {}, in total: {}, nikud length without padding: {}\".format(word_lengths[i], sum(word_lengths[i]), len(og_nikud_without_padding)))\n",
    "\n",
    "            full_model_accuracy = (full_pred_without_padding == og_nikud_without_padding).sum().item() / (len(og_nikud_without_padding) + 1e-10)\n",
    "            directional_model_accuracy = (dir_pred_without_padding == og_nikud_without_padding).sum().item() / (len(og_nikud_without_padding) + 1e-10)\n",
    "            combined_model_accuracy = (pred_nikud_without_padding == og_nikud_without_padding).sum().item() / (len(og_nikud_without_padding) + 1e-10)\n",
    "\n",
    "            print(f\"Full sentence model accuracy: {full_model_accuracy}\")\n",
    "            print(f\"Directional model accuracy: {directional_model_accuracy}\")\n",
    "            print(f\"Combined model accuracy: {combined_model_accuracy}\")\n",
    "\n",
    "            full_model_accuracy_without_no_nikud = (full_pred_without_padding[og_nikud_without_padding != 0] == og_nikud_without_padding[og_nikud_without_padding != 0]).sum().item() / (len(og_nikud_without_padding[og_nikud_without_padding != 0]) + 1e-10)\n",
    "            directional_model_accuracy_without_no_nikud = (dir_pred_without_padding[og_nikud_without_padding != 0] == og_nikud_without_padding[og_nikud_without_padding != 0]).sum().item() / (len(og_nikud_without_padding[og_nikud_without_padding != 0]) + 1e-10)\n",
    "            combined_model_accuracy_without_no_nikud_og = (pred_nikud_without_padding[og_nikud_without_padding != 0] == og_nikud_without_padding[og_nikud_without_padding != 0]).sum().item() / (len(og_nikud_without_padding[og_nikud_without_padding != 0]) + 1e-10)\n",
    "            combined_model_accuracy_without_no_nikud_combined = (pred_nikud_without_padding[pred_nikud_without_padding != 0] == og_nikud_without_padding[pred_nikud_without_padding != 0]).sum().item() / (len(pred_nikud_without_padding[pred_nikud_without_padding != 0]) + 1e-10)\n",
    "\n",
    "            print(f\"Full sentence model accuracy without no nikud: {full_model_accuracy_without_no_nikud}\")\n",
    "            print(f\"Directional model accuracy without no nikud: {directional_model_accuracy_without_no_nikud}\")\n",
    "            print(f\"Combined model accuracy without no nikud: {combined_model_accuracy_without_no_nikud_og}\")\n",
    "            print(f\"Combined model accuracy without no nikud (combined): {combined_model_accuracy_without_no_nikud_combined}\")\n",
    "\n",
    "    # go over a given batch and print the results\n",
    "    def display_readable_prediction_output(self, batch):\n",
    "        combined_preds, full_sentence_predictions, directional_predictions, word_lengths = self.predict_batch(batch)\n",
    "        nikud = batch['nikud']\n",
    "        # convert to list of lists\n",
    "        nikud = nikud.tolist()\n",
    "        # convert numeric nikud to strings using the label_to_id dictionary\n",
    "        decoded_nikud = self.decode_predictions(nikud)\n",
    "        decoded_tokens = self.decode_tokens(batch['input_ids'])\n",
    "        decoded_preds = self.decode_predictions(combined_preds)\n",
    "        decoded_full_sentence_predictions = self.decode_predictions(full_sentence_predictions.tolist())\n",
    "        decoded_directional_predictions = self.decode_predictions(directional_predictions.tolist())\n",
    "        \n",
    "        # iterate over the batch and print the results\n",
    "        for i, (token, pred, nikud, full_pred, dir_pred, word_length) in enumerate(zip(decoded_tokens, decoded_preds, decoded_nikud, decoded_full_sentence_predictions, decoded_directional_predictions, word_lengths)):\n",
    "            print(f\"\\nPrediction {i}:\")\n",
    "            # print(\"Token:\")\n",
    "            # print(token)\n",
    "            # print(\"Original Nikud:\")\n",
    "            # print(nikud)\n",
    "            # print(\"Predicted Nikud:\")\n",
    "            # print(pred)\n",
    "            # print(\"Full sentence model predictions:\")\n",
    "            # print(full_pred)\n",
    "            # print(\"Directional model predictions:\")\n",
    "            # print(dir_pred)\n",
    "\n",
    "            # convert '<no_nikud>' to ''\n",
    "            nikud = [nikud if nikud != '<no_nikud>' else '' for nikud in nikud]\n",
    "     \n",
    "            pred = [nikud if nikud != '<no_nikud>' else '' for nikud in pred]\n",
    " \n",
    "            full_pred = [nikud if nikud != '<no_nikud>' else '' for nikud in full_pred]\n",
    "      \n",
    "            dir_pred = [nikud if nikud != '<no_nikud>' else '' for nikud in dir_pred]\n",
    "       \n",
    "\n",
    "            # add nikud to token\n",
    "            token_with_original_nikud = add_nikud_to_text(token, nikud, word_length)\n",
    "         \n",
    "            token_with_full_sentence_nikud = add_nikud_to_text(token, full_pred, word_length)\n",
    "            token_with_directional_nikud = add_nikud_to_text(token, dir_pred, word_length)\n",
    "            token_with_predicted_nikud = add_nikud_to_text(token, pred, word_length)\n",
    "            print(\"Token with Original Nikud:\")\n",
    "            print(token_with_original_nikud)\n",
    "            print(\"Token with Full Sentence Nikud\")\n",
    "            print(token_with_full_sentence_nikud)\n",
    "            print(\"Token with Directional Nikud\")\n",
    "            print(token_with_directional_nikud)\n",
    "            print(\"Token with Predicted Nikud\")\n",
    "            print(token_with_predicted_nikud)\n",
    "            print(\"-\" * 50)\n",
    "\n",
    "\n",
    "\n",
    "\n",
    "# Usage:\n",
    "duel_model = DuelModel(full_sentence_model, reading_direction_model, alephbert_tokenizer, label_to_id, id_to_label)\n",
    "test_batch = next(iter(test_loader))"
   ]
  },
  {
   "cell_type": "code",
   "execution_count": null,
   "metadata": {},
   "outputs": [],
   "source": [
    "duel_model.display_detailed_prediction_stats(test_batch)"
   ]
  },
  {
   "cell_type": "code",
   "execution_count": null,
   "metadata": {},
   "outputs": [],
   "source": [
    "duel_model.display_readable_prediction_output(test_batch)\n"
   ]
  },
  {
   "cell_type": "markdown",
   "metadata": {},
   "source": [
    "## Evaluation of the dual model"
   ]
  },
  {
   "cell_type": "code",
   "execution_count": null,
   "metadata": {},
   "outputs": [],
   "source": []
  }
 ],
 "metadata": {
  "kernelspec": {
   "display_name": "NLP",
   "language": "python",
   "name": "python3"
  },
  "language_info": {
   "codemirror_mode": {
    "name": "ipython",
    "version": 3
   },
   "file_extension": ".py",
   "mimetype": "text/x-python",
   "name": "python",
   "nbconvert_exporter": "python",
   "pygments_lexer": "ipython3",
   "version": "3.10.11"
  },
  "orig_nbformat": 4
 },
 "nbformat": 4,
 "nbformat_minor": 2
}
